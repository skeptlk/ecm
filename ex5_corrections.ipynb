{
 "cells": [
  {
   "attachments": {},
   "cell_type": "markdown",
   "metadata": {},
   "source": [
    "### **Эксперимент 5.**\n",
    "\n",
    "Рассчитать приведенную температуру (через egt, tat, ... theta) и n1. Отбросить `egt, tat, n1, XF, HPV, NF`.\n",
    "\n",
    "Использовать конфигурацию эксперимента 4. \n",
    "\n",
    "Сохранить и записать использованные константы.\n",
    "\n",
    "Note: выяснилось, что если убрать NF то качество сильно падает. разобраться, почему"
   ]
  },
  {
   "cell_type": "code",
   "execution_count": 1,
   "metadata": {},
   "outputs": [],
   "source": [
    "import pandas as pd\n",
    "from typing import List\n",
    "\n",
    "y_cols = ['egtm']\n",
    "meta_cols = ['reportts', 'acnum', 'pos']\n",
    "features = ['egt', 'tat', 'n1a', 'n2a', 'wai', 'nai', 'prv', 'alt', 'mn', 'ff', 'nf']\n"
   ]
  },
  {
   "cell_type": "code",
   "execution_count": 2,
   "metadata": {},
   "outputs": [],
   "source": [
    "fleet = ['VQ-BGU', 'VQ-BDU']\n",
    "\n",
    "bgu = pd.read_csv('./takeoff-merged-VQ-BGU-30s.csv', parse_dates=['reportts']).dropna(subset=['egtm'])\n",
    "bdu = pd.read_csv('./takeoff-merged-VQ-BDU-30s.csv', parse_dates=['reportts']).dropna(subset=['egtm'])\n",
    "\n",
    "# usecols=(features + y_cols + meta_cols)"
   ]
  },
  {
   "cell_type": "code",
   "execution_count": 3,
   "metadata": {},
   "outputs": [
    {
     "data": {
      "text/html": [
       "<div>\n",
       "<style scoped>\n",
       "    .dataframe tbody tr th:only-of-type {\n",
       "        vertical-align: middle;\n",
       "    }\n",
       "\n",
       "    .dataframe tbody tr th {\n",
       "        vertical-align: top;\n",
       "    }\n",
       "\n",
       "    .dataframe thead th {\n",
       "        text-align: right;\n",
       "    }\n",
       "</style>\n",
       "<table border=\"1\" class=\"dataframe\">\n",
       "  <thead>\n",
       "    <tr style=\"text-align: right;\">\n",
       "      <th></th>\n",
       "      <th>reportts</th>\n",
       "      <th>acnum</th>\n",
       "      <th>pos</th>\n",
       "      <th>egtm</th>\n",
       "      <th>fltdes</th>\n",
       "      <th>dep</th>\n",
       "      <th>arr</th>\n",
       "      <th>ivs12</th>\n",
       "      <th>ibe</th>\n",
       "      <th>iaie</th>\n",
       "      <th>...</th>\n",
       "      <th>votm</th>\n",
       "      <th>vsva</th>\n",
       "      <th>w14</th>\n",
       "      <th>pf</th>\n",
       "      <th>wai</th>\n",
       "      <th>nai</th>\n",
       "      <th>prv</th>\n",
       "      <th>hpv</th>\n",
       "      <th>xf</th>\n",
       "      <th>reason</th>\n",
       "    </tr>\n",
       "  </thead>\n",
       "  <tbody>\n",
       "    <tr>\n",
       "      <th>0</th>\n",
       "      <td>2018-12-24 10:53:22</td>\n",
       "      <td>VQ-BGU</td>\n",
       "      <td>1</td>\n",
       "      <td>44.437</td>\n",
       "      <td>8990.0</td>\n",
       "      <td>EDHI</td>\n",
       "      <td>UUDD</td>\n",
       "      <td>NaN</td>\n",
       "      <td>NaN</td>\n",
       "      <td>NaN</td>\n",
       "      <td>...</td>\n",
       "      <td>NaN</td>\n",
       "      <td>0.0</td>\n",
       "      <td>1160.0</td>\n",
       "      <td>0.53</td>\n",
       "      <td>0.0</td>\n",
       "      <td>0.0</td>\n",
       "      <td>1.0</td>\n",
       "      <td>0.0</td>\n",
       "      <td>0.0</td>\n",
       "      <td>NaN</td>\n",
       "    </tr>\n",
       "    <tr>\n",
       "      <th>1</th>\n",
       "      <td>2018-12-25 15:23:23</td>\n",
       "      <td>VQ-BGU</td>\n",
       "      <td>1</td>\n",
       "      <td>44.379</td>\n",
       "      <td>1024.0</td>\n",
       "      <td>URSS</td>\n",
       "      <td>UUDD</td>\n",
       "      <td>NaN</td>\n",
       "      <td>NaN</td>\n",
       "      <td>NaN</td>\n",
       "      <td>...</td>\n",
       "      <td>NaN</td>\n",
       "      <td>0.0</td>\n",
       "      <td>1179.0</td>\n",
       "      <td>0.53</td>\n",
       "      <td>0.0</td>\n",
       "      <td>0.0</td>\n",
       "      <td>1.0</td>\n",
       "      <td>0.0</td>\n",
       "      <td>0.0</td>\n",
       "      <td>NaN</td>\n",
       "    </tr>\n",
       "    <tr>\n",
       "      <th>2</th>\n",
       "      <td>2018-12-25 20:49:27</td>\n",
       "      <td>VQ-BGU</td>\n",
       "      <td>1</td>\n",
       "      <td>43.742</td>\n",
       "      <td>217.0</td>\n",
       "      <td>UUDD</td>\n",
       "      <td>UNBB</td>\n",
       "      <td>NaN</td>\n",
       "      <td>NaN</td>\n",
       "      <td>NaN</td>\n",
       "      <td>...</td>\n",
       "      <td>NaN</td>\n",
       "      <td>0.0</td>\n",
       "      <td>1302.0</td>\n",
       "      <td>0.51</td>\n",
       "      <td>0.0</td>\n",
       "      <td>0.0</td>\n",
       "      <td>1.0</td>\n",
       "      <td>0.0</td>\n",
       "      <td>0.0</td>\n",
       "      <td>NaN</td>\n",
       "    </tr>\n",
       "  </tbody>\n",
       "</table>\n",
       "<p>3 rows × 212 columns</p>\n",
       "</div>"
      ],
      "text/plain": [
       "             reportts   acnum  pos    egtm  fltdes   dep   arr  ivs12  ibe  \\\n",
       "0 2018-12-24 10:53:22  VQ-BGU    1  44.437  8990.0  EDHI  UUDD    NaN  NaN   \n",
       "1 2018-12-25 15:23:23  VQ-BGU    1  44.379  1024.0  URSS  UUDD    NaN  NaN   \n",
       "2 2018-12-25 20:49:27  VQ-BGU    1  43.742   217.0  UUDD  UNBB    NaN  NaN   \n",
       "\n",
       "   iaie  ...  votm  vsva     w14    pf  wai  nai  prv  hpv   xf  reason  \n",
       "0   NaN  ...   NaN   0.0  1160.0  0.53  0.0  0.0  1.0  0.0  0.0     NaN  \n",
       "1   NaN  ...   NaN   0.0  1179.0  0.53  0.0  0.0  1.0  0.0  0.0     NaN  \n",
       "2   NaN  ...   NaN   0.0  1302.0  0.51  0.0  0.0  1.0  0.0  0.0     NaN  \n",
       "\n",
       "[3 rows x 212 columns]"
      ]
     },
     "execution_count": 3,
     "metadata": {},
     "output_type": "execute_result"
    }
   ],
   "source": [
    "bgu.head(3)"
   ]
  },
  {
   "attachments": {},
   "cell_type": "markdown",
   "metadata": {},
   "source": [
    "#### Подготовка"
   ]
  },
  {
   "cell_type": "code",
   "execution_count": 4,
   "metadata": {},
   "outputs": [],
   "source": [
    "def get_recursive_features(data: List[pd.DataFrame], features = [], n_back = 1):\n",
    "  result = []\n",
    "  rest_features = list(set(data[0].columns) - set(features))\n",
    "  assert len(rest_features + features) == len(data[0].columns)\n",
    "  \n",
    "  for acdata in data:\n",
    "    for pos in [1, 2]:\n",
    "      df = acdata[acdata['pos'] == pos].copy().reset_index()\n",
    "      if df.shape[0] == 0:\n",
    "        continue\n",
    "      X = df[features]\n",
    "      X_aug = X.copy()\n",
    "      for offset in range(1, n_back + 1):\n",
    "        features_back = [f\"{i}_{offset}\" for i in features]\n",
    "        X_aug.loc[0:offset, features_back] =  X.iloc[0,:].to_numpy()\n",
    "        X_aug.loc[offset:, features_back] = X.iloc[:-offset,:].to_numpy()\n",
    "      \n",
    "      X_aug.loc[:, rest_features] = df[rest_features]\n",
    "      result.append(X_aug)\n",
    "  \n",
    "  result = pd.concat(result) \\\n",
    "              .sort_values('reportts' if 'reportts' in rest_features else 'pos') \\\n",
    "              .reset_index() \\\n",
    "              .drop(columns=['index'])\n",
    "  return result"
   ]
  },
  {
   "cell_type": "code",
   "execution_count": 5,
   "metadata": {},
   "outputs": [],
   "source": [
    "def build_dataset(fleet: List[pd.DataFrame], y_cols, meta_cols, features, n_back=1):\n",
    "  return get_recursive_features(\n",
    "    [df[y_cols + meta_cols + features] for df in fleet],\n",
    "    features, \n",
    "    n_back\n",
    "  )"
   ]
  },
  {
   "cell_type": "code",
   "execution_count": 6,
   "metadata": {},
   "outputs": [],
   "source": [
    "data = build_dataset(\n",
    "  [bgu, bdu], \n",
    "  y_cols, \n",
    "  meta_cols, \n",
    "  features,\n",
    "  n_back=13,\n",
    ")"
   ]
  },
  {
   "cell_type": "code",
   "execution_count": 7,
   "metadata": {},
   "outputs": [],
   "source": [
    "from sklearn.linear_model import Ridge\n",
    "from sklearn.metrics import mean_squared_error, mean_absolute_error, r2_score\n",
    "\n",
    "def train_model(X, y, model = 'linreg', alpha=0.2):\n",
    "  assert len(X) == len(y)\n",
    "  train_i = int(len(X) * 75 / 100)\n",
    "  X_train, y_train = X[0:train_i], y[0:train_i]\n",
    "  X_test, y_test = X[train_i:], y[train_i:]\n",
    "\n",
    "  model = Ridge(alpha=alpha)\n",
    "\n",
    "  model.fit(X_train, y_train)\n",
    "\n",
    "  predicted_train = model.predict(X_train)\n",
    "  mse = mean_squared_error(y_train, predicted_train, squared=False)\n",
    "  mae = mean_absolute_error(y_train, predicted_train)\n",
    "  r2 = r2_score(y_train, predicted_train)\n",
    "\n",
    "  predicted_test = model.predict(X_test)\n",
    "  mse = mean_squared_error(y_test, predicted_test, squared=False)\n",
    "  r2 = r2_score(y_test, predicted_test)\n",
    "\n",
    "  return mse, mae, r2, model, predicted_train, predicted_test, train_i, y_test"
   ]
  },
  {
   "cell_type": "code",
   "execution_count": 8,
   "metadata": {},
   "outputs": [],
   "source": [
    "import matplotlib.pyplot as plt\n",
    "\n",
    "# Get exponential rolling average with smothing factor alpha\n",
    "def smooth(x: pd.Series, alpha=0.5):\n",
    "  return pd.Series(x).ewm(alpha=alpha, adjust=False).mean().to_list()\n",
    "\n",
    "def plot_predictions(data, acnum, pos, train_i, predicted_test, predicted_train, is_smooth=True, figsize=(14, 7), title=None):\n",
    "  data.loc[:train_i-1, 'pred_train'] = predicted_train\n",
    "  data.loc[train_i:, 'pred_test'] = predicted_test\n",
    "\n",
    "  sub = data[(data['acnum'] == acnum) & (data['pos'] == pos)]\n",
    "  train_i2 = sub['pred_train'].count()\n",
    "\n",
    "  plt.figure(figsize=figsize)\n",
    "\n",
    "  if is_smooth:\n",
    "    plt.plot(sub['reportts'][:train_i2], smooth(sub['pred_train'][:train_i2], alpha=1/10), '-')\n",
    "    plt.plot(sub['reportts'], smooth(sub['pred_test'], alpha=1/10), '-')\n",
    "  else:\n",
    "    plt.scatter(sub['reportts'][:train_i2], sub['pred_train'][:train_i2], s=2)\n",
    "    plt.scatter(sub['reportts'], sub['pred_test'], s=2)\n",
    "\n",
    "  plt.plot(sub['reportts'], sub['egtm'], '-', color='#2ca02c')\n",
    "\n",
    "  plt.title(f'Linear model of EGTM on {acnum} engine {pos}, Gas path params' if title is None else title)\n",
    "  plt.legend(['train_pred', 'test_pred', 'true'])\n",
    "  plt.show()"
   ]
  },
  {
   "attachments": {},
   "cell_type": "markdown",
   "metadata": {},
   "source": [
    "#### Baseline из эксперимента 4"
   ]
  },
  {
   "cell_type": "code",
   "execution_count": 9,
   "metadata": {},
   "outputs": [],
   "source": [
    "X = data.drop(columns=(meta_cols + y_cols))\n",
    "y = data['egtm']"
   ]
  },
  {
   "cell_type": "code",
   "execution_count": 10,
   "metadata": {},
   "outputs": [
    {
     "name": "stdout",
     "output_type": "stream",
     "text": [
      "Baseline: rmse = 1.768 mae = 1.304 r2 = 0.440\n"
     ]
    }
   ],
   "source": [
    "mse, mae, r2, model, predicted_train, predicted_test, train_i, y_test = train_model(X, y)\n",
    "\n",
    "print(f'Baseline: rmse = {mse:.3f} mae = {mae:.3f} r2 = {r2:.3f}')\n"
   ]
  },
  {
   "attachments": {},
   "cell_type": "markdown",
   "metadata": {},
   "source": [
    "#### Коррекция"
   ]
  },
  {
   "cell_type": "code",
   "execution_count": 11,
   "metadata": {},
   "outputs": [],
   "source": [
    "def correct(data):\n",
    "  theta = (data['tat'] + 273.15) / 288.15\n",
    "\n",
    "  alpha = 0.5\n",
    "\n",
    "  # data = data.copy().drop(columns=['egt'])\n",
    "  # data['n1k'] = data['n1a'] / (theta ** alpha)\n",
    "  # data['n2k'] = data['n2a'] / (theta ** alpha)\n",
    "  data['egtk'] = (data['egt'] + 273.15) / theta\n",
    "\n",
    "  return data\n"
   ]
  },
  {
   "cell_type": "code",
   "execution_count": 12,
   "metadata": {},
   "outputs": [],
   "source": [
    "features = ['egtk', 'tat', 'n1a', 'n2a', 'wai', 'nai', 'prv', 'alt', 'mn', 'ff', 'nf']\n",
    "\n",
    "data = build_dataset(\n",
    "  [correct(bgu), correct(bdu)], \n",
    "  y_cols, \n",
    "  meta_cols, \n",
    "  features,\n",
    "  n_back=13,\n",
    ")"
   ]
  },
  {
   "cell_type": "code",
   "execution_count": 13,
   "metadata": {},
   "outputs": [
    {
     "name": "stdout",
     "output_type": "stream",
     "text": [
      "Baseline: rmse = 1.607 mae = 1.106 r2 = 0.537\n"
     ]
    }
   ],
   "source": [
    "X = data.drop(columns=(meta_cols + y_cols))\n",
    "y = data['egtm']\n",
    "\n",
    "mse, mae, r2, model, predicted_train, predicted_test, train_i, y_test = train_model(X, y)\n",
    "\n",
    "print(f'Baseline: rmse = {mse:.3f} mae = {mae:.3f} r2 = {r2:.3f}')\n"
   ]
  },
  {
   "attachments": {},
   "cell_type": "markdown",
   "metadata": {},
   "source": [
    "Wow, just the egt correction gained us 0.1 increase in R squared!"
   ]
  },
  {
   "cell_type": "code",
   "execution_count": 18,
   "metadata": {},
   "outputs": [
    {
     "data": {
      "image/png": "[encoded data removed]",
      "text/plain": [
       "<Figure size 1000x500 with 1 Axes>"
      ]
     },
     "metadata": {},
     "output_type": "display_data"
    }
   ],
   "source": [
    "plot_predictions(data, 'VQ-BDU', 2, train_i, predicted_test, predicted_train, is_smooth=False, figsize=(10, 5))"
   ]
  },
  {
   "cell_type": "markdown",
   "metadata": {},
   "source": [
    "Попробовать использовать n1p (n1 peak)"
   ]
  },
  {
   "cell_type": "code",
   "execution_count": 29,
   "metadata": {},
   "outputs": [
    {
     "name": "stdout",
     "output_type": "stream",
     "text": [
      "Baseline: rmse = 2.610 mae = 1.499 r2 = -0.220\n"
     ]
    }
   ],
   "source": [
    "features = ['egtk', 'tat', 'n1a', 'n2a', 'wai', 'nai', 'prv', 'alt', 'mn', 'ff', 'nf']\n",
    "\n",
    "data = build_dataset(\n",
    "  [correct(bgu), correct(bdu)], \n",
    "  y_cols, \n",
    "  meta_cols, \n",
    "  features,\n",
    "  n_back=13,\n",
    ")\n",
    "\n",
    "X = data.drop(columns=(meta_cols + y_cols))\n",
    "y = data['egtm']\n",
    "\n",
    "mse, mae, r2, model, predicted_train, predicted_test, train_i, y_test = train_model(X, y)\n",
    "\n",
    "print(f'Baseline: rmse = {mse:.3f} mae = {mae:.3f} r2 = {r2:.3f}')"
   ]
  }
 ],
 "metadata": {
  "kernelspec": {
   "display_name": "Python 3",
   "language": "python",
   "name": "python3"
  },
  "language_info": {
   "codemirror_mode": {
    "name": "ipython",
    "version": 3
   },
   "file_extension": ".py",
   "mimetype": "text/x-python",
   "name": "python",
   "nbconvert_exporter": "python",
   "pygments_lexer": "ipython3",
   "version": "3.1.0"
  },
  "orig_nbformat": 4,
  "vscode": {
   "interpreter": {
    "hash": "e7370f93d1d0cde622a1f8e1c04877d8463912d04d973331ad4851f04de6915a"
   }
  }
 },
 "nbformat": 4,
 "nbformat_minor": 2
}
