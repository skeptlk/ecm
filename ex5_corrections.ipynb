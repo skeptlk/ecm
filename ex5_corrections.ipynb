{
 "cells": [
  {
   "attachments": {},
   "cell_type": "markdown",
   "metadata": {},
   "source": [
    "**Эксперимент 5.**\n",
    "\n",
    "Рассчитать приведенную температуру (через egt, tat,...theta) и n1. Отбросить egt,tat,n1,XF,HPV,NF.\n",
    "\n",
    "Использовать конфигурацию эксперимента 4. \n",
    "\n",
    "Сохранить и записать использованные константы."
   ]
  },
  {
   "cell_type": "code",
   "execution_count": 4,
   "metadata": {},
   "outputs": [],
   "source": [
    "import pandas as pd\n",
    "from typing import List\n",
    "import matplotlib.pyplot as plt\n",
    "\n",
    "selected_params = ['wai', 'nai', 'prv', 'alt', 'mn', 'tat', 'n1a', 'n2a', 'ff', 'egt']"
   ]
  },
  {
   "cell_type": "code",
   "execution_count": 5,
   "metadata": {},
   "outputs": [],
   "source": [
    "fleet = ['VQ-BGU', 'VQ-BDU']\n",
    "\n",
    "bgu = pd.read_csv('./takeoff-merged-VQ-BGU-30s.csv', parse_dates=['reportts']).dropna(subset=['egtm'])\n",
    "bdu = pd.read_csv('./takeoff-merged-VQ-BDU-30s.csv', parse_dates=['reportts']).dropna(subset=['egtm'])\n",
    "\n",
    "data = pd.concat([bgu, bdu]) \\\n",
    "  .drop(columns=['file_path', 'reason']) \\\n",
    "  .sort_values('reportts') \\\n",
    "  .reset_index() \\\n",
    "  .drop(columns=['index'])\n",
    "\n",
    "data = data[data['acnum'].isin(fleet)].dropna(subset=['egtm'])"
   ]
  },
  {
   "cell_type": "code",
   "execution_count": 6,
   "metadata": {},
   "outputs": [],
   "source": [
    "from sklearn.linear_model import Ridge\n",
    "from sklearn.metrics import mean_squared_error, mean_absolute_error, r2_score\n",
    "\n",
    "def train_model(X, y, model = 'linreg', alpha=0.2):\n",
    "  assert len(X) == len(y)\n",
    "  train_i = int(len(X) * 75 / 100)\n",
    "  X_train, y_train = X[0:train_i], y[0:train_i]\n",
    "  X_test, y_test = X[train_i:], y[train_i:]\n",
    "\n",
    "  model = Ridge(alpha=alpha)\n",
    "\n",
    "  model.fit(X_train, y_train)\n",
    "\n",
    "  predicted_train = model.predict(X_train)\n",
    "  mse = mean_squared_error(y_train, predicted_train, squared=False)\n",
    "  mae = mean_absolute_error(y_train, predicted_train)\n",
    "  r2 = r2_score(y_train, predicted_train)\n",
    "\n",
    "  predicted_test = model.predict(X_test)\n",
    "  mse = mean_squared_error(y_test, predicted_test, squared=False)\n",
    "  r2 = r2_score(y_test, predicted_test)\n",
    "\n",
    "  return mse, mae, r2, model, predicted_train, predicted_test, train_i, y_test"
   ]
  },
  {
   "cell_type": "code",
   "execution_count": 7,
   "metadata": {},
   "outputs": [],
   "source": [
    "import matplotlib.pyplot as plt\n",
    "\n",
    "# Get exponential rolling average with smothing factor alpha\n",
    "def smooth(x: pd.Series, alpha=0.5):\n",
    "  return pd.Series(x).ewm(alpha=alpha, adjust=False).mean().to_list()\n",
    "\n",
    "def plot_predictions(data, acnum, pos, train_i, predicted_test, predicted_train, is_smooth=True, figsize=(14, 7), title=None):\n",
    "  data.loc[:train_i-1, 'pred_train'] = predicted_train\n",
    "  data.loc[train_i:, 'pred_test'] = predicted_test\n",
    "\n",
    "  sub = data[(data['acnum'] == acnum) & (data['pos'] == pos)]\n",
    "  train_i2 = sub['pred_train'].count()\n",
    "\n",
    "  plt.figure(figsize=figsize)\n",
    "\n",
    "  if is_smooth:\n",
    "    plt.plot(sub['reportts'][:train_i2], smooth(sub['pred_train'][:train_i2], alpha=1/10), '-')\n",
    "    plt.plot(sub['reportts'], smooth(sub['pred_test'], alpha=1/10), '-')\n",
    "  else:\n",
    "    plt.scatter(sub['reportts'][:train_i2], sub['pred_train'][:train_i2], s=2)\n",
    "    plt.scatter(sub['reportts'], sub['pred_test'], s=2)\n",
    "\n",
    "  plt.plot(sub['reportts'], sub['egtm'], '-', color='#2ca02c')\n",
    "\n",
    "  plt.title(f'Linear model of EGTM on {acnum} engine {pos}, Gas path params' if title is None else title)\n",
    "  plt.legend(['train_pred', 'test_pred', 'true'])\n",
    "  plt.show()"
   ]
  },
  {
   "cell_type": "code",
   "execution_count": 8,
   "metadata": {},
   "outputs": [],
   "source": [
    "X = data[selected_params]\n",
    "y = data['egtm']"
   ]
  },
  {
   "cell_type": "code",
   "execution_count": 9,
   "metadata": {},
   "outputs": [
    {
     "data": {
      "text/plain": [
       "(4.072321959945681, 2.8639060169385218, -1.970310720892376)"
      ]
     },
     "execution_count": 9,
     "metadata": {},
     "output_type": "execute_result"
    }
   ],
   "source": [
    "mse, mae, r2, model, predicted_train, predicted_test, train_i, y_test = train_model(X, y)\n",
    "\n",
    "mse, mae, r2"
   ]
  }
 ],
 "metadata": {
  "kernelspec": {
   "display_name": "Python 3",
   "language": "python",
   "name": "python3"
  },
  "language_info": {
   "codemirror_mode": {
    "name": "ipython",
    "version": 3
   },
   "file_extension": ".py",
   "mimetype": "text/x-python",
   "name": "python",
   "nbconvert_exporter": "python",
   "pygments_lexer": "ipython3",
   "version": "3.11.6"
  },
  "orig_nbformat": 4,
  "vscode": {
   "interpreter": {
    "hash": "e7370f93d1d0cde622a1f8e1c04877d8463912d04d973331ad4851f04de6915a"
   }
  }
 },
 "nbformat": 4,
 "nbformat_minor": 2
}
