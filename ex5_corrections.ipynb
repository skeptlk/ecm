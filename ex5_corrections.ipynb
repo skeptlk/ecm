{
 "cells": [
  {
   "attachments": {},
   "cell_type": "markdown",
   "metadata": {},
   "source": [
    "### **Эксперимент 5.**\n",
    "\n",
    "Рассчитать приведенную температуру (через egt, tat, ... theta) и n1. Отбросить `egt, tat, n1, XF, HPV, NF`.\n",
    "\n",
    "Использовать конфигурацию эксперимента 4. \n",
    "\n",
    "Сохранить и записать использованные константы.\n",
    "\n",
    "Note: выяснилось, что если убрать NF то качество сильно падает. разобраться, почему\n",
    "\n",
    "Note: 'p2e' добавляет точности"
   ]
  },
  {
   "cell_type": "code",
   "execution_count": 17,
   "metadata": {},
   "outputs": [],
   "source": [
    "fleet = ['VQ-BGU', 'VQ-BDU']\n",
    "\n",
    "bgu = pd.read_csv('./takeoff-merged-VQ-BGU-30s.csv', parse_dates=['reportts']).dropna(subset=['egtm'])\n",
    "bdu = pd.read_csv('./takeoff-merged-VQ-BDU-30s.csv', parse_dates=['reportts']).dropna(subset=['egtm'])"
   ]
  },
  {
   "cell_type": "code",
   "execution_count": 18,
   "metadata": {},
   "outputs": [
    {
     "data": {
      "text/html": [
       "<div>\n",
       "<style scoped>\n",
       "    .dataframe tbody tr th:only-of-type {\n",
       "        vertical-align: middle;\n",
       "    }\n",
       "\n",
       "    .dataframe tbody tr th {\n",
       "        vertical-align: top;\n",
       "    }\n",
       "\n",
       "    .dataframe thead th {\n",
       "        text-align: right;\n",
       "    }\n",
       "</style>\n",
       "<table border=\"1\" class=\"dataframe\">\n",
       "  <thead>\n",
       "    <tr style=\"text-align: right;\">\n",
       "      <th></th>\n",
       "      <th>reportts</th>\n",
       "      <th>acnum</th>\n",
       "      <th>pos</th>\n",
       "      <th>egtm</th>\n",
       "      <th>fltdes</th>\n",
       "      <th>dep</th>\n",
       "      <th>arr</th>\n",
       "      <th>ivs12</th>\n",
       "      <th>ibe</th>\n",
       "      <th>iaie</th>\n",
       "      <th>...</th>\n",
       "      <th>votm</th>\n",
       "      <th>vsva</th>\n",
       "      <th>w14</th>\n",
       "      <th>pf</th>\n",
       "      <th>wai</th>\n",
       "      <th>nai</th>\n",
       "      <th>prv</th>\n",
       "      <th>hpv</th>\n",
       "      <th>xf</th>\n",
       "      <th>reason</th>\n",
       "    </tr>\n",
       "  </thead>\n",
       "  <tbody>\n",
       "    <tr>\n",
       "      <th>0</th>\n",
       "      <td>2018-12-24 10:53:22</td>\n",
       "      <td>VQ-BGU</td>\n",
       "      <td>1</td>\n",
       "      <td>44.437</td>\n",
       "      <td>8990.0</td>\n",
       "      <td>EDHI</td>\n",
       "      <td>UUDD</td>\n",
       "      <td>NaN</td>\n",
       "      <td>NaN</td>\n",
       "      <td>NaN</td>\n",
       "      <td>...</td>\n",
       "      <td>NaN</td>\n",
       "      <td>0.0</td>\n",
       "      <td>1160.0</td>\n",
       "      <td>0.53</td>\n",
       "      <td>0.0</td>\n",
       "      <td>0.0</td>\n",
       "      <td>1.0</td>\n",
       "      <td>0.0</td>\n",
       "      <td>0.0</td>\n",
       "      <td>NaN</td>\n",
       "    </tr>\n",
       "    <tr>\n",
       "      <th>1</th>\n",
       "      <td>2018-12-25 15:23:23</td>\n",
       "      <td>VQ-BGU</td>\n",
       "      <td>1</td>\n",
       "      <td>44.379</td>\n",
       "      <td>1024.0</td>\n",
       "      <td>URSS</td>\n",
       "      <td>UUDD</td>\n",
       "      <td>NaN</td>\n",
       "      <td>NaN</td>\n",
       "      <td>NaN</td>\n",
       "      <td>...</td>\n",
       "      <td>NaN</td>\n",
       "      <td>0.0</td>\n",
       "      <td>1179.0</td>\n",
       "      <td>0.53</td>\n",
       "      <td>0.0</td>\n",
       "      <td>0.0</td>\n",
       "      <td>1.0</td>\n",
       "      <td>0.0</td>\n",
       "      <td>0.0</td>\n",
       "      <td>NaN</td>\n",
       "    </tr>\n",
       "    <tr>\n",
       "      <th>2</th>\n",
       "      <td>2018-12-25 20:49:27</td>\n",
       "      <td>VQ-BGU</td>\n",
       "      <td>1</td>\n",
       "      <td>43.742</td>\n",
       "      <td>217.0</td>\n",
       "      <td>UUDD</td>\n",
       "      <td>UNBB</td>\n",
       "      <td>NaN</td>\n",
       "      <td>NaN</td>\n",
       "      <td>NaN</td>\n",
       "      <td>...</td>\n",
       "      <td>NaN</td>\n",
       "      <td>0.0</td>\n",
       "      <td>1302.0</td>\n",
       "      <td>0.51</td>\n",
       "      <td>0.0</td>\n",
       "      <td>0.0</td>\n",
       "      <td>1.0</td>\n",
       "      <td>0.0</td>\n",
       "      <td>0.0</td>\n",
       "      <td>NaN</td>\n",
       "    </tr>\n",
       "  </tbody>\n",
       "</table>\n",
       "<p>3 rows × 212 columns</p>\n",
       "</div>"
      ],
      "text/plain": [
       "             reportts   acnum  pos    egtm  fltdes   dep   arr  ivs12  ibe  \\\n",
       "0 2018-12-24 10:53:22  VQ-BGU    1  44.437  8990.0  EDHI  UUDD    NaN  NaN   \n",
       "1 2018-12-25 15:23:23  VQ-BGU    1  44.379  1024.0  URSS  UUDD    NaN  NaN   \n",
       "2 2018-12-25 20:49:27  VQ-BGU    1  43.742   217.0  UUDD  UNBB    NaN  NaN   \n",
       "\n",
       "   iaie  ...  votm  vsva     w14    pf  wai  nai  prv  hpv   xf  reason  \n",
       "0   NaN  ...   NaN   0.0  1160.0  0.53  0.0  0.0  1.0  0.0  0.0     NaN  \n",
       "1   NaN  ...   NaN   0.0  1179.0  0.53  0.0  0.0  1.0  0.0  0.0     NaN  \n",
       "2   NaN  ...   NaN   0.0  1302.0  0.51  0.0  0.0  1.0  0.0  0.0     NaN  \n",
       "\n",
       "[3 rows x 212 columns]"
      ]
     },
     "execution_count": 18,
     "metadata": {},
     "output_type": "execute_result"
    }
   ],
   "source": [
    "bgu.head(3)"
   ]
  },
  {
   "attachments": {},
   "cell_type": "markdown",
   "metadata": {},
   "source": [
    "#### Подготовка"
   ]
  },
  {
   "cell_type": "code",
   "execution_count": 32,
   "metadata": {},
   "outputs": [],
   "source": [
    "import pandas as pd\n",
    "from utils import *\n",
    "from training import *\n",
    "\n",
    "y_cols = ['egtm']\n",
    "meta_cols = ['reportts', 'acnum', 'pos']\n",
    "features = ['egt', 'tat', 'n1a', 'n2a', 'wai', 'nai', 'prv', 'alt', 'mn', 'ff', 'nf']\n",
    "\n",
    "data = build_dataset(\n",
    "  [bgu, bdu], \n",
    "  y_cols, \n",
    "  meta_cols, \n",
    "  features,\n",
    "  n_back=13,\n",
    ")"
   ]
  },
  {
   "cell_type": "code",
   "execution_count": 36,
   "metadata": {},
   "outputs": [
    {
     "name": "stdout",
     "output_type": "stream",
     "text": [
      "1.0001104543519546\n"
     ]
    },
    {
     "data": {
      "image/png": "[encoded data removed]",
      "text/plain": [
       "<Figure size 800x300 with 1 Axes>"
      ]
     },
     "metadata": {},
     "output_type": "display_data"
    }
   ],
   "source": [
    "import matplotlib.pyplot as plt\n",
    "\n",
    "print((data['nf'] / data['n1a']).mean())\n",
    "\n",
    "plt.figure(figsize=(8, 3))\n",
    "sub = data[(data['pos'] == 2) & (data['acnum'] == 'VQ-BDU')]\n",
    "plt.scatter(sub['reportts'], sub['n1a'] / sub['nf'], s=1)\n",
    "plt.show()"
   ]
  },
  {
   "cell_type": "code",
   "execution_count": 44,
   "metadata": {},
   "outputs": [],
   "source": [
    "from sklearn.linear_model import LinearRegression\n",
    "\n",
    "def train_model(X, y, model = 'linreg'):\n",
    "  assert len(X) == len(y)\n",
    "  train_i = int(len(X) * 75 / 100)\n",
    "  X_train, y_train = X[0:train_i], y[0:train_i]\n",
    "  X_test, y_test = X[train_i:], y[train_i:]\n",
    "\n",
    "  model = LinearRegression()\n",
    "  model.fit(X_train, y_train)\n",
    "\n",
    "  predicted_train = model.predict(X_train)\n",
    "  predicted_test = model.predict(X_test)\n",
    "\n",
    "  return get_metrics(y_test, predicted_test), model, predicted_train, predicted_test, train_i, y_test"
   ]
  },
  {
   "attachments": {},
   "cell_type": "markdown",
   "metadata": {},
   "source": [
    "#### Baseline из эксперимента 4"
   ]
  },
  {
   "cell_type": "code",
   "execution_count": 22,
   "metadata": {},
   "outputs": [],
   "source": [
    "X = data.drop(columns=(meta_cols + y_cols))\n",
    "y = data['egtm']"
   ]
  },
  {
   "cell_type": "code",
   "execution_count": 23,
   "metadata": {},
   "outputs": [
    {
     "name": "stdout",
     "output_type": "stream",
     "text": [
      "Baseline: {'rmse': 1.76995, 'mae': 1.45069, 'r2': 0.4389, 'mape': 0.07045}\n"
     ]
    }
   ],
   "source": [
    "metrics, model, predicted_train, predicted_test, train_i, y_test = train_model(X, y)\n",
    "\n",
    "print(f'Baseline: {metrics}')\n"
   ]
  },
  {
   "attachments": {},
   "cell_type": "markdown",
   "metadata": {},
   "source": [
    "#### Коррекция"
   ]
  },
  {
   "cell_type": "code",
   "execution_count": 39,
   "metadata": {},
   "outputs": [
    {
     "data": {
      "image/png": "[encoded data removed]",
      "text/plain": [
       "<Figure size 700x300 with 1 Axes>"
      ]
     },
     "metadata": {},
     "output_type": "display_data"
    }
   ],
   "source": [
    "theta = (data['tat'] + 273.15) / 288.15\n",
    "alpha = 0.5\n",
    "\n",
    "data['n1k'] = data['n1a'] / (theta ** alpha)\n",
    "plt.figure(figsize=(7, 3))\n",
    "plt.scatter(data['reportts'], data['n1k'], s=1)\n",
    "plt.show()"
   ]
  },
  {
   "cell_type": "code",
   "execution_count": 51,
   "metadata": {},
   "outputs": [],
   "source": [
    "def correct(data):\n",
    "  datak = data.copy()\n",
    "  alpha = 0.5\n",
    "  theta = (data['tat'] + 273.15) / 288.15\n",
    "  delta = data['p2e'] + 1013.25\n",
    "\n",
    "  datak['nfk'] = data['nf'] / (theta ** alpha)\n",
    "  datak['n1ak'] = data['n1a'] / (theta ** alpha)\n",
    "  datak['n2ak'] = data['n2a'] / (theta ** alpha)\n",
    "  datak['egtk'] = (data['egt'] + 273.15) / theta\n",
    "  datak['ffk'] = (data['ff']) / (delta * (theta ** alpha))\n",
    "\n",
    "  return datak\n"
   ]
  },
  {
   "cell_type": "code",
   "execution_count": 45,
   "metadata": {},
   "outputs": [
    {
     "name": "stdout",
     "output_type": "stream",
     "text": [
      "EGT + FF corrections: {'rmse': 1.59199, 'mae': 1.30928, 'r2': 0.54606, 'mape': 0.06327}\n"
     ]
    }
   ],
   "source": [
    "features = ['egtk', 'tat', 'n1a', 'n2a', 'wai', 'nai', 'prv', 'alt', 'mn', 'ffk', 'nf']\n",
    "\n",
    "data = build_dataset(\n",
    "  [correct(bgu), correct(bdu)], \n",
    "  y_cols, \n",
    "  meta_cols, \n",
    "  features,\n",
    "  n_back=13,\n",
    ")\n",
    "\n",
    "X = data.drop(columns=(meta_cols + y_cols))\n",
    "y = data['egtm']\n",
    "\n",
    "metrics, model, predicted_train, predicted_test, train_i, y_test = train_model(X, y)\n",
    "\n",
    "print(f'EGT + FF corrections: {metrics}')\n"
   ]
  },
  {
   "attachments": {},
   "cell_type": "markdown",
   "metadata": {},
   "source": [
    "Wow, just the egt + fuel flow correction gained us 0.1 increase in R squared!\n",
    "\n",
    "N1, N2, NF corrections give worse results fow unknown reason"
   ]
  },
  {
   "cell_type": "markdown",
   "metadata": {},
   "source": [
    "Comparison of corrections: "
   ]
  },
  {
   "cell_type": "code",
   "execution_count": 52,
   "metadata": {},
   "outputs": [
    {
     "data": {
      "text/html": [
       "<div>\n",
       "<style scoped>\n",
       "    .dataframe tbody tr th:only-of-type {\n",
       "        vertical-align: middle;\n",
       "    }\n",
       "\n",
       "    .dataframe tbody tr th {\n",
       "        vertical-align: top;\n",
       "    }\n",
       "\n",
       "    .dataframe thead th {\n",
       "        text-align: right;\n",
       "    }\n",
       "</style>\n",
       "<table border=\"1\" class=\"dataframe\">\n",
       "  <thead>\n",
       "    <tr style=\"text-align: right;\">\n",
       "      <th></th>\n",
       "      <th>rmse</th>\n",
       "      <th>mae</th>\n",
       "      <th>r2</th>\n",
       "      <th>mape</th>\n",
       "      <th>name</th>\n",
       "    </tr>\n",
       "  </thead>\n",
       "  <tbody>\n",
       "    <tr>\n",
       "      <th>0</th>\n",
       "      <td>1.60954</td>\n",
       "      <td>1.32359</td>\n",
       "      <td>0.53600</td>\n",
       "      <td>0.06398</td>\n",
       "      <td>EGT</td>\n",
       "    </tr>\n",
       "    <tr>\n",
       "      <th>1</th>\n",
       "      <td>2.75021</td>\n",
       "      <td>2.23819</td>\n",
       "      <td>-0.35472</td>\n",
       "      <td>0.10826</td>\n",
       "      <td>N1A</td>\n",
       "    </tr>\n",
       "    <tr>\n",
       "      <th>2</th>\n",
       "      <td>2.11132</td>\n",
       "      <td>1.70859</td>\n",
       "      <td>0.20159</td>\n",
       "      <td>0.08319</td>\n",
       "      <td>N2A</td>\n",
       "    </tr>\n",
       "    <tr>\n",
       "      <th>3</th>\n",
       "      <td>1.71181</td>\n",
       "      <td>1.40573</td>\n",
       "      <td>0.47516</td>\n",
       "      <td>0.06818</td>\n",
       "      <td>FF</td>\n",
       "    </tr>\n",
       "  </tbody>\n",
       "</table>\n",
       "</div>"
      ],
      "text/plain": [
       "      rmse      mae       r2     mape name\n",
       "0  1.60954  1.32359  0.53600  0.06398  EGT\n",
       "1  2.75021  2.23819 -0.35472  0.10826  N1A\n",
       "2  2.11132  1.70859  0.20159  0.08319  N2A\n",
       "3  1.71181  1.40573  0.47516  0.06818   FF"
      ]
     },
     "execution_count": 52,
     "metadata": {},
     "output_type": "execute_result"
    }
   ],
   "source": [
    "features = ['egt', 'n1a', 'n2a', 'ff', 'nf', 'tat', 'wai', 'nai', 'prv', 'alt', 'mn']\n",
    "\n",
    "corrected = [correct(bgu), correct(bdu)]\n",
    "\n",
    "history = []\n",
    "\n",
    "for param in ['egt', 'n1a', 'n2a', 'ff']:\n",
    "  cur_features = [f'{param}k' if i == param else i for i in features]\n",
    "\n",
    "  data = build_dataset(\n",
    "    corrected,\n",
    "    y_cols, \n",
    "    meta_cols, \n",
    "    cur_features,\n",
    "    n_back=13,\n",
    "  )\n",
    "\n",
    "  X = data.drop(columns=(meta_cols + y_cols))\n",
    "  y = data['egtm']\n",
    "\n",
    "  metrics, model, predicted_train, predicted_test, train_i, y_test = train_model(X, y)\n",
    "\n",
    "  metrics['name'] = param.upper()\n",
    "  history.append(metrics)\n",
    "\n",
    "pd.DataFrame(history)"
   ]
  },
  {
   "cell_type": "code",
   "execution_count": 28,
   "metadata": {},
   "outputs": [],
   "source": [
    "# plot_predictions(data, 'VQ-BDU', 2, train_i, predicted_test, predicted_train, is_smooth=False)"
   ]
  },
  {
   "cell_type": "code",
   "execution_count": 29,
   "metadata": {},
   "outputs": [
    {
     "name": "stdout",
     "output_type": "stream",
     "text": [
      "Baseline: {'rmse': 1.65016, 'mae': 1.3594, 'r2': 0.51228, 'mape': 0.06572}\n"
     ]
    }
   ],
   "source": [
    "features = ['egtk', 'tat', 'n1k', 'n2k', 'wai', 'nai', 'prv', 'alt', 'mn', 'ff', 'nfk']\n",
    "\n",
    "data = build_dataset(\n",
    "  [correct(bgu), correct(bdu)], \n",
    "  y_cols, \n",
    "  meta_cols, \n",
    "  features,\n",
    "  n_back=13,\n",
    ")\n",
    "\n",
    "X = data.drop(columns=(meta_cols + y_cols))\n",
    "y = data['egtm']\n",
    "\n",
    "metrics, model, predicted_train, predicted_test, train_i, y_test = train_model(X, y)\n",
    "\n",
    "print(f'Baseline: {metrics}')"
   ]
  }
 ],
 "metadata": {
  "kernelspec": {
   "display_name": "recsys",
   "language": "python",
   "name": "python3"
  },
  "language_info": {
   "codemirror_mode": {
    "name": "ipython",
    "version": 3
   },
   "file_extension": ".py",
   "mimetype": "text/x-python",
   "name": "python",
   "nbconvert_exporter": "python",
   "pygments_lexer": "ipython3",
   "version": "3.1.0"
  },
  "orig_nbformat": 4,
  "vscode": {
   "interpreter": {
    "hash": "8ff27b20a45684c9bdecad1b6a847c26994a0603bb60e53a026c6c4c0a29dbc5"
   }
  }
 },
 "nbformat": 4,
 "nbformat_minor": 2
}
