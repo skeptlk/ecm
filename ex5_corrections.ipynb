{
 "cells": [
  {
   "attachments": {},
   "cell_type": "markdown",
   "metadata": {},
   "source": [
    "### **Эксперимент 5.**\n",
    "\n",
    "Рассчитать приведенную температуру (через egt, tat, ... theta) и n1. Отбросить `egt, tat, n1, XF, HPV, NF`.\n",
    "\n",
    "Использовать конфигурацию эксперимента 4. \n",
    "\n",
    "Сохранить и записать использованные константы.\n",
    "\n",
    "Note: выяснилось, что если убрать NF то качество сильно падает. разобраться, почему"
   ]
  },
  {
   "cell_type": "code",
   "execution_count": 1,
   "metadata": {},
   "outputs": [],
   "source": [
    "import pandas as pd\n",
    "from typing import List\n",
    "\n",
    "y_cols = ['egtm']\n",
    "meta_cols = ['reportts', 'acnum', 'pos']\n",
    "selected_params = ['egt', 'tat', 'n1a', 'n2a', 'wai', 'nai', 'prv', 'alt', 'mn', 'ff', 'nf']\n"
   ]
  },
  {
   "cell_type": "code",
   "execution_count": 2,
   "metadata": {},
   "outputs": [],
   "source": [
    "fleet = ['VQ-BGU', 'VQ-BDU']\n",
    "\n",
    "bgu = pd.read_csv('./takeoff-merged-VQ-BGU-30s.csv', \\\n",
    "  usecols=(selected_params + y_cols + meta_cols), parse_dates=['reportts']).dropna(subset=['egtm'])\n",
    "bdu = pd.read_csv('./takeoff-merged-VQ-BDU-30s.csv', \\\n",
    "  usecols=(selected_params + y_cols + meta_cols), parse_dates=['reportts']).dropna(subset=['egtm'])\n"
   ]
  },
  {
   "cell_type": "code",
   "execution_count": 3,
   "metadata": {},
   "outputs": [
    {
     "data": {
      "text/html": [
       "<div>\n",
       "<style scoped>\n",
       "    .dataframe tbody tr th:only-of-type {\n",
       "        vertical-align: middle;\n",
       "    }\n",
       "\n",
       "    .dataframe tbody tr th {\n",
       "        vertical-align: top;\n",
       "    }\n",
       "\n",
       "    .dataframe thead th {\n",
       "        text-align: right;\n",
       "    }\n",
       "</style>\n",
       "<table border=\"1\" class=\"dataframe\">\n",
       "  <thead>\n",
       "    <tr style=\"text-align: right;\">\n",
       "      <th></th>\n",
       "      <th>reportts</th>\n",
       "      <th>acnum</th>\n",
       "      <th>pos</th>\n",
       "      <th>egtm</th>\n",
       "      <th>alt</th>\n",
       "      <th>egt</th>\n",
       "      <th>ff</th>\n",
       "      <th>mn</th>\n",
       "      <th>n1a</th>\n",
       "      <th>n2a</th>\n",
       "      <th>nf</th>\n",
       "      <th>tat</th>\n",
       "      <th>wai</th>\n",
       "      <th>nai</th>\n",
       "      <th>prv</th>\n",
       "    </tr>\n",
       "  </thead>\n",
       "  <tbody>\n",
       "    <tr>\n",
       "      <th>0</th>\n",
       "      <td>2018-12-24 10:53:22</td>\n",
       "      <td>VQ-BGU</td>\n",
       "      <td>1</td>\n",
       "      <td>44.437</td>\n",
       "      <td>1418.0</td>\n",
       "      <td>800.1</td>\n",
       "      <td>2783.0</td>\n",
       "      <td>0.257</td>\n",
       "      <td>77.95</td>\n",
       "      <td>87.63</td>\n",
       "      <td>77.92</td>\n",
       "      <td>2.0</td>\n",
       "      <td>0.0</td>\n",
       "      <td>0.0</td>\n",
       "      <td>1.0</td>\n",
       "    </tr>\n",
       "    <tr>\n",
       "      <th>1</th>\n",
       "      <td>2018-12-25 15:23:23</td>\n",
       "      <td>VQ-BGU</td>\n",
       "      <td>1</td>\n",
       "      <td>44.379</td>\n",
       "      <td>2005.0</td>\n",
       "      <td>851.4</td>\n",
       "      <td>3185.0</td>\n",
       "      <td>0.254</td>\n",
       "      <td>82.70</td>\n",
       "      <td>90.22</td>\n",
       "      <td>82.71</td>\n",
       "      <td>10.2</td>\n",
       "      <td>0.0</td>\n",
       "      <td>0.0</td>\n",
       "      <td>1.0</td>\n",
       "    </tr>\n",
       "    <tr>\n",
       "      <th>2</th>\n",
       "      <td>2018-12-25 20:49:27</td>\n",
       "      <td>VQ-BGU</td>\n",
       "      <td>1</td>\n",
       "      <td>43.742</td>\n",
       "      <td>1739.0</td>\n",
       "      <td>851.6</td>\n",
       "      <td>3637.0</td>\n",
       "      <td>0.262</td>\n",
       "      <td>86.02</td>\n",
       "      <td>89.57</td>\n",
       "      <td>86.10</td>\n",
       "      <td>-7.2</td>\n",
       "      <td>0.0</td>\n",
       "      <td>0.0</td>\n",
       "      <td>1.0</td>\n",
       "    </tr>\n",
       "    <tr>\n",
       "      <th>3</th>\n",
       "      <td>2018-12-26 11:42:26</td>\n",
       "      <td>VQ-BGU</td>\n",
       "      <td>1</td>\n",
       "      <td>46.443</td>\n",
       "      <td>1672.0</td>\n",
       "      <td>826.3</td>\n",
       "      <td>3298.0</td>\n",
       "      <td>0.250</td>\n",
       "      <td>83.73</td>\n",
       "      <td>88.74</td>\n",
       "      <td>83.79</td>\n",
       "      <td>-6.2</td>\n",
       "      <td>0.0</td>\n",
       "      <td>1.0</td>\n",
       "      <td>0.0</td>\n",
       "    </tr>\n",
       "    <tr>\n",
       "      <th>4</th>\n",
       "      <td>2018-12-26 15:19:13</td>\n",
       "      <td>VQ-BGU</td>\n",
       "      <td>1</td>\n",
       "      <td>47.660</td>\n",
       "      <td>934.0</td>\n",
       "      <td>789.5</td>\n",
       "      <td>2749.0</td>\n",
       "      <td>0.220</td>\n",
       "      <td>78.14</td>\n",
       "      <td>87.68</td>\n",
       "      <td>78.11</td>\n",
       "      <td>5.2</td>\n",
       "      <td>0.0</td>\n",
       "      <td>0.0</td>\n",
       "      <td>0.0</td>\n",
       "    </tr>\n",
       "  </tbody>\n",
       "</table>\n",
       "</div>"
      ],
      "text/plain": [
       "             reportts   acnum  pos    egtm     alt    egt      ff     mn   \n",
       "0 2018-12-24 10:53:22  VQ-BGU    1  44.437  1418.0  800.1  2783.0  0.257  \\\n",
       "1 2018-12-25 15:23:23  VQ-BGU    1  44.379  2005.0  851.4  3185.0  0.254   \n",
       "2 2018-12-25 20:49:27  VQ-BGU    1  43.742  1739.0  851.6  3637.0  0.262   \n",
       "3 2018-12-26 11:42:26  VQ-BGU    1  46.443  1672.0  826.3  3298.0  0.250   \n",
       "4 2018-12-26 15:19:13  VQ-BGU    1  47.660   934.0  789.5  2749.0  0.220   \n",
       "\n",
       "     n1a    n2a     nf   tat  wai  nai  prv  \n",
       "0  77.95  87.63  77.92   2.0  0.0  0.0  1.0  \n",
       "1  82.70  90.22  82.71  10.2  0.0  0.0  1.0  \n",
       "2  86.02  89.57  86.10  -7.2  0.0  0.0  1.0  \n",
       "3  83.73  88.74  83.79  -6.2  0.0  1.0  0.0  \n",
       "4  78.14  87.68  78.11   5.2  0.0  0.0  0.0  "
      ]
     },
     "execution_count": 3,
     "metadata": {},
     "output_type": "execute_result"
    }
   ],
   "source": [
    "bgu.head()"
   ]
  },
  {
   "attachments": {},
   "cell_type": "markdown",
   "metadata": {},
   "source": [
    "#### Подготовка"
   ]
  },
  {
   "cell_type": "code",
   "execution_count": 4,
   "metadata": {},
   "outputs": [],
   "source": [
    "def get_recursive_features(data: List[pd.DataFrame], features = [], n_back = 1):\n",
    "  result = []\n",
    "  rest_features = list(set(data[0].columns) - set(features))\n",
    "  assert len(rest_features + features) == len(data[0].columns)\n",
    "  \n",
    "  for acdata in data:\n",
    "    for pos in [1, 2]:\n",
    "      df = acdata[acdata['pos'] == pos].copy().reset_index()\n",
    "      if df.shape[0] == 0:\n",
    "        continue\n",
    "      X = df[features]\n",
    "      X_aug = X.copy()\n",
    "      for offset in range(1, n_back + 1):\n",
    "        features_back = [f\"{i}_{offset}\" for i in features]\n",
    "        X_aug.loc[0:offset, features_back] =  X.iloc[0,:].to_numpy()\n",
    "        X_aug.loc[offset:, features_back] = X.iloc[:-offset,:].to_numpy()\n",
    "      \n",
    "      X_aug.loc[:, rest_features] = df[rest_features]\n",
    "      result.append(X_aug)\n",
    "  \n",
    "  result = pd.concat(result) \\\n",
    "              .sort_values('reportts' if 'reportts' in rest_features else 'pos') \\\n",
    "              .reset_index() \\\n",
    "              .drop(columns=['index'])\n",
    "  return result"
   ]
  },
  {
   "cell_type": "code",
   "execution_count": 5,
   "metadata": {},
   "outputs": [],
   "source": [
    "data = get_recursive_features(\n",
    "  [bgu, bdu], \n",
    "  n_back=13,\n",
    "  features=selected_params\n",
    ")"
   ]
  },
  {
   "cell_type": "code",
   "execution_count": 6,
   "metadata": {},
   "outputs": [],
   "source": [
    "from sklearn.linear_model import Ridge\n",
    "from sklearn.metrics import mean_squared_error, mean_absolute_error, r2_score\n",
    "\n",
    "def train_model(X, y, model = 'linreg', alpha=0.2):\n",
    "  assert len(X) == len(y)\n",
    "  train_i = int(len(X) * 75 / 100)\n",
    "  X_train, y_train = X[0:train_i], y[0:train_i]\n",
    "  X_test, y_test = X[train_i:], y[train_i:]\n",
    "\n",
    "  model = Ridge(alpha=alpha)\n",
    "\n",
    "  model.fit(X_train, y_train)\n",
    "\n",
    "  predicted_train = model.predict(X_train)\n",
    "  mse = mean_squared_error(y_train, predicted_train, squared=False)\n",
    "  mae = mean_absolute_error(y_train, predicted_train)\n",
    "  r2 = r2_score(y_train, predicted_train)\n",
    "\n",
    "  predicted_test = model.predict(X_test)\n",
    "  mse = mean_squared_error(y_test, predicted_test, squared=False)\n",
    "  r2 = r2_score(y_test, predicted_test)\n",
    "\n",
    "  return mse, mae, r2, model, predicted_train, predicted_test, train_i, y_test"
   ]
  },
  {
   "cell_type": "code",
   "execution_count": 7,
   "metadata": {},
   "outputs": [],
   "source": [
    "import matplotlib.pyplot as plt\n",
    "\n",
    "# Get exponential rolling average with smothing factor alpha\n",
    "def smooth(x: pd.Series, alpha=0.5):\n",
    "  return pd.Series(x).ewm(alpha=alpha, adjust=False).mean().to_list()\n",
    "\n",
    "def plot_predictions(data, acnum, pos, train_i, predicted_test, predicted_train, is_smooth=True, figsize=(14, 7), title=None):\n",
    "  data.loc[:train_i-1, 'pred_train'] = predicted_train\n",
    "  data.loc[train_i:, 'pred_test'] = predicted_test\n",
    "\n",
    "  sub = data[(data['acnum'] == acnum) & (data['pos'] == pos)]\n",
    "  train_i2 = sub['pred_train'].count()\n",
    "\n",
    "  plt.figure(figsize=figsize)\n",
    "\n",
    "  if is_smooth:\n",
    "    plt.plot(sub['reportts'][:train_i2], smooth(sub['pred_train'][:train_i2], alpha=1/10), '-')\n",
    "    plt.plot(sub['reportts'], smooth(sub['pred_test'], alpha=1/10), '-')\n",
    "  else:\n",
    "    plt.scatter(sub['reportts'][:train_i2], sub['pred_train'][:train_i2], s=2)\n",
    "    plt.scatter(sub['reportts'], sub['pred_test'], s=2)\n",
    "\n",
    "  plt.plot(sub['reportts'], sub['egtm'], '-', color='#2ca02c')\n",
    "\n",
    "  plt.title(f'Linear model of EGTM on {acnum} engine {pos}, Gas path params' if title is None else title)\n",
    "  plt.legend(['train_pred', 'test_pred', 'true'])\n",
    "  plt.show()"
   ]
  },
  {
   "attachments": {},
   "cell_type": "markdown",
   "metadata": {},
   "source": [
    "#### Baseline из эксперимента 4"
   ]
  },
  {
   "cell_type": "code",
   "execution_count": 8,
   "metadata": {},
   "outputs": [],
   "source": [
    "X = data.drop(columns=(meta_cols + y_cols))\n",
    "y = data['egtm']"
   ]
  },
  {
   "cell_type": "code",
   "execution_count": 9,
   "metadata": {},
   "outputs": [
    {
     "name": "stdout",
     "output_type": "stream",
     "text": [
      "Baseline: rmse = 1.768 mae = 1.304 r2 = 0.440\n"
     ]
    }
   ],
   "source": [
    "mse, mae, r2, model, predicted_train, predicted_test, train_i, y_test = train_model(X, y)\n",
    "\n",
    "print(f'Baseline: rmse = {mse:.3f} mae = {mae:.3f} r2 = {r2:.3f}')\n"
   ]
  },
  {
   "attachments": {},
   "cell_type": "markdown",
   "metadata": {},
   "source": [
    "#### Коррекция"
   ]
  },
  {
   "cell_type": "code",
   "execution_count": 10,
   "metadata": {},
   "outputs": [],
   "source": [
    "def correct(data):\n",
    "  theta = (data['tat'] + 273.15) / 288.15\n",
    "\n",
    "  alpha = 0.5\n",
    "\n",
    "  data_k = data.copy().drop(columns=['egt'])\n",
    "  # data_k['n1k'] = data['n1a'] / (theta ** alpha)\n",
    "  # data_k['n2k'] = data['n2a'] / (theta ** alpha)\n",
    "  data_k['egtk'] = (data['egt'] + 273.15) / theta\n",
    "\n",
    "  return data_k\n"
   ]
  },
  {
   "cell_type": "code",
   "execution_count": 11,
   "metadata": {},
   "outputs": [],
   "source": [
    "selected_params = ['egtk', 'tat', 'n1a', 'n2a', 'wai', 'nai', 'prv', 'alt', 'mn', 'ff', 'nf']\n",
    "\n",
    "data = get_recursive_features(\n",
    "  [correct(bgu), correct(bdu)], \n",
    "  n_back=13,\n",
    "  features=selected_params\n",
    ")\n"
   ]
  },
  {
   "cell_type": "code",
   "execution_count": 12,
   "metadata": {},
   "outputs": [
    {
     "name": "stdout",
     "output_type": "stream",
     "text": [
      "Baseline: rmse = 1.607 mae = 1.106 r2 = 0.537\n"
     ]
    }
   ],
   "source": [
    "X = data.drop(columns=(meta_cols + y_cols))\n",
    "y = data['egtm']\n",
    "\n",
    "mse, mae, r2, model, predicted_train, predicted_test, train_i, y_test = train_model(X, y)\n",
    "\n",
    "print(f'Baseline: rmse = {mse:.3f} mae = {mae:.3f} r2 = {r2:.3f}')\n"
   ]
  },
  {
   "attachments": {},
   "cell_type": "markdown",
   "metadata": {},
   "source": [
    "Wow, just the egt correction gained us 0.1 increase in R squared!"
   ]
  }
 ],
 "metadata": {
  "kernelspec": {
   "display_name": "Python 3",
   "language": "python",
   "name": "python3"
  },
  "language_info": {
   "codemirror_mode": {
    "name": "ipython",
    "version": 3
   },
   "file_extension": ".py",
   "mimetype": "text/x-python",
   "name": "python",
   "nbconvert_exporter": "python",
   "pygments_lexer": "ipython3",
   "version": "3.11.6"
  },
  "orig_nbformat": 4,
  "vscode": {
   "interpreter": {
    "hash": "e7370f93d1d0cde622a1f8e1c04877d8463912d04d973331ad4851f04de6915a"
   }
  }
 },
 "nbformat": 4,
 "nbformat_minor": 2
}
