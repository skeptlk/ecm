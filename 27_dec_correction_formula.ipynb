{
 "cells": [
  {
   "cell_type": "markdown",
   "metadata": {},
   "source": [
    "Цель: определить параметры формулы, используемой в EngineWise для коррекции"
   ]
  },
  {
   "cell_type": "code",
   "execution_count": 37,
   "metadata": {},
   "outputs": [],
   "source": [
    "import pandas as pd\n",
    "from sklearn.metrics import mean_absolute_error\n",
    "\n",
    "data = pd.read_csv('./takeoff-merged-VQ-BDU-30s.csv', parse_dates=['reportts'])"
   ]
  },
  {
   "cell_type": "markdown",
   "metadata": {},
   "source": [
    "Columns: N1 (unbiased), N1C2 (corrected)"
   ]
  },
  {
   "cell_type": "code",
   "execution_count": 38,
   "metadata": {},
   "outputs": [],
   "source": [
    "X = data[['n1', 'n1c2']]"
   ]
  },
  {
   "cell_type": "markdown",
   "metadata": {},
   "source": [
    "MAE Original:"
   ]
  },
  {
   "cell_type": "code",
   "execution_count": 39,
   "metadata": {},
   "outputs": [
    {
     "data": {
      "text/plain": [
       "1.6533633776091081"
      ]
     },
     "execution_count": 39,
     "metadata": {},
     "output_type": "execute_result"
    }
   ],
   "source": [
    "mean_absolute_error(X['n1'], X['n1c2'])"
   ]
  },
  {
   "cell_type": "markdown",
   "metadata": {},
   "source": [
    "#### Theta factor correction"
   ]
  },
  {
   "cell_type": "code",
   "execution_count": 42,
   "metadata": {},
   "outputs": [
    {
     "data": {
      "text/plain": [
       "0.38439573866562365"
      ]
     },
     "execution_count": 42,
     "metadata": {},
     "output_type": "execute_result"
    }
   ],
   "source": [
    "theta = (data['tat'] + 273.15) / 288.15\n",
    "\n",
    "alpha = 0.5\n",
    "\n",
    "n1k = X['n1'] / (theta ** alpha)\n",
    "\n",
    "mean_absolute_error(n1k, X['n1c2'])"
   ]
  },
  {
   "cell_type": "markdown",
   "metadata": {},
   "source": [
    "Now let's try to adjust alpha more closely:"
   ]
  },
  {
   "cell_type": "code",
   "execution_count": 41,
   "metadata": {},
   "outputs": [
    {
     "name": "stdout",
     "output_type": "stream",
     "text": [
      "0.38439573866562365\n",
      "0.3812085578878123\n",
      "0.37846716565907146\n",
      "0.37628644749472545\n",
      "0.374788074360602\n",
      "0.37423580206110363\n",
      "0.3746169997233491\n",
      "0.37573502942520176\n",
      "0.37755979046528776\n",
      "0.3801716987762979\n",
      "0.38340346397394437\n"
     ]
    }
   ],
   "source": [
    "a = 0.50\n",
    "while a <= 0.55:\n",
    "  n1k = X['n1'] / (theta ** a)\n",
    "  print(mean_absolute_error(n1k, X['n1c2']))\n",
    "  a += 0.005"
   ]
  }
 ],
 "metadata": {
  "kernelspec": {
   "display_name": "ecm_env",
   "language": "python",
   "name": "python3"
  },
  "language_info": {
   "codemirror_mode": {
    "name": "ipython",
    "version": 3
   },
   "file_extension": ".py",
   "mimetype": "text/x-python",
   "name": "python",
   "nbconvert_exporter": "python",
   "pygments_lexer": "ipython3",
   "version": "3.12.0"
  }
 },
 "nbformat": 4,
 "nbformat_minor": 2
}
