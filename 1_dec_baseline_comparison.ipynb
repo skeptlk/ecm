{
 "cells": [
  {
   "cell_type": "code",
   "execution_count": 15,
   "metadata": {},
   "outputs": [],
   "source": [
    "from sklearn.model_selection import train_test_split, cross_val_predict\n",
    "from lightgbm import LGBMRegressor\n",
    "from xgboost import XGBRegressor\n",
    "from sklearn.linear_model import LinearRegression, Ridge\n",
    "from catboost import CatBoostRegressor\n",
    "from sklearn.ensemble import RandomForestRegressor\n",
    "from sklearn.metrics import mean_squared_error, mean_absolute_error\n",
    "import matplotlib.pyplot as plt\n",
    "import pandas as pd\n",
    "import numpy as np\n",
    "\n",
    "dataset = pd.read_csv('./takeoff-merged-VQ-BGU-30s-full.csv', parse_dates=['reportts']) \\\n",
    "  .sort_values('reportts')"
   ]
  },
  {
   "cell_type": "code",
   "execution_count": 16,
   "metadata": {},
   "outputs": [],
   "source": [
    "Y = dataset[['egtm', 'n1_delt', 'n2_delt']]\n",
    "X = dataset.drop(columns=[\n",
    "    'acnum', 'pos', 'dep', 'arr', \n",
    "    'egtm', 'n1_delt', 'n2_delt', \n",
    "    'fltdes', 'reportts',\n",
    "    'dmusw', 'exswpn', 'reason'\n",
    "]).fillna(0)\n",
    "\n",
    "X = X.loc[:, ~X.columns.str.contains('stw')]\n"
   ]
  },
  {
   "cell_type": "code",
   "execution_count": 19,
   "metadata": {},
   "outputs": [],
   "source": [
    "def get_cv_rmse_for_parameter(X, alg='catboost', param='egtm'):\n",
    "    y = Y[param]\n",
    "\n",
    "    if alg == 'linreg':\n",
    "        model = LinearRegression(n_jobs=-1)\n",
    "    elif alg == 'linreg_ridge':\n",
    "        model = Ridge()\n",
    "    elif alg == 'catboost':\n",
    "        model = CatBoostRegressor(iterations=200, random_state=42, verbose=False)\n",
    "    elif alg == 'lightgbm':\n",
    "        model = LGBMRegressor(n_jobs=-1, random_state=42)\n",
    "    elif alg == 'xgboost':\n",
    "        model = XGBRegressor()\n",
    "    elif alg == 'rand_forest':\n",
    "        model = RandomForestRegressor(n_jobs=-1, n_estimators=100, random_state=42)\n",
    "\n",
    "    preds = cross_val_predict(model, X, y)\n",
    "    rmse = mean_squared_error(y, preds, squared=False)\n",
    "    return rmse\n"
   ]
  },
  {
   "cell_type": "code",
   "execution_count": 20,
   "metadata": {},
   "outputs": [
    {
     "data": {
      "text/html": [
       "<div>\n",
       "<style scoped>\n",
       "    .dataframe tbody tr th:only-of-type {\n",
       "        vertical-align: middle;\n",
       "    }\n",
       "\n",
       "    .dataframe tbody tr th {\n",
       "        vertical-align: top;\n",
       "    }\n",
       "\n",
       "    .dataframe thead th {\n",
       "        text-align: right;\n",
       "    }\n",
       "</style>\n",
       "<table border=\"1\" class=\"dataframe\">\n",
       "  <thead>\n",
       "    <tr style=\"text-align: right;\">\n",
       "      <th></th>\n",
       "      <th>model_name</th>\n",
       "      <th>rmse_all</th>\n",
       "      <th>rmse_important</th>\n",
       "    </tr>\n",
       "  </thead>\n",
       "  <tbody>\n",
       "    <tr>\n",
       "      <th>0</th>\n",
       "      <td>linreg</td>\n",
       "      <td>1.394367e+10</td>\n",
       "      <td>5.073838</td>\n",
       "    </tr>\n",
       "    <tr>\n",
       "      <th>1</th>\n",
       "      <td>linreg_ridge</td>\n",
       "      <td>6.014727e+00</td>\n",
       "      <td>4.995699</td>\n",
       "    </tr>\n",
       "    <tr>\n",
       "      <th>2</th>\n",
       "      <td>catboost</td>\n",
       "      <td>3.934068e+00</td>\n",
       "      <td>4.496539</td>\n",
       "    </tr>\n",
       "    <tr>\n",
       "      <th>3</th>\n",
       "      <td>lightgbm</td>\n",
       "      <td>3.826391e+00</td>\n",
       "      <td>4.459865</td>\n",
       "    </tr>\n",
       "    <tr>\n",
       "      <th>4</th>\n",
       "      <td>xgboost</td>\n",
       "      <td>3.651118e+00</td>\n",
       "      <td>4.731197</td>\n",
       "    </tr>\n",
       "    <tr>\n",
       "      <th>5</th>\n",
       "      <td>rand_forest</td>\n",
       "      <td>3.597813e+00</td>\n",
       "      <td>4.767549</td>\n",
       "    </tr>\n",
       "  </tbody>\n",
       "</table>\n",
       "</div>"
      ],
      "text/plain": [
       "     model_name      rmse_all  rmse_important\n",
       "0        linreg  1.394367e+10        5.073838\n",
       "1  linreg_ridge  6.014727e+00        4.995699\n",
       "2      catboost  3.934068e+00        4.496539\n",
       "3      lightgbm  3.826391e+00        4.459865\n",
       "4       xgboost  3.651118e+00        4.731197\n",
       "5   rand_forest  3.597813e+00        4.767549"
      ]
     },
     "execution_count": 20,
     "metadata": {},
     "output_type": "execute_result"
    }
   ],
   "source": [
    "model_names = ['linreg', 'linreg_ridge', 'catboost', 'lightgbm', 'xgboost', 'rand_forest']\n",
    "params = Y.columns\n",
    "\n",
    "metrics = []\n",
    "\n",
    "impotant = ['naiup', 'fmvc', 'baf', 'fdp', 'aoc', 'oip', 'alt', 'ttp', 'bbv']\n",
    "\n",
    "param = 'egtm'\n",
    "\n",
    "for model in model_names:\n",
    "    metrics.append({\n",
    "        'model_name': model,\n",
    "        'rmse_all': get_cv_rmse_for_parameter(X, model),\n",
    "        'rmse_important': get_cv_rmse_for_parameter(X[impotant], model),\n",
    "    })\n",
    "\n",
    "\n",
    "pd.DataFrame(metrics)"
   ]
  }
 ],
 "metadata": {
  "kernelspec": {
   "display_name": "recsys",
   "language": "python",
   "name": "python3"
  },
  "language_info": {
   "codemirror_mode": {
    "name": "ipython",
    "version": 3
   },
   "file_extension": ".py",
   "mimetype": "text/x-python",
   "name": "python",
   "nbconvert_exporter": "python",
   "pygments_lexer": "ipython3",
   "version": "3.9.16"
  }
 },
 "nbformat": 4,
 "nbformat_minor": 2
}
