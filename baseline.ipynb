{
 "cells": [
  {
   "cell_type": "code",
   "execution_count": 8,
   "metadata": {},
   "outputs": [],
   "source": []
  },
  {
   "cell_type": "code",
   "execution_count": 31,
   "metadata": {},
   "outputs": [],
   "source": [
    "import pandas as pd\n",
    "\n",
    "bgu = pd.read_csv('./takeoff-merged-VQ-BGU-30s.csv', parse_dates=['reportts'])\n",
    "bdu = pd.read_csv('./takeoff-merged-VQ-BDU-30s.csv', parse_dates=['reportts']).drop(columns=['file_path'])\n",
    "\n",
    "train = []\n",
    "test = []\n",
    "\n",
    "for data in [bgu, bdu]:\n",
    "  data = data.sort_values('reportts').drop(columns=['dmusw', 'exswpn', 'reason'])\n",
    "\n",
    "  data = data.loc[:, ~data.columns.str.contains('stw')]\n",
    "\n",
    "  train_i = int(len(data) * 75 / 100)\n",
    "\n",
    "  data_train = data[0:train_i]\n",
    "  train.append(data_train)\n",
    "  data_test = data[train_i:]\n",
    "  test.append(data_test) \n",
    "\n",
    "train = pd.concat(train)\n",
    "test  = pd.concat(test).drop(columns=['egtm'])\n"
   ]
  },
  {
   "cell_type": "code",
   "execution_count": 35,
   "metadata": {},
   "outputs": [],
   "source": [
    "train.drop(columns=['egtm']).to_csv('X_train.csv', index=False)"
   ]
  },
  {
   "cell_type": "code",
   "execution_count": 38,
   "metadata": {},
   "outputs": [],
   "source": [
    "train[['reportts', 'acnum', 'pos', 'egtm']].to_csv('y_train.csv', index=False)"
   ]
  },
  {
   "cell_type": "code",
   "execution_count": 37,
   "metadata": {},
   "outputs": [],
   "source": [
    "test.to_csv('X_test.csv', index=False)"
   ]
  },
  {
   "cell_type": "code",
   "execution_count": 3,
   "metadata": {},
   "outputs": [],
   "source": [
    "from sklearn.linear_model import Ridge\n",
    "from sklearn.metrics import mean_squared_error, mean_absolute_error"
   ]
  },
  {
   "cell_type": "code",
   "execution_count": null,
   "metadata": {},
   "outputs": [],
   "source": [
    "def train_model(X, y):\n",
    "  assert len(X) == len(y)\n",
    "  train_i = int(len(X) * 75 / 100)\n",
    "  X_train, y_train = X[0:train_i], y[0:train_i]\n",
    "  X_test, y_test = X[train_i:], y[train_i:]\n",
    "\n",
    "  model = Ridge(alpha=40)\n",
    "  model.fit(X_train, y_train)\n",
    "\n",
    "  predicted_train = model.predict(X_train)\n",
    "  mse = mean_squared_error(y_train, predicted_train, squared=False)\n",
    "  mae = mean_absolute_error(y_train, predicted_train)\n",
    "\n",
    "  predicted_test = model.predict(X_test)\n",
    "  mse = mean_squared_error(y_test, predicted_test, squared=False)\n",
    "  mae = mean_absolute_error(y_test, predicted_test)\n",
    "\n",
    "  return mse, mae, model, predicted_train, predicted_test, train_i, y_test"
   ]
  }
 ],
 "metadata": {
  "kernelspec": {
   "display_name": "ecm_env",
   "language": "python",
   "name": "python3"
  },
  "language_info": {
   "codemirror_mode": {
    "name": "ipython",
    "version": 3
   },
   "file_extension": ".py",
   "mimetype": "text/x-python",
   "name": "python",
   "nbconvert_exporter": "python",
   "pygments_lexer": "ipython3",
   "version": "3.12.0"
  }
 },
 "nbformat": 4,
 "nbformat_minor": 2
}
