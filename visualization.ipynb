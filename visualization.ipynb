{
 "cells": [
  {
   "cell_type": "code",
   "execution_count": 47,
   "metadata": {},
   "outputs": [],
   "source": [
    "# !pip install altair vega-datasets -q"
   ]
  },
  {
   "cell_type": "code",
   "execution_count": 48,
   "metadata": {},
   "outputs": [],
   "source": [
    "import pandas as pd\n",
    "import altair as alt \n",
    "\n",
    "bgu = pd.read_csv('./takeoff-merged-VQ-BGU-30s.csv', parse_dates=['reportts'])\n",
    "bgu['actype'] = 'A321-neo VQ-BGU'\n",
    "bdu = pd.read_csv('./takeoff-merged-VQ-BDU-30s.csv', parse_dates=['reportts'])\n",
    "bdu['actype'] = 'A321-neo VQ-BDU'\n",
    "bwb = pd.read_csv('./takeoff-merged-VP-BWB-30s.csv', parse_dates=['reportts'])\n",
    "bwb['actype'] = 'A320-neo VP-BWB'\n",
    "bcr = pd.read_csv('./takeoff-merged-VQ-BCR-30s.csv', parse_dates=['reportts'])\n",
    "bcr['actype'] = 'A320-neo VQ-BCR'\n",
    "\n",
    "dataset = pd.concat([bgu, bdu, bwb, bcr]) \\\n",
    "  .drop(columns=['file_path', 'reason']) \\\n",
    "  .sort_values('reportts')"
   ]
  },
  {
   "cell_type": "code",
   "execution_count": 49,
   "metadata": {},
   "outputs": [],
   "source": [
    "def timestamp(t):\n",
    "  return pd.to_datetime(t).timestamp() * 1000"
   ]
  },
  {
   "cell_type": "code",
   "execution_count": 72,
   "metadata": {},
   "outputs": [],
   "source": [
    "important = ['tat', 'egt', 'naiup', 'naidp', 'fmvc', 'baf', 'fdp', 'aoc', 'oip', 'alt', 'ttp', 'bbv']\n",
    "\n",
    "output_params = ['egtm', 'n1_delt', 'n2_delt']\n",
    "\n",
    "input_radio = alt.binding_radio(options=important, name=\"Input parameter\")\n",
    "input_selection = alt.param(bind=input_radio, value='tat')\n",
    "\n",
    "output_radio = alt.binding_radio(options=output_params, name=\"Output parameter\")\n",
    "output_selection = alt.param(bind=output_radio, value='egtm')\n",
    "\n",
    "chart = alt.Chart(dataset, width=800, height=400) \\\n",
    "    .mark_point(filled=True) \\\n",
    "    .encode(\n",
    "        x=alt.X('x:Q', title=''),\n",
    "        y=alt.Y('y:Q', title=''),\n",
    "        size=alt.value(20)\n",
    "    ) \\\n",
    "    .transform_calculate(\n",
    "        x=f'datum[{input_selection.name}]',\n",
    "        y=f'datum[{output_selection.name}]',\n",
    "    ) \\\n",
    "    .add_params(input_selection, output_selection) "
   ]
  },
  {
   "cell_type": "code",
   "execution_count": 51,
   "metadata": {},
   "outputs": [],
   "source": [
    "brush = alt.selection_interval(encodings=['x'])\n",
    "\n",
    "important = ['nait', 'tn', 'tfuel', 'tat', 'egt']\n",
    "\n",
    "parameter_radio = alt.binding_radio(options=important, name=\"Parameter\")\n",
    "parameter_selection = alt.param(bind=parameter_radio, value=\"tat\")\n",
    "\n",
    "time_line = alt.Chart(dataset, width=800, height=300) \\\n",
    "    .mark_point(filled=True) \\\n",
    "    .encode(\n",
    "        x=alt.X('reportts'),\n",
    "        y=alt.Y('y:Q', scale=alt.Scale(zero=False)),\n",
    "        color='pos:N',\n",
    "        size=alt.value(10),\n",
    "    ) \\\n",
    "    .transform_calculate(\n",
    "        y=f'datum[{parameter_selection.name}]',\n",
    "    ) \\\n",
    "    .add_params(parameter_selection)\n",
    "\n",
    "\n",
    "upper = time_line.encode(alt.X('reportts:T').scale(domain=brush))\n",
    "lower = time_line.properties(height=40).add_params(brush)\n",
    "\n",
    "params_curve = upper & lower"
   ]
  },
  {
   "cell_type": "code",
   "execution_count": 89,
   "metadata": {},
   "outputs": [],
   "source": [
    "brush = alt.selection_interval(encodings=['x'])\n",
    "\n",
    "selection = alt.selection_point(fields=['actypepos'], bind='legend')\n",
    "\n",
    "time_line = alt.Chart(dataset, width=600, height=400) \\\n",
    "    .transform_calculate(\n",
    "        actypepos=\"datum.actype + ' / ' + datum.pos\"\n",
    "    ) \\\n",
    "    .mark_point(filled=True) \\\n",
    "    .encode(\n",
    "        x=alt.X('reportts'),\n",
    "        y=alt.Y('egtm:Q'),\n",
    "        size=alt.value(10),\n",
    "        opacity=alt.condition(selection, alt.value(1), alt.value(0)),\n",
    "        color=alt.Color('actypepos:N'), \n",
    "    ).add_params(selection)\n",
    "\n",
    "upper = time_line.encode(alt.X('reportts:T').scale(domain=brush)).properties(title=\"EGT Margin (показатель состояния двигателя)\")\n",
    "lower = time_line.properties(height=30).add_params(brush).add_params(selection)\n",
    "\n",
    "egtm_timeline = upper & lower"
   ]
  },
  {
   "cell_type": "code",
   "execution_count": 96,
   "metadata": {},
   "outputs": [],
   "source": [
    "important = ['nait', 'tn', 'tfuel', 'tat', 'egt']\n",
    "\n",
    "parameter_radio = alt.binding_radio(options=important, name=\"Parameter\")\n",
    "parameter_selection = alt.param(bind=parameter_radio, value=\"tat\")\n",
    "\n",
    "chart = alt.Chart(dataset, width=600, height=400) \\\n",
    "    .properties(title=\"Параметры с сезонными трендами\") \\\n",
    "    .mark_point(filled=True) \\\n",
    "    .transform_calculate(\n",
    "        actypepos=\"datum.actype + ' / ' + datum.pos\"\n",
    "    ) \\\n",
    "    .encode(\n",
    "        x=alt.X('reportts:T', title=''),\n",
    "        y=alt.Y('y:Q', title=''),\n",
    "        color=alt.Color('actypepos:N', legend=alt.Legend(title='Номер ВС / позиция двигателя')), \n",
    "        size=alt.value(10)\n",
    "    ) \\\n",
    "    .transform_calculate(y=f'datum[{parameter_selection.name}]').add_params(parameter_selection)\n",
    "\n",
    "chart_regr = chart.transform_regression('reportts', 'y', method='poly', order=5)\\\n",
    "    .encode(size=alt.value(2)) \\\n",
    "    .mark_line(width=0.1)\n",
    "regression = chart + chart_regr"
   ]
  },
  {
   "cell_type": "code",
   "execution_count": 65,
   "metadata": {},
   "outputs": [],
   "source": [
    "airports = pd.read_csv('https://datahub.io/core/airport-codes/r/airport-codes.csv')\n",
    "\n",
    "airports_coord =  airports[['gps_code', 'coordinates', 'name', 'municipality', 'iata_code']]\n",
    "airports_coord = dataset.merge(airports_coord, 'inner', left_on='dep', right_on='gps_code')\n",
    "airports_coord[['long', 'lat']] = airports_coord['coordinates'].str.split(',', expand=True)"
   ]
  },
  {
   "cell_type": "code",
   "execution_count": 155,
   "metadata": {},
   "outputs": [],
   "source": [
    "from vega_datasets import data\n",
    "world = data.world_110m.url\n",
    "\n",
    "base = alt.Chart(airports_coord, width=600, height=400) \\\n",
    "  .transform_aggregate(dep_count='count(dep)', groupby=['dep', 'lat', 'long', 'municipality', 'iata_code']) \\\n",
    "  .transform_calculate(dep_size='100 + datum.dep_count', label=\"datum.iata_code + '(' + datum.dep_count + ')'\")\n",
    "\n",
    "map = alt.Chart(alt.topo_feature(world, 'countries'), width=600, height=400) \\\n",
    "  .properties(title=\"Карта частоты вылетов\") \\\n",
    "  .mark_geoshape(fill='#ade9ff', stroke='#706545', opacity=0.9, strokeWidth=0.5) \\\n",
    "  .project(type='mercator', scale=210, translate=[70, 380])\n",
    "\n",
    "dep_legend = alt.Legend(title='Число вылетов', values=[30, 100, 200, 400])\n",
    "\n",
    "points = base \\\n",
    "  .mark_circle().encode(\n",
    "    latitude='lat:Q',\n",
    "    longitude='long:Q',\n",
    "    size=alt.Size('dep_size:Q', legend=dep_legend, scale=alt.Scale(range=[30, 500])),\n",
    "    tooltip='municipality',\n",
    "    color=alt.ColorValue('#4c52fc'),\n",
    "    opacity=alt.condition('datum.dep_count > 75', alt.value(1), alt.value(0.5))\n",
    "  ).project(type='mercator', scale=210)\n",
    "\n",
    "text = base.mark_text(dy=-15) \\\n",
    "  .encode(\n",
    "    latitude='lat:Q',\n",
    "    longitude='long:Q',\n",
    "    text='label:N',\n",
    "    opacity=alt.condition('datum.dep_count > 75', alt.value(1), alt.value(0))\n",
    "  ).project(type='mercator', scale=210)\n",
    "\n",
    "choropleth = alt.layer(map, points, text)"
   ]
  },
  {
   "cell_type": "code",
   "execution_count": null,
   "metadata": {},
   "outputs": [],
   "source": [
    "(egtm_timeline | choropleth) & regression"
   ]
  }
 ],
 "metadata": {
  "kernelspec": {
   "display_name": "recsys",
   "language": "python",
   "name": "python3"
  },
  "language_info": {
   "codemirror_mode": {
    "name": "ipython",
    "version": 3
   },
   "file_extension": ".py",
   "mimetype": "text/x-python",
   "name": "python",
   "nbconvert_exporter": "python",
   "pygments_lexer": "ipython3",
   "version": "3.9.16"
  },
  "vscode": {
   "interpreter": {
    "hash": "8ff27b20a45684c9bdecad1b6a847c26994a0603bb60e53a026c6c4c0a29dbc5"
   }
  }
 },
 "nbformat": 4,
 "nbformat_minor": 2
}
