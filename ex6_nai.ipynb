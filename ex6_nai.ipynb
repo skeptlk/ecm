{
 "cells": [
  {
   "attachments": {},
   "cell_type": "markdown",
   "metadata": {},
   "source": [
    "### **Эксперимент 6.**\n",
    "\n",
    "Построить отдельные модели для NAI = 1, NAI = 0. Результат смотрим суммарно. Использовать конфигурацию эксперимента 5 (или 4, если лучше)\n",
    "\n",
    "Сохранить и записать использованные константы."
   ]
  },
  {
   "cell_type": "code",
   "execution_count": 8,
   "metadata": {},
   "outputs": [],
   "source": [
    "import pandas as pd\n",
    "\n",
    "y_cols = ['egtm']\n",
    "meta_cols = ['reportts', 'acnum', 'pos']\n",
    "features = ['egt', 'tat', 'n1a', 'n2a', 'wai', 'nai', 'prv', 'alt', 'mn', 'ff', 'nf']"
   ]
  },
  {
   "cell_type": "code",
   "execution_count": 9,
   "metadata": {},
   "outputs": [],
   "source": [
    "fleet = ['VQ-BGU', 'VQ-BDU']\n",
    "\n",
    "bgu = pd.read_csv('./takeoff-merged-VQ-BGU-30s.csv', parse_dates=['reportts']).dropna(subset=['egtm'])\n",
    "bdu = pd.read_csv('./takeoff-merged-VQ-BDU-30s.csv', parse_dates=['reportts']).dropna(subset=['egtm'])"
   ]
  },
  {
   "cell_type": "code",
   "execution_count": 10,
   "metadata": {},
   "outputs": [],
   "source": [
    "from utils import *\n",
    "\n",
    "data = build_dataset(\n",
    "  [bgu, bdu], \n",
    "  y_cols, \n",
    "  meta_cols, \n",
    "  features,\n",
    "  n_back=13,\n",
    ")"
   ]
  },
  {
   "attachments": {},
   "cell_type": "markdown",
   "metadata": {},
   "source": []
  },
  {
   "cell_type": "code",
   "execution_count": 11,
   "metadata": {},
   "outputs": [],
   "source": [
    "from sklearn.linear_model import LinearRegression\n",
    "from sklearn.metrics import mean_squared_error, mean_absolute_error, r2_score\n",
    "\n",
    "def predict_ensemble(models: List, X: pd.DataFrame, y):\n",
    "  pred = []\n",
    "  for val in [True, False]:\n",
    "    X_f, y_f = filter_split_by_field(X, y, 'nai', val)\n",
    "    p = models[val].predict(X_f)\n",
    "    pred.append(p)\n",
    "\n",
    "  return pd.concat(pred)\n",
    "\n",
    "def filter_split_by_field(X: pd.DataFrame, y: pd.DataFrame, field: str, value: bool):\n",
    "  return X[X[field] == value], y[X[field] == value]\n",
    "\n",
    "def train_ensemble_model(X, y, model = 'linreg'):\n",
    "  assert len(X) == len(y)\n",
    "  train_i = int(len(X) * 75 / 100)\n",
    "  X_train, y_train = X[0:train_i], y[0:train_i]\n",
    "  X_test, y_test = X[train_i:], y[train_i:]\n",
    "\n",
    "  ensemble = dict()\n",
    "  ensemble[True] = LinearRegression()\n",
    "  ensemble[False] = LinearRegression()\n",
    "\n",
    "  for val in [True, False]:\n",
    "    X_train_f, y_train_f = filter_split_by_field(X_train, y_train, 'nai', val)\n",
    "    ensemble[val].fit(X_train_f, y_train_f)\n",
    "  \n",
    "  model = LinearRegression()\n",
    "\n",
    "  model.fit(X_train, y_train)\n",
    "\n",
    "  predicted_train = model.predict(X_train)\n",
    "\n",
    "  predicted_test = model.predict(X_test)\n",
    "  mse = mean_squared_error(y_test, predicted_test, squared=False)\n",
    "  mae = mean_absolute_error(y_train, predicted_train)\n",
    "  r2 = r2_score(y_test, predicted_test)\n",
    "\n",
    "  return mse, mae, r2, model, predicted_train, predicted_test, train_i, y_test"
   ]
  },
  {
   "cell_type": "code",
   "execution_count": 13,
   "metadata": {},
   "outputs": [
    {
     "name": "stdout",
     "output_type": "stream",
     "text": [
      "Baseline: rmse = 1.770 mae = 1.305 r2 = 0.439\n"
     ]
    }
   ],
   "source": [
    "X = data.drop(columns=(meta_cols + y_cols))\n",
    "y = data['egtm']\n",
    "\n",
    "mse, mae, r2, model, predicted_train, predicted_test, train_i, y_test = train_ensemble_model(X, y)\n",
    "\n",
    "print(f'Baseline: rmse = {mse:.3f} mae = {mae:.3f} r2 = {r2:.3f}')\n"
   ]
  }
 ],
 "metadata": {
  "kernelspec": {
   "display_name": "Python 3",
   "language": "python",
   "name": "python3"
  },
  "language_info": {
   "codemirror_mode": {
    "name": "ipython",
    "version": 3
   },
   "file_extension": ".py",
   "mimetype": "text/x-python",
   "name": "python",
   "nbconvert_exporter": "python",
   "pygments_lexer": "ipython3",
   "version": "3.11.6"
  },
  "orig_nbformat": 4,
  "vscode": {
   "interpreter": {
    "hash": "e7370f93d1d0cde622a1f8e1c04877d8463912d04d973331ad4851f04de6915a"
   }
  }
 },
 "nbformat": 4,
 "nbformat_minor": 2
}
