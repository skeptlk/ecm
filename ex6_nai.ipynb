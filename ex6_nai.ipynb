{
   "cells": [
      {
         "attachments": {},
         "cell_type": "markdown",
         "metadata": {},
         "source": [
            "### **Эксперимент 6.**\n",
            "\n",
            "Построить отдельные модели для NAI = 1, NAI = 0. Результат смотрим суммарно. Использовать конфигурацию эксперимента 5 (или 4, если лучше)\n",
            "\n",
            "Сохранить и записать использованные константы."
         ]
      },
      {
         "cell_type": "code",
         "execution_count": 1,
         "metadata": {},
         "outputs": [],
         "source": [
            "import pandas as pd\n",
            "import numpy as np \n",
            "\n",
            "y_cols = ['egtm']\n",
            "meta_cols = ['reportts', 'acnum', 'pos']\n",
            "features = ['egt', 'tat', 'n1a', 'n2a', 'nai', 'prv', 'alt', 'mn', 'ff', 'nf']"
         ]
      },
      {
         "cell_type": "code",
         "execution_count": 2,
         "metadata": {},
         "outputs": [],
         "source": [
            "fleet = ['VQ-BGU', 'VQ-BDU']\n",
            "\n",
            "bgu = pd.read_csv('./takeoff-merged-VQ-BGU-30s.csv', parse_dates=['reportts']).dropna(subset=['egtm'])\n",
            "bdu = pd.read_csv('./takeoff-merged-VQ-BDU-30s.csv', parse_dates=['reportts']).dropna(subset=['egtm'])"
         ]
      },
      {
         "cell_type": "code",
         "execution_count": 3,
         "metadata": {},
         "outputs": [
            {
               "data": {
                  "text/html": [
                     "<div>\n",
                     "<style scoped>\n",
                     "    .dataframe tbody tr th:only-of-type {\n",
                     "        vertical-align: middle;\n",
                     "    }\n",
                     "\n",
                     "    .dataframe tbody tr th {\n",
                     "        vertical-align: top;\n",
                     "    }\n",
                     "\n",
                     "    .dataframe thead th {\n",
                     "        text-align: right;\n",
                     "    }\n",
                     "</style>\n",
                     "<table border=\"1\" class=\"dataframe\">\n",
                     "  <thead>\n",
                     "    <tr style=\"text-align: right;\">\n",
                     "      <th></th>\n",
                     "      <th>egt</th>\n",
                     "      <th>tat</th>\n",
                     "      <th>n1a</th>\n",
                     "      <th>n2a</th>\n",
                     "      <th>nai</th>\n",
                     "      <th>prv</th>\n",
                     "      <th>alt</th>\n",
                     "      <th>mn</th>\n",
                     "      <th>ff</th>\n",
                     "      <th>nf</th>\n",
                     "    </tr>\n",
                     "  </thead>\n",
                     "  <tbody>\n",
                     "    <tr>\n",
                     "      <th>count</th>\n",
                     "      <td>1670.000000</td>\n",
                     "      <td>1670.000000</td>\n",
                     "      <td>1670.000000</td>\n",
                     "      <td>1670.000000</td>\n",
                     "      <td>1670.000000</td>\n",
                     "      <td>1670.000000</td>\n",
                     "      <td>1670.000000</td>\n",
                     "      <td>1670.000000</td>\n",
                     "      <td>1670.000000</td>\n",
                     "      <td>1670.000000</td>\n",
                     "    </tr>\n",
                     "    <tr>\n",
                     "      <th>mean</th>\n",
                     "      <td>881.023533</td>\n",
                     "      <td>10.019341</td>\n",
                     "      <td>84.353228</td>\n",
                     "      <td>90.568820</td>\n",
                     "      <td>0.099401</td>\n",
                     "      <td>0.524551</td>\n",
                     "      <td>2029.298802</td>\n",
                     "      <td>0.269987</td>\n",
                     "      <td>3353.665269</td>\n",
                     "      <td>84.427425</td>\n",
                     "    </tr>\n",
                     "    <tr>\n",
                     "      <th>std</th>\n",
                     "      <td>65.296382</td>\n",
                     "      <td>13.194295</td>\n",
                     "      <td>3.845682</td>\n",
                     "      <td>2.578436</td>\n",
                     "      <td>0.299290</td>\n",
                     "      <td>0.499546</td>\n",
                     "      <td>807.240095</td>\n",
                     "      <td>0.014911</td>\n",
                     "      <td>342.072757</td>\n",
                     "      <td>3.888364</td>\n",
                     "    </tr>\n",
                     "    <tr>\n",
                     "      <th>min</th>\n",
                     "      <td>696.000000</td>\n",
                     "      <td>-24.000000</td>\n",
                     "      <td>73.280000</td>\n",
                     "      <td>82.900000</td>\n",
                     "      <td>0.000000</td>\n",
                     "      <td>0.000000</td>\n",
                     "      <td>404.000000</td>\n",
                     "      <td>0.220000</td>\n",
                     "      <td>2568.000000</td>\n",
                     "      <td>73.260000</td>\n",
                     "    </tr>\n",
                     "    <tr>\n",
                     "      <th>25%</th>\n",
                     "      <td>836.225000</td>\n",
                     "      <td>-0.200000</td>\n",
                     "      <td>81.890000</td>\n",
                     "      <td>88.780000</td>\n",
                     "      <td>0.000000</td>\n",
                     "      <td>0.000000</td>\n",
                     "      <td>1534.000000</td>\n",
                     "      <td>0.261000</td>\n",
                     "      <td>3139.500000</td>\n",
                     "      <td>81.920000</td>\n",
                     "    </tr>\n",
                     "    <tr>\n",
                     "      <th>50%</th>\n",
                     "      <td>888.550000</td>\n",
                     "      <td>11.850000</td>\n",
                     "      <td>84.330000</td>\n",
                     "      <td>90.970000</td>\n",
                     "      <td>0.000000</td>\n",
                     "      <td>1.000000</td>\n",
                     "      <td>1861.500000</td>\n",
                     "      <td>0.270000</td>\n",
                     "      <td>3323.000000</td>\n",
                     "      <td>84.395000</td>\n",
                     "    </tr>\n",
                     "    <tr>\n",
                     "      <th>75%</th>\n",
                     "      <td>926.500000</td>\n",
                     "      <td>21.000000</td>\n",
                     "      <td>87.027500</td>\n",
                     "      <td>92.467500</td>\n",
                     "      <td>0.000000</td>\n",
                     "      <td>1.000000</td>\n",
                     "      <td>2342.000000</td>\n",
                     "      <td>0.279000</td>\n",
                     "      <td>3547.750000</td>\n",
                     "      <td>87.132500</td>\n",
                     "    </tr>\n",
                     "    <tr>\n",
                     "      <th>max</th>\n",
                     "      <td>1044.100000</td>\n",
                     "      <td>37.000000</td>\n",
                     "      <td>94.360000</td>\n",
                     "      <td>96.730000</td>\n",
                     "      <td>1.000000</td>\n",
                     "      <td>1.000000</td>\n",
                     "      <td>6769.000000</td>\n",
                     "      <td>0.350000</td>\n",
                     "      <td>4327.000000</td>\n",
                     "      <td>94.560000</td>\n",
                     "    </tr>\n",
                     "  </tbody>\n",
                     "</table>\n",
                     "</div>"
                  ],
                  "text/plain": [
                     "               egt          tat          n1a          n2a          nai  \\\n",
                     "count  1670.000000  1670.000000  1670.000000  1670.000000  1670.000000   \n",
                     "mean    881.023533    10.019341    84.353228    90.568820     0.099401   \n",
                     "std      65.296382    13.194295     3.845682     2.578436     0.299290   \n",
                     "min     696.000000   -24.000000    73.280000    82.900000     0.000000   \n",
                     "25%     836.225000    -0.200000    81.890000    88.780000     0.000000   \n",
                     "50%     888.550000    11.850000    84.330000    90.970000     0.000000   \n",
                     "75%     926.500000    21.000000    87.027500    92.467500     0.000000   \n",
                     "max    1044.100000    37.000000    94.360000    96.730000     1.000000   \n",
                     "\n",
                     "               prv          alt           mn           ff           nf  \n",
                     "count  1670.000000  1670.000000  1670.000000  1670.000000  1670.000000  \n",
                     "mean      0.524551  2029.298802     0.269987  3353.665269    84.427425  \n",
                     "std       0.499546   807.240095     0.014911   342.072757     3.888364  \n",
                     "min       0.000000   404.000000     0.220000  2568.000000    73.260000  \n",
                     "25%       0.000000  1534.000000     0.261000  3139.500000    81.920000  \n",
                     "50%       1.000000  1861.500000     0.270000  3323.000000    84.395000  \n",
                     "75%       1.000000  2342.000000     0.279000  3547.750000    87.132500  \n",
                     "max       1.000000  6769.000000     0.350000  4327.000000    94.560000  "
                  ]
               },
               "execution_count": 3,
               "metadata": {},
               "output_type": "execute_result"
            }
         ],
         "source": [
            "bgu[features].describe()"
         ]
      },
      {
         "attachments": {},
         "cell_type": "markdown",
         "metadata": {},
         "source": [
            "#### С конфигурацией из эксперимента 5 (прошлые циклы)"
         ]
      },
      {
         "cell_type": "code",
         "execution_count": 4,
         "metadata": {},
         "outputs": [],
         "source": [
            "from utils import *\n",
            "\n",
            "data = build_dataset(\n",
            "  [bgu, bdu], \n",
            "  y_cols, \n",
            "  meta_cols, \n",
            "  features,\n",
            "  n_back=0,\n",
            ")"
         ]
      },
      {
         "cell_type": "code",
         "execution_count": 5,
         "metadata": {},
         "outputs": [
            {
               "data": {
                  "text/html": [
                     "<div>\n",
                     "<style scoped>\n",
                     "    .dataframe tbody tr th:only-of-type {\n",
                     "        vertical-align: middle;\n",
                     "    }\n",
                     "\n",
                     "    .dataframe tbody tr th {\n",
                     "        vertical-align: top;\n",
                     "    }\n",
                     "\n",
                     "    .dataframe thead th {\n",
                     "        text-align: right;\n",
                     "    }\n",
                     "</style>\n",
                     "<table border=\"1\" class=\"dataframe\">\n",
                     "  <thead>\n",
                     "    <tr style=\"text-align: right;\">\n",
                     "      <th></th>\n",
                     "      <th>egt</th>\n",
                     "      <th>tat</th>\n",
                     "      <th>n1a</th>\n",
                     "      <th>n2a</th>\n",
                     "      <th>nai</th>\n",
                     "      <th>prv</th>\n",
                     "      <th>alt</th>\n",
                     "      <th>mn</th>\n",
                     "      <th>ff</th>\n",
                     "      <th>nf</th>\n",
                     "      <th>acnum</th>\n",
                     "      <th>pos</th>\n",
                     "      <th>egtm</th>\n",
                     "    </tr>\n",
                     "    <tr>\n",
                     "      <th>reportts</th>\n",
                     "      <th></th>\n",
                     "      <th></th>\n",
                     "      <th></th>\n",
                     "      <th></th>\n",
                     "      <th></th>\n",
                     "      <th></th>\n",
                     "      <th></th>\n",
                     "      <th></th>\n",
                     "      <th></th>\n",
                     "      <th></th>\n",
                     "      <th></th>\n",
                     "      <th></th>\n",
                     "      <th></th>\n",
                     "    </tr>\n",
                     "  </thead>\n",
                     "  <tbody>\n",
                     "    <tr>\n",
                     "      <th>2018-07-11 09:44:38</th>\n",
                     "      <td>951.0</td>\n",
                     "      <td>19.0</td>\n",
                     "      <td>89.32</td>\n",
                     "      <td>93.96</td>\n",
                     "      <td>0.0</td>\n",
                     "      <td>1.0</td>\n",
                     "      <td>2306.0</td>\n",
                     "      <td>0.269</td>\n",
                     "      <td>3738.0</td>\n",
                     "      <td>89.25</td>\n",
                     "      <td>VQ-BDU</td>\n",
                     "      <td>2</td>\n",
                     "      <td>39.054</td>\n",
                     "    </tr>\n",
                     "    <tr>\n",
                     "      <th>2018-07-11 14:11:47</th>\n",
                     "      <td>908.3</td>\n",
                     "      <td>25.2</td>\n",
                     "      <td>84.36</td>\n",
                     "      <td>92.66</td>\n",
                     "      <td>0.0</td>\n",
                     "      <td>1.0</td>\n",
                     "      <td>1968.0</td>\n",
                     "      <td>0.254</td>\n",
                     "      <td>3205.0</td>\n",
                     "      <td>84.40</td>\n",
                     "      <td>VQ-BDU</td>\n",
                     "      <td>2</td>\n",
                     "      <td>43.644</td>\n",
                     "    </tr>\n",
                     "    <tr>\n",
                     "      <th>2018-07-11 18:50:00</th>\n",
                     "      <td>915.4</td>\n",
                     "      <td>22.0</td>\n",
                     "      <td>86.35</td>\n",
                     "      <td>92.57</td>\n",
                     "      <td>0.0</td>\n",
                     "      <td>1.0</td>\n",
                     "      <td>2295.0</td>\n",
                     "      <td>0.279</td>\n",
                     "      <td>3432.0</td>\n",
                     "      <td>86.34</td>\n",
                     "      <td>VQ-BDU</td>\n",
                     "      <td>2</td>\n",
                     "      <td>41.193</td>\n",
                     "    </tr>\n",
                     "  </tbody>\n",
                     "</table>\n",
                     "</div>"
                  ],
                  "text/plain": [
                     "                       egt   tat    n1a    n2a  nai  prv     alt     mn  \\\n",
                     "reportts                                                                  \n",
                     "2018-07-11 09:44:38  951.0  19.0  89.32  93.96  0.0  1.0  2306.0  0.269   \n",
                     "2018-07-11 14:11:47  908.3  25.2  84.36  92.66  0.0  1.0  1968.0  0.254   \n",
                     "2018-07-11 18:50:00  915.4  22.0  86.35  92.57  0.0  1.0  2295.0  0.279   \n",
                     "\n",
                     "                         ff     nf   acnum  pos    egtm  \n",
                     "reportts                                                 \n",
                     "2018-07-11 09:44:38  3738.0  89.25  VQ-BDU    2  39.054  \n",
                     "2018-07-11 14:11:47  3205.0  84.40  VQ-BDU    2  43.644  \n",
                     "2018-07-11 18:50:00  3432.0  86.34  VQ-BDU    2  41.193  "
                  ]
               },
               "execution_count": 5,
               "metadata": {},
               "output_type": "execute_result"
            }
         ],
         "source": [
            "data.set_index('reportts')[:3]"
         ]
      },
      {
         "cell_type": "code",
         "execution_count": 6,
         "metadata": {},
         "outputs": [
            {
               "data": {
                  "text/plain": [
                     "<matplotlib.collections.PathCollection at 0x7f602d16b200>"
                  ]
               },
               "execution_count": 6,
               "metadata": {},
               "output_type": "execute_result"
            },
            {
               "data": {
                  "image/png": "[encoded data removed]",
                  "text/plain": [
                     "<Figure size 1500x200 with 1 Axes>"
                  ]
               },
               "metadata": {},
               "output_type": "display_data"
            }
         ],
         "source": [
            "import matplotlib.pyplot as plt\n",
            "\n",
            "plt.figure(figsize=(15, 2))\n",
            "plt.scatter(data['reportts'], data['nai'], s=2)"
         ]
      },
      {
         "cell_type": "code",
         "execution_count": 7,
         "metadata": {},
         "outputs": [],
         "source": [
            "from sklearn.linear_model import LinearRegression\n",
            "from training import *\n",
            "\n",
            "def predict_ensemble(models: List[LinearRegression], X: pd.DataFrame, field='nai'):\n",
            "  pred = pd.DataFrame(index=X.index.copy(), columns=['pred'])\n",
            "  for val in [True, False]:\n",
            "    index = (X[field] == val)\n",
            "    pred.loc[index, 'pred'] = models[val].predict(X[index])\n",
            "  return pred\n",
            "\n",
            "def filter_split_by_field(X: pd.DataFrame, y: pd.DataFrame, field: str, value: bool):\n",
            "  return X[X[field] == value], y[X[field] == value]\n",
            "\n",
            "def train_ensemble_model(X, y, model = 'linreg', field = 'nai'):\n",
            "  assert len(X) == len(y)\n",
            "  train_i = int(len(X) * 75 / 100)\n",
            "  X_train, y_train = X[0:train_i], y[0:train_i]\n",
            "  X_test, y_test = X[train_i:], y[train_i:]\n",
            "\n",
            "  ensemble = dict()\n",
            "  ensemble[True] = LinearRegression()\n",
            "  ensemble[False] = LinearRegression()\n",
            "\n",
            "  for val in [True, False]:\n",
            "    X_train_f, y_train_f = filter_split_by_field(X_train, y_train, field, val)\n",
            "    ensemble[val].fit(X_train_f, y_train_f)\n",
            "  \n",
            "  predicted_train = predict_ensemble(ensemble, X_train, field)\n",
            "\n",
            "  predicted_test = predict_ensemble(ensemble, X_test, field)\n",
            "\n",
            "  return get_metrics(y_test, predicted_test), model, predicted_train, predicted_test, train_i, y_test"
         ]
      },
      {
         "cell_type": "code",
         "execution_count": 8,
         "metadata": {},
         "outputs": [
            {
               "name": "stdout",
               "output_type": "stream",
               "text": [
                  "Baseline: {'rmse': 4.052, 'mae': 3.22073, 'r2': -1.94073, 'mape': 0.1585}\n"
               ]
            }
         ],
         "source": [
            "X = data.drop(columns=(meta_cols + y_cols))\n",
            "y = data['egtm']\n",
            "\n",
            "metrics, model, predicted_train, predicted_test, train_i, y_test = train_ensemble_model(X, y)\n",
            "\n",
            "print(f'Baseline: {metrics}')\n"
         ]
      },
      {
         "cell_type": "code",
         "execution_count": 9,
         "metadata": {},
         "outputs": [
            {
               "name": "stdout",
               "output_type": "stream",
               "text": [
                  "Baseline: {'rmse': 4.13235, 'mae': 3.30325, 'r2': -2.05852, 'mape': 0.16327}\n"
               ]
            }
         ],
         "source": [
            "X = data.drop(columns=(meta_cols + y_cols))\n",
            "y = data['egtm']\n",
            "\n",
            "metrics, model, predicted_train, predicted_test, train_i, y_test = train_ensemble_model(X, y, field='prv')\n",
            "\n",
            "print(f'Baseline: {metrics}')"
         ]
      },
      {
         "cell_type": "code",
         "execution_count": 10,
         "metadata": {},
         "outputs": [],
         "source": [
            "# plot_predictions(data, 'VQ-BDU', 2, train_i, predicted_test['pred'], predicted_train['pred'], is_smooth=False)"
         ]
      },
      {
         "attachments": {},
         "cell_type": "markdown",
         "metadata": {},
         "source": [
            "#### Попробовать без предыдущих циклов"
         ]
      },
      {
         "cell_type": "code",
         "execution_count": 11,
         "metadata": {},
         "outputs": [],
         "source": [
            "data = build_dataset(\n",
            "  [bgu, bdu],\n",
            "  y_cols,\n",
            "  meta_cols,\n",
            "  features,\n",
            "  n_back=0,\n",
            ")"
         ]
      },
      {
         "cell_type": "code",
         "execution_count": 12,
         "metadata": {},
         "outputs": [
            {
               "name": "stdout",
               "output_type": "stream",
               "text": [
                  "Baseline: {'rmse': 4.052, 'mae': 3.22073, 'r2': -1.94073, 'mape': 0.1585}\n"
               ]
            }
         ],
         "source": [
            "X = data.drop(columns=(meta_cols + y_cols))\n",
            "y = data['egtm']\n",
            "\n",
            "metrics, model, predicted_train, predicted_test, train_i, y_test = train_ensemble_model(X, y)\n",
            "\n",
            "print(f'Baseline: {metrics}')"
         ]
      },
      {
         "cell_type": "markdown",
         "metadata": {},
         "source": [
            "The most basic baseline"
         ]
      },
      {
         "cell_type": "code",
         "execution_count": null,
         "metadata": {},
         "outputs": [],
         "source": []
      }
   ],
   "metadata": {
      "kernelspec": {
         "display_name": "recsys",
         "language": "python",
         "name": "python3"
      },
      "language_info": {
         "codemirror_mode": {
            "name": "ipython",
            "version": 3
         },
         "file_extension": ".py",
         "mimetype": "text/x-python",
         "name": "python",
         "nbconvert_exporter": "python",
         "pygments_lexer": "ipython3",
         "version": "3.12.0"
      },
      "orig_nbformat": 4,
      "vscode": {
         "interpreter": {
            "hash": "8ff27b20a45684c9bdecad1b6a847c26994a0603bb60e53a026c6c4c0a29dbc5"
         }
      }
   },
   "nbformat": 4,
   "nbformat_minor": 2
}
