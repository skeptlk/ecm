{
 "cells": [
  {
   "cell_type": "code",
   "execution_count": 54,
   "metadata": {},
   "outputs": [],
   "source": [
    "import pandas as pd\n",
    "\n",
    "X_train = pd.read_csv('./X_train.csv', parse_dates=['reportts'])\n",
    "y_train = pd.read_csv('./y_train.csv', parse_dates=['reportts'])\n",
    "\n",
    "X_test = pd.read_csv('./X_test.csv', parse_dates=['reportts'])\n",
    "\n",
    "dataset = X_train.merge(y_train, on=['acnum', 'pos', 'reportts']).dropna(subset=['egtm'])\n"
   ]
  },
  {
   "cell_type": "code",
   "execution_count": 55,
   "metadata": {},
   "outputs": [],
   "source": [
    "from sklearn.linear_model import Ridge\n",
    "from sklearn.metrics import mean_squared_error, mean_absolute_error\n",
    "\n",
    "def train_model(X, y):\n",
    "  assert len(X) == len(y)\n",
    "\n",
    "  X = X.fillna(0).drop(columns=[\n",
    "    'reportts', 'acnum', 'pos', 'fltdes',\t'dep', 'arr'\n",
    "  ])\n",
    "\n",
    "  # обучаем на более ранних данных, тестируем на поздних\n",
    "  train_i = int(len(X) * 75 / 100)\n",
    "  X_train, y_train = X[0:train_i], y[0:train_i]\n",
    "  X_val, y_test = X[train_i:], y[train_i:]\n",
    "\n",
    "  model = Ridge(alpha=5)\n",
    "  model.fit(X_train, y_train)\n",
    "\n",
    "  predicted = model.predict(X_val)\n",
    "  rmse = mean_squared_error(y_test, predicted, squared=False)\n",
    "  mae = mean_absolute_error(y_test, predicted)\n",
    "\n",
    "  return rmse, mae, model"
   ]
  },
  {
   "cell_type": "code",
   "execution_count": 56,
   "metadata": {},
   "outputs": [
    {
     "name": "stdout",
     "output_type": "stream",
     "text": [
      "acnum=VQ-BGU RMSE=7.284 MAE=5.928\n",
      "acnum=VQ-BDU RMSE=3.416 MAE=2.951\n"
     ]
    }
   ],
   "source": [
    "fleet = ['VQ-BGU', 'VQ-BDU']\n",
    "\n",
    "for acnum in fleet:\n",
    "  X = dataset[dataset['acnum'] == acnum].drop(columns=['egtm'])\n",
    "  y = dataset[dataset['acnum'] == acnum]['egtm']\n",
    "\n",
    "  rmse, mae, model = train_model(X, y)\n",
    "\n",
    "  print(f'acnum={acnum} RMSE={rmse:.3f} MAE={mae:.3f}')\n"
   ]
  }
 ],
 "metadata": {
  "kernelspec": {
   "display_name": "Python 3",
   "language": "python",
   "name": "python3"
  },
  "language_info": {
   "codemirror_mode": {
    "name": "ipython",
    "version": 3
   },
   "file_extension": ".py",
   "mimetype": "text/x-python",
   "name": "python",
   "nbconvert_exporter": "python",
   "pygments_lexer": "ipython3",
   "version": "3.11.7 (main, Jan 29 2024, 16:03:57) [GCC 13.2.1 20230801]"
  },
  "vscode": {
   "interpreter": {
    "hash": "e7370f93d1d0cde622a1f8e1c04877d8463912d04d973331ad4851f04de6915a"
   }
  }
 },
 "nbformat": 4,
 "nbformat_minor": 2
}
