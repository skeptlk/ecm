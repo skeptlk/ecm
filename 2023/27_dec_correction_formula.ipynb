{
 "cells": [
  {
   "cell_type": "markdown",
   "metadata": {},
   "source": [
    "Цель: определить параметры формулы, используемой в EngineWise для коррекции"
   ]
  },
  {
   "cell_type": "code",
   "execution_count": 1,
   "metadata": {},
   "outputs": [],
   "source": [
    "import pandas as pd\n",
    "from sklearn.metrics import mean_absolute_error\n",
    "\n",
    "data = pd.read_csv('../takeoff-merged-VQ-BDU-30s.csv', parse_dates=['reportts'])"
   ]
  },
  {
   "cell_type": "markdown",
   "metadata": {},
   "source": [
    "Columns: N1 (unbiased), N1C2 (corrected)"
   ]
  },
  {
   "cell_type": "code",
   "execution_count": 2,
   "metadata": {},
   "outputs": [],
   "source": [
    "X = data[['n1', 'n1c2']]"
   ]
  },
  {
   "cell_type": "markdown",
   "metadata": {},
   "source": [
    "MAE Original:"
   ]
  },
  {
   "cell_type": "code",
   "execution_count": 3,
   "metadata": {},
   "outputs": [
    {
     "data": {
      "text/plain": [
       "1.6533633776091081"
      ]
     },
     "execution_count": 3,
     "metadata": {},
     "output_type": "execute_result"
    }
   ],
   "source": [
    "mean_absolute_error(X['n1'], X['n1c2'])"
   ]
  },
  {
   "cell_type": "markdown",
   "metadata": {},
   "source": [
    "#### Theta factor correction"
   ]
  },
  {
   "cell_type": "code",
   "execution_count": 4,
   "metadata": {},
   "outputs": [
    {
     "data": {
      "text/plain": [
       "0.38439573866562365"
      ]
     },
     "execution_count": 4,
     "metadata": {},
     "output_type": "execute_result"
    }
   ],
   "source": [
    "theta = (data['tat'] + 273.15) / 288.15\n",
    "\n",
    "alpha = 0.5\n",
    "\n",
    "n1k = X['n1'] / (theta ** alpha)\n",
    "\n",
    "mean_absolute_error(n1k, X['n1c2'])"
   ]
  },
  {
   "cell_type": "markdown",
   "metadata": {},
   "source": [
    "Now let's try to adjust alpha more closely:"
   ]
  },
  {
   "cell_type": "code",
   "execution_count": 11,
   "metadata": {},
   "outputs": [
    {
     "name": "stdout",
     "output_type": "stream",
     "text": [
      "a=0.5\tMAE=0.38439573866562365\n",
      "a=0.505\tMAE=0.3812085578878123\n",
      "a=0.51\tMAE=0.37846716565907146\n",
      "a=0.515\tMAE=0.37628644749472545\n",
      "a=0.52\tMAE=0.374788074360602\n",
      "a=0.525\tMAE=0.37423580206110363\n",
      "a=0.53\tMAE=0.3746169997233491\n",
      "a=0.535\tMAE=0.37573502942520176\n",
      "a=0.54\tMAE=0.37755979046528776\n",
      "a=0.545\tMAE=0.3801716987762979\n",
      "a=0.55\tMAE=0.38340346397394437\n"
     ]
    }
   ],
   "source": [
    "a = 0.50\n",
    "while a <= 0.55:\n",
    "  n1k = X['n1'] / (theta ** a)\n",
    "  print(f'a={a}\\tMAE={mean_absolute_error(n1k, X['n1c2'])}')\n",
    "  a += 0.005"
   ]
  },
  {
   "cell_type": "code",
   "execution_count": 17,
   "metadata": {},
   "outputs": [
    {
     "data": {
      "text/plain": [
       "(0.5255199999998839, 0.3742303309384519)"
      ]
     },
     "execution_count": 17,
     "metadata": {},
     "output_type": "execute_result"
    }
   ],
   "source": [
    "a = 0.50\n",
    "min_err = 100\n",
    "min_a = a\n",
    "while a <= 0.55:\n",
    "  n1k = X['n1'] / (theta ** a)\n",
    "  err = mean_absolute_error(n1k, X['n1c2'])\n",
    "  if err < min_err:\n",
    "    min_a = a\n",
    "    min_err = err\n",
    "  a += 0.00001\n",
    "\n",
    "min_a, min_err"
   ]
  },
  {
   "cell_type": "markdown",
   "metadata": {},
   "source": [
    "Minimum error a is 0.5255"
   ]
  },
  {
   "cell_type": "code",
   "execution_count": 18,
   "metadata": {},
   "outputs": [],
   "source": [
    "a = 0.5255\n",
    "y_err = X['n1c2'] - (X['n1'] / (theta ** a))"
   ]
  },
  {
   "cell_type": "code",
   "execution_count": 33,
   "metadata": {},
   "outputs": [],
   "source": [
    "from sklearn.linear_model import LinearRegression, Ridge\n",
    "from sklearn.metrics import mean_squared_error, mean_absolute_error\n",
    "from sklearn.model_selection import train_test_split\n",
    "\n",
    "def train_model(X, y):\n",
    "  assert len(X) == len(y)\n",
    "  X_train, X_test, y_train, y_test = train_test_split(X, y, test_size=0.33, random_state=42)\n",
    "\n",
    "  model = LinearRegression(n_jobs=-1)\n",
    "  model.fit(X_train, y_train)\n",
    "\n",
    "  pred = model.predict(X_test)\n",
    "  mse = mean_squared_error(y_test, pred, squared=False)\n",
    "  mae = mean_absolute_error(y_test, pred)\n",
    "\n",
    "  return mse, mae, model"
   ]
  },
  {
   "cell_type": "code",
   "execution_count": 34,
   "metadata": {},
   "outputs": [
    {
     "data": {
      "text/plain": [
       "(0.06006107740897699, 0.03893766798807289)"
      ]
     },
     "execution_count": 34,
     "metadata": {},
     "output_type": "execute_result"
    }
   ],
   "source": [
    "X2 = data.drop(columns=[\n",
    "    'reportts', 'acnum', 'pos', 'dep', 'arr', \n",
    "    'egtm', 'fltdes', 'reportts',\n",
    "    'dmusw', 'exswpn', 'reason', 'file_path',\n",
    "    'n1c2', 'n1', 'tat'\n",
    "]).fillna(-100)\n",
    "\n",
    "X2 = X2.loc[:, ~X2.columns.str.contains('stw')]\n",
    "\n",
    "\n",
    "mse, mae, model = train_model(X2, y_err)\n",
    "\n",
    "mse, mae"
   ]
  },
  {
   "cell_type": "code",
   "execution_count": 42,
   "metadata": {},
   "outputs": [
    {
     "data": {
      "text/html": [
       "<div>\n",
       "<style scoped>\n",
       "    .dataframe tbody tr th:only-of-type {\n",
       "        vertical-align: middle;\n",
       "    }\n",
       "\n",
       "    .dataframe tbody tr th {\n",
       "        vertical-align: top;\n",
       "    }\n",
       "\n",
       "    .dataframe thead th {\n",
       "        text-align: right;\n",
       "    }\n",
       "</style>\n",
       "<table border=\"1\" class=\"dataframe\">\n",
       "  <thead>\n",
       "    <tr style=\"text-align: right;\">\n",
       "      <th></th>\n",
       "      <th>focb</th>\n",
       "      <th>mne_peak</th>\n",
       "      <th>mn_rtd</th>\n",
       "      <th>p5</th>\n",
       "      <th>n1com_peak</th>\n",
       "      <th>n1_peak</th>\n",
       "      <th>rfan</th>\n",
       "      <th>n2c5</th>\n",
       "      <th>n1com</th>\n",
       "      <th>n1p</th>\n",
       "      <th>...</th>\n",
       "      <th>nf_peak</th>\n",
       "      <th>n1msa</th>\n",
       "      <th>n1c2_peak</th>\n",
       "      <th>n2a_peak</th>\n",
       "      <th>fvl</th>\n",
       "      <th>mne</th>\n",
       "      <th>mn</th>\n",
       "      <th>dph</th>\n",
       "      <th>mn_peak</th>\n",
       "      <th>vsva</th>\n",
       "    </tr>\n",
       "  </thead>\n",
       "  <tbody>\n",
       "    <tr>\n",
       "      <th>0</th>\n",
       "      <td>-1.928045</td>\n",
       "      <td>-1.805964</td>\n",
       "      <td>-1.78675</td>\n",
       "      <td>-0.463654</td>\n",
       "      <td>-0.300552</td>\n",
       "      <td>-0.232537</td>\n",
       "      <td>-0.198727</td>\n",
       "      <td>-0.154807</td>\n",
       "      <td>-0.145669</td>\n",
       "      <td>-0.139861</td>\n",
       "      <td>...</td>\n",
       "      <td>0.180517</td>\n",
       "      <td>0.20852</td>\n",
       "      <td>0.224568</td>\n",
       "      <td>0.242002</td>\n",
       "      <td>0.375731</td>\n",
       "      <td>0.41638</td>\n",
       "      <td>0.633016</td>\n",
       "      <td>0.651856</td>\n",
       "      <td>1.393181</td>\n",
       "      <td>6.594877</td>\n",
       "    </tr>\n",
       "  </tbody>\n",
       "</table>\n",
       "<p>1 rows × 151 columns</p>\n",
       "</div>"
      ],
      "text/plain": [
       "       focb  mne_peak   mn_rtd        p5  n1com_peak   n1_peak      rfan  \\\n",
       "0 -1.928045 -1.805964 -1.78675 -0.463654   -0.300552 -0.232537 -0.198727   \n",
       "\n",
       "       n2c5     n1com       n1p  ...   nf_peak    n1msa  n1c2_peak  n2a_peak  \\\n",
       "0 -0.154807 -0.145669 -0.139861  ...  0.180517  0.20852   0.224568  0.242002   \n",
       "\n",
       "        fvl      mne        mn       dph   mn_peak      vsva  \n",
       "0  0.375731  0.41638  0.633016  0.651856  1.393181  6.594877  \n",
       "\n",
       "[1 rows x 151 columns]"
      ]
     },
     "execution_count": 42,
     "metadata": {},
     "output_type": "execute_result"
    }
   ],
   "source": [
    "pd.DataFrame([model.coef_], columns=X2.columns).sort_values(by=[0], axis=1)"
   ]
  }
 ],
 "metadata": {
  "kernelspec": {
   "display_name": "ecm_env",
   "language": "python",
   "name": "python3"
  },
  "language_info": {
   "codemirror_mode": {
    "name": "ipython",
    "version": 3
   },
   "file_extension": ".py",
   "mimetype": "text/x-python",
   "name": "python",
   "nbconvert_exporter": "python",
   "pygments_lexer": "ipython3",
   "version": "3.12.0"
  }
 },
 "nbformat": 4,
 "nbformat_minor": 2
}
