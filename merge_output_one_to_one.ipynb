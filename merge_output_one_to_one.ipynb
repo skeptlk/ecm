{
 "cells": [
  {
   "cell_type": "markdown",
   "metadata": {},
   "source": [
    "In this file I attempt to find respecting record in ACMS (input) dataset for each report in output dataset"
   ]
  },
  {
   "cell_type": "code",
   "execution_count": 1,
   "metadata": {},
   "outputs": [],
   "source": [
    "import matplotlib.pyplot as plt\n",
    "import pandas as pd"
   ]
  },
  {
   "cell_type": "code",
   "execution_count": 2,
   "metadata": {},
   "outputs": [
    {
     "data": {
      "text/plain": [
       "(6816, 205)"
      ]
     },
     "execution_count": 2,
     "metadata": {},
     "output_type": "execute_result"
    }
   ],
   "source": [
    "acms_full = pd.read_csv('./data/neo_takeoff_202403260034.csv', parse_dates=['reportts'], low_memory=False) \\\n",
    "    .drop(columns=[\n",
    "        'processedts', \n",
    "    ])\n",
    "\n",
    "acnum = 'VQ-BGU'\n",
    "# takeoff_reportname = 'A320 ENGINE TAKE OFF REPORT'\n",
    "takeoff_reportname = 'A321 ENGINE TAKE OFF REPORT'\n",
    "\n",
    "acms = acms_full.query(f'acnum==\"{acnum}\" and reportname==\"{takeoff_reportname}\"') \\\n",
    "    .drop(columns=['reportname']) \\\n",
    "    .set_index('reportts') \\\n",
    "    .sort_index()\n",
    "\n",
    "acms.shape"
   ]
  },
  {
   "cell_type": "code",
   "execution_count": 3,
   "metadata": {},
   "outputs": [
    {
     "data": {
      "text/html": [
       "<div>\n",
       "<style scoped>\n",
       "    .dataframe tbody tr th:only-of-type {\n",
       "        vertical-align: middle;\n",
       "    }\n",
       "\n",
       "    .dataframe tbody tr th {\n",
       "        vertical-align: top;\n",
       "    }\n",
       "\n",
       "    .dataframe thead th {\n",
       "        text-align: right;\n",
       "    }\n",
       "</style>\n",
       "<table border=\"1\" class=\"dataframe\">\n",
       "  <thead>\n",
       "    <tr style=\"text-align: right;\">\n",
       "      <th></th>\n",
       "      <th>acnum</th>\n",
       "      <th>pos</th>\n",
       "      <th>recorded_dt</th>\n",
       "      <th>egtm</th>\n",
       "    </tr>\n",
       "  </thead>\n",
       "  <tbody>\n",
       "    <tr>\n",
       "      <th>2568</th>\n",
       "      <td>VQ-BGU</td>\n",
       "      <td>1</td>\n",
       "      <td>2018-12-24 10:53:22</td>\n",
       "      <td>44.437</td>\n",
       "    </tr>\n",
       "    <tr>\n",
       "      <th>2569</th>\n",
       "      <td>VQ-BGU</td>\n",
       "      <td>1</td>\n",
       "      <td>2018-12-25 15:23:23</td>\n",
       "      <td>44.379</td>\n",
       "    </tr>\n",
       "    <tr>\n",
       "      <th>2570</th>\n",
       "      <td>VQ-BGU</td>\n",
       "      <td>1</td>\n",
       "      <td>2018-12-25 20:49:27</td>\n",
       "      <td>43.742</td>\n",
       "    </tr>\n",
       "    <tr>\n",
       "      <th>2571</th>\n",
       "      <td>VQ-BGU</td>\n",
       "      <td>1</td>\n",
       "      <td>2018-12-26 11:42:26</td>\n",
       "      <td>46.443</td>\n",
       "    </tr>\n",
       "  </tbody>\n",
       "</table>\n",
       "</div>"
      ],
      "text/plain": [
       "       acnum  pos         recorded_dt    egtm\n",
       "2568  VQ-BGU    1 2018-12-24 10:53:22  44.437\n",
       "2569  VQ-BGU    1 2018-12-25 15:23:23  44.379\n",
       "2570  VQ-BGU    1 2018-12-25 20:49:27  43.742\n",
       "2571  VQ-BGU    1 2018-12-26 11:42:26  46.443"
      ]
     },
     "execution_count": 3,
     "metadata": {},
     "output_type": "execute_result"
    }
   ],
   "source": [
    "egtm_raw = pd.read_csv('./data/EGTM.csv', parse_dates=['RECORDED_DT']) \\\n",
    "    .drop(columns=['ESN']) \\\n",
    "    .rename(columns={\n",
    "        'AIRCRAFT': 'acnum',\n",
    "        'POSITION': 'pos',\n",
    "        'RECORDED_DT': 'recorded_dt',\n",
    "        'RWCTOMAR': 'egtm'\n",
    "    }) \\\n",
    "    .loc[:, :'egtm']\n",
    "\n",
    "egtm_raw['recorded_dt'] = pd.to_datetime(egtm_raw['recorded_dt'], format='%m/%d/%Y %I:%M:%S', errors='raise')\n",
    "\n",
    "egtm = egtm_raw[(egtm_raw['acnum'] == acnum)]\n",
    "\n",
    "egtm.head(4)"
   ]
  },
  {
   "cell_type": "code",
   "execution_count": 4,
   "metadata": {},
   "outputs": [
    {
     "data": {
      "text/plain": [
       "(4631, 5)"
      ]
     },
     "execution_count": 4,
     "metadata": {},
     "output_type": "execute_result"
    }
   ],
   "source": [
    "n1_raw = pd.read_csv('./data/Data N1.csv', parse_dates=['RECORDED_DT']) \\\n",
    "    .drop(columns=['ESN']) \\\n",
    "    .rename(columns={\n",
    "        'AIRCRAFT': 'acnum',\n",
    "        'POSITION': 'pos',\n",
    "        'RECORDED_DT': 'recorded_dt',\n",
    "        'EGTM': 'egtm',\n",
    "        'DELTA N1 (Actual vs Cmd)': 'n1_delt'\n",
    "    }) \\\n",
    "    .loc[:, :'n1_delt']\n",
    "\n",
    "n1_raw.shape"
   ]
  },
  {
   "cell_type": "code",
   "execution_count": 5,
   "metadata": {},
   "outputs": [
    {
     "data": {
      "text/plain": [
       "(4394, 5)"
      ]
     },
     "execution_count": 5,
     "metadata": {},
     "output_type": "execute_result"
    }
   ],
   "source": [
    "n2_raw = pd.read_csv('./data/Data N2.csv', parse_dates=['RECORDED_DT']) \\\n",
    "    .drop(columns=['ESN', 'ACC Valve Tprq mtr curr']) \\\n",
    "    .rename(columns={\n",
    "        'AIRCRAFT': 'acnum',\n",
    "        'POSITION': 'pos',\n",
    "        'RECORDED_DT': 'recorded_dt',\n",
    "        'EGTM': 'egtm',\n",
    "        'N2 Delt': 'n2_delt'\n",
    "    }) \\\n",
    "    .loc[:, :'n2_delt']\n",
    "\n",
    "n2_raw.shape"
   ]
  },
  {
   "cell_type": "code",
   "execution_count": 6,
   "metadata": {},
   "outputs": [
    {
     "data": {
      "text/html": [
       "<div>\n",
       "<style scoped>\n",
       "    .dataframe tbody tr th:only-of-type {\n",
       "        vertical-align: middle;\n",
       "    }\n",
       "\n",
       "    .dataframe tbody tr th {\n",
       "        vertical-align: top;\n",
       "    }\n",
       "\n",
       "    .dataframe thead th {\n",
       "        text-align: right;\n",
       "    }\n",
       "</style>\n",
       "<table border=\"1\" class=\"dataframe\">\n",
       "  <thead>\n",
       "    <tr style=\"text-align: right;\">\n",
       "      <th></th>\n",
       "      <th>acnum</th>\n",
       "      <th>pos</th>\n",
       "      <th>egtm</th>\n",
       "      <th>n1_delt</th>\n",
       "      <th>n2_delt</th>\n",
       "    </tr>\n",
       "    <tr>\n",
       "      <th>recorded_dt</th>\n",
       "      <th></th>\n",
       "      <th></th>\n",
       "      <th></th>\n",
       "      <th></th>\n",
       "      <th></th>\n",
       "    </tr>\n",
       "  </thead>\n",
       "  <tbody>\n",
       "    <tr>\n",
       "      <th>2018-12-24 10:53:22</th>\n",
       "      <td>VQ-BGU</td>\n",
       "      <td>1</td>\n",
       "      <td>44.437</td>\n",
       "      <td>-0.110001</td>\n",
       "      <td>-0.341394</td>\n",
       "    </tr>\n",
       "    <tr>\n",
       "      <th>2018-12-24 10:53:22</th>\n",
       "      <td>VQ-BGU</td>\n",
       "      <td>2</td>\n",
       "      <td>45.869</td>\n",
       "      <td>-0.090004</td>\n",
       "      <td>-0.214439</td>\n",
       "    </tr>\n",
       "    <tr>\n",
       "      <th>2018-12-25 15:23:23</th>\n",
       "      <td>VQ-BGU</td>\n",
       "      <td>1</td>\n",
       "      <td>44.379</td>\n",
       "      <td>-0.070000</td>\n",
       "      <td>-0.356127</td>\n",
       "    </tr>\n",
       "    <tr>\n",
       "      <th>2018-12-25 15:23:23</th>\n",
       "      <td>VQ-BGU</td>\n",
       "      <td>2</td>\n",
       "      <td>44.904</td>\n",
       "      <td>-0.070000</td>\n",
       "      <td>-0.230564</td>\n",
       "    </tr>\n",
       "    <tr>\n",
       "      <th>2018-12-25 20:49:27</th>\n",
       "      <td>VQ-BGU</td>\n",
       "      <td>1</td>\n",
       "      <td>43.742</td>\n",
       "      <td>-0.049995</td>\n",
       "      <td>-0.379446</td>\n",
       "    </tr>\n",
       "    <tr>\n",
       "      <th>...</th>\n",
       "      <td>...</td>\n",
       "      <td>...</td>\n",
       "      <td>...</td>\n",
       "      <td>...</td>\n",
       "      <td>...</td>\n",
       "    </tr>\n",
       "    <tr>\n",
       "      <th>2020-02-10 02:04:56</th>\n",
       "      <td>VQ-BGU</td>\n",
       "      <td>1</td>\n",
       "      <td>17.424</td>\n",
       "      <td>-0.030006</td>\n",
       "      <td>-0.563011</td>\n",
       "    </tr>\n",
       "    <tr>\n",
       "      <th>2020-02-10 17:24:01</th>\n",
       "      <td>VQ-BGU</td>\n",
       "      <td>2</td>\n",
       "      <td>16.755</td>\n",
       "      <td>-0.059998</td>\n",
       "      <td>-0.524035</td>\n",
       "    </tr>\n",
       "    <tr>\n",
       "      <th>2020-02-10 17:24:01</th>\n",
       "      <td>VQ-BGU</td>\n",
       "      <td>1</td>\n",
       "      <td>17.013</td>\n",
       "      <td>-0.080002</td>\n",
       "      <td>-0.666989</td>\n",
       "    </tr>\n",
       "    <tr>\n",
       "      <th>2020-02-11 02:09:38</th>\n",
       "      <td>VQ-BGU</td>\n",
       "      <td>1</td>\n",
       "      <td>17.039</td>\n",
       "      <td>-0.089996</td>\n",
       "      <td>-0.493596</td>\n",
       "    </tr>\n",
       "    <tr>\n",
       "      <th>2020-02-11 02:09:38</th>\n",
       "      <td>VQ-BGU</td>\n",
       "      <td>2</td>\n",
       "      <td>16.916</td>\n",
       "      <td>-0.089996</td>\n",
       "      <td>-0.279018</td>\n",
       "    </tr>\n",
       "  </tbody>\n",
       "</table>\n",
       "<p>1774 rows × 5 columns</p>\n",
       "</div>"
      ],
      "text/plain": [
       "                      acnum  pos    egtm   n1_delt   n2_delt\n",
       "recorded_dt                                                 \n",
       "2018-12-24 10:53:22  VQ-BGU    1  44.437 -0.110001 -0.341394\n",
       "2018-12-24 10:53:22  VQ-BGU    2  45.869 -0.090004 -0.214439\n",
       "2018-12-25 15:23:23  VQ-BGU    1  44.379 -0.070000 -0.356127\n",
       "2018-12-25 15:23:23  VQ-BGU    2  44.904 -0.070000 -0.230564\n",
       "2018-12-25 20:49:27  VQ-BGU    1  43.742 -0.049995 -0.379446\n",
       "...                     ...  ...     ...       ...       ...\n",
       "2020-02-10 02:04:56  VQ-BGU    1  17.424 -0.030006 -0.563011\n",
       "2020-02-10 17:24:01  VQ-BGU    2  16.755 -0.059998 -0.524035\n",
       "2020-02-10 17:24:01  VQ-BGU    1  17.013 -0.080002 -0.666989\n",
       "2020-02-11 02:09:38  VQ-BGU    1  17.039 -0.089996 -0.493596\n",
       "2020-02-11 02:09:38  VQ-BGU    2  16.916 -0.089996 -0.279018\n",
       "\n",
       "[1774 rows x 5 columns]"
      ]
     },
     "execution_count": 6,
     "metadata": {},
     "output_type": "execute_result"
    }
   ],
   "source": [
    "if 'n1_delt' not in egtm.columns:\n",
    "  egtm = pd.merge(egtm, n1_raw, on=['acnum', 'pos', 'egtm', 'recorded_dt'])\n",
    "if 'n2_delt' not in egtm.columns:\n",
    "  egtm = pd.merge(egtm, n2_raw, on=['acnum', 'pos', 'egtm', 'recorded_dt'])\n",
    "egtm = egtm.set_index('recorded_dt').sort_index()\n",
    "egtm"
   ]
  },
  {
   "cell_type": "code",
   "execution_count": 7,
   "metadata": {},
   "outputs": [
    {
     "data": {
      "image/png": "[encoded data removed]",
      "text/plain": [
       "<Figure size 2000x500 with 1 Axes>"
      ]
     },
     "metadata": {},
     "output_type": "display_data"
    }
   ],
   "source": [
    "acms_filtered = acms[\n",
    "    (pd.to_datetime(acms.index).year == 2019) &\n",
    "    (pd.to_datetime(acms.index).month == 10) &\n",
    "    (pd.to_datetime(acms.index).day <= 15)  \n",
    "    # (pd.to_datetime(acms.index).day <= 21)\n",
    "]\n",
    "\n",
    "acms_line = acms_filtered.index\n",
    "\n",
    "egtm_filtered = egtm[\n",
    "    (pd.to_datetime(egtm.index).year == 2019) &\n",
    "    (pd.to_datetime(egtm.index).month == 10) & \n",
    "    (pd.to_datetime(egtm.index).day <= 15) \n",
    "    # (pd.to_datetime(egtm.index).day <= 21) \n",
    "]\n",
    "\n",
    "egtm_line = egtm_filtered.index\n",
    "\n",
    "fig, ax = plt.subplots(figsize=(20, 5))\n",
    "\n",
    "ax.scatter(acms_line, y=acms_line.map(lambda _ : 1), s=20)\n",
    "ax.scatter(egtm_line, y=egtm_line.map(lambda _: 2), s=20)\n",
    "ax.legend([\"ACMS reports\", \"EGTM reports\"])\n",
    "ax.set_ylim([0, 3])\n",
    "ax.set_title(\"Reports timeline\")\n",
    "ax.grid(which='minor', alpha=1)\n",
    "ax.grid(which='major', alpha=1)\n",
    "plt.show()"
   ]
  },
  {
   "cell_type": "code",
   "execution_count": 8,
   "metadata": {},
   "outputs": [
    {
     "data": {
      "text/html": [
       "<div>\n",
       "<style scoped>\n",
       "    .dataframe tbody tr th:only-of-type {\n",
       "        vertical-align: middle;\n",
       "    }\n",
       "\n",
       "    .dataframe tbody tr th {\n",
       "        vertical-align: top;\n",
       "    }\n",
       "\n",
       "    .dataframe thead th {\n",
       "        text-align: right;\n",
       "    }\n",
       "</style>\n",
       "<table border=\"1\" class=\"dataframe\">\n",
       "  <thead>\n",
       "    <tr style=\"text-align: right;\">\n",
       "      <th></th>\n",
       "      <th>reportts</th>\n",
       "      <th>naiup</th>\n",
       "      <th>0</th>\n",
       "      <th>recorded_dt</th>\n",
       "      <th>egtm</th>\n",
       "    </tr>\n",
       "  </thead>\n",
       "  <tbody>\n",
       "    <tr>\n",
       "      <th>0</th>\n",
       "      <td>2019-10-01 09:08:46</td>\n",
       "      <td>120.9</td>\n",
       "      <td>1</td>\n",
       "      <td>2019-10-01 13:52:33</td>\n",
       "      <td>22.424</td>\n",
       "    </tr>\n",
       "    <tr>\n",
       "      <th>1</th>\n",
       "      <td>2019-10-01 09:08:46</td>\n",
       "      <td>119.5</td>\n",
       "      <td>2</td>\n",
       "      <td>2019-10-01 13:52:33</td>\n",
       "      <td>21.667</td>\n",
       "    </tr>\n",
       "    <tr>\n",
       "      <th>2</th>\n",
       "      <td>2019-10-01 13:52:32</td>\n",
       "      <td>116.7</td>\n",
       "      <td>2</td>\n",
       "      <td>2019-10-01 19:43:33</td>\n",
       "      <td>21.257</td>\n",
       "    </tr>\n",
       "    <tr>\n",
       "      <th>3</th>\n",
       "      <td>2019-10-01 13:52:32</td>\n",
       "      <td>116.9</td>\n",
       "      <td>1</td>\n",
       "      <td>2019-10-01 19:43:33</td>\n",
       "      <td>21.960</td>\n",
       "    </tr>\n",
       "    <tr>\n",
       "      <th>4</th>\n",
       "      <td>2019-10-01 19:43:33</td>\n",
       "      <td>119.4</td>\n",
       "      <td>1</td>\n",
       "      <td>2019-10-02 02:27:41</td>\n",
       "      <td>21.927</td>\n",
       "    </tr>\n",
       "    <tr>\n",
       "      <th>...</th>\n",
       "      <td>...</td>\n",
       "      <td>...</td>\n",
       "      <td>...</td>\n",
       "      <td>...</td>\n",
       "      <td>...</td>\n",
       "    </tr>\n",
       "    <tr>\n",
       "      <th>107</th>\n",
       "      <td>2019-10-15 01:47:16</td>\n",
       "      <td>118.3</td>\n",
       "      <td>1</td>\n",
       "      <td>NaT</td>\n",
       "      <td>NaN</td>\n",
       "    </tr>\n",
       "    <tr>\n",
       "      <th>108</th>\n",
       "      <td>2019-10-15 09:56:27</td>\n",
       "      <td>117.3</td>\n",
       "      <td>1</td>\n",
       "      <td>NaT</td>\n",
       "      <td>NaN</td>\n",
       "    </tr>\n",
       "    <tr>\n",
       "      <th>109</th>\n",
       "      <td>2019-10-15 09:56:27</td>\n",
       "      <td>115.7</td>\n",
       "      <td>2</td>\n",
       "      <td>NaT</td>\n",
       "      <td>NaN</td>\n",
       "    </tr>\n",
       "    <tr>\n",
       "      <th>110</th>\n",
       "      <td>2019-10-15 14:48:16</td>\n",
       "      <td>116.4</td>\n",
       "      <td>1</td>\n",
       "      <td>NaT</td>\n",
       "      <td>NaN</td>\n",
       "    </tr>\n",
       "    <tr>\n",
       "      <th>111</th>\n",
       "      <td>2019-10-15 14:48:16</td>\n",
       "      <td>114.6</td>\n",
       "      <td>2</td>\n",
       "      <td>NaT</td>\n",
       "      <td>NaN</td>\n",
       "    </tr>\n",
       "  </tbody>\n",
       "</table>\n",
       "<p>112 rows × 5 columns</p>\n",
       "</div>"
      ],
      "text/plain": [
       "               reportts  naiup  0         recorded_dt    egtm\n",
       "0   2019-10-01 09:08:46  120.9  1 2019-10-01 13:52:33  22.424\n",
       "1   2019-10-01 09:08:46  119.5  2 2019-10-01 13:52:33  21.667\n",
       "2   2019-10-01 13:52:32  116.7  2 2019-10-01 19:43:33  21.257\n",
       "3   2019-10-01 13:52:32  116.9  1 2019-10-01 19:43:33  21.960\n",
       "4   2019-10-01 19:43:33  119.4  1 2019-10-02 02:27:41  21.927\n",
       "..                  ...    ... ..                 ...     ...\n",
       "107 2019-10-15 01:47:16  118.3  1                 NaT     NaN\n",
       "108 2019-10-15 09:56:27  117.3  1                 NaT     NaN\n",
       "109 2019-10-15 09:56:27  115.7  2                 NaT     NaN\n",
       "110 2019-10-15 14:48:16  116.4  1                 NaT     NaN\n",
       "111 2019-10-15 14:48:16  114.6  2                 NaT     NaN\n",
       "\n",
       "[112 rows x 5 columns]"
      ]
     },
     "execution_count": 8,
     "metadata": {},
     "output_type": "execute_result"
    }
   ],
   "source": [
    "pd.concat([\n",
    "    pd.Series(acms_line),\n",
    "    pd.Series(acms_filtered['naiup'].to_numpy(), name='naiup'),\n",
    "    pd.Series(acms_filtered['pos'].to_numpy()),\n",
    "    pd.Series(egtm_line),\n",
    "    pd.Series(egtm_filtered['egtm'].to_numpy(), name='egtm'),\n",
    "], axis=1)"
   ]
  },
  {
   "cell_type": "markdown",
   "metadata": {},
   "source": [
    "Гипотеза: output параметры вычислялись вскоре после записи input параметров "
   ]
  },
  {
   "cell_type": "code",
   "execution_count": 9,
   "metadata": {},
   "outputs": [],
   "source": [
    "def merge_by_date(left: pd.DataFrame, right: pd.DataFrame):\n",
    "  left.sort_values('reportts', inplace=True)\n",
    "  right.sort_values('reportts', inplace=True)\n",
    "  right['reportts_'] = right['reportts'] \n",
    "\n",
    "  left = left.drop_duplicates('reportts').set_index('reportts')\n",
    "  right = right.drop_duplicates('reportts').set_index('reportts')\n",
    "\n",
    "  right_indexed = \\\n",
    "      right.reindex(left.index, method='ffill').reset_index()\n",
    "  return pd.merge(left, right_indexed, on=['reportts', 'acnum', 'pos'], suffixes=(None, '_'))\n",
    "\n",
    "def merge_both_engines(left: pd.DataFrame, right: pd.DataFrame, positions = [1, 2]):\n",
    "  result = []\n",
    "  \n",
    "  for pos in positions:\n",
    "    left_ = left[(left['pos'] == pos)].copy()\n",
    "    right_ = right[(right['pos'] == pos)].copy()\n",
    "    merged = merge_by_date(left_, right_)\n",
    "    result.append(merged)\n",
    "\n",
    "  return pd.concat(result, ignore_index=True)\n",
    "\n",
    "\n",
    "merged = merge_both_engines( \n",
    "  egtm.reset_index().rename(columns={'recorded_dt': 'reportts'}),\n",
    "  acms.reset_index()\n",
    ")\n",
    "\n",
    "diff = (merged['reportts'] - merged['reportts_']) \\\n",
    "        .astype('timedelta64[s]').astype('int')\n",
    "\n",
    "merged_sample = merged[diff < 30]\n"
   ]
  },
  {
   "cell_type": "code",
   "execution_count": 10,
   "metadata": {},
   "outputs": [
    {
     "name": "stdout",
     "output_type": "stream",
     "text": [
      "(1670, 210)\n"
     ]
    },
    {
     "data": {
      "text/html": [
       "<div>\n",
       "<style scoped>\n",
       "    .dataframe tbody tr th:only-of-type {\n",
       "        vertical-align: middle;\n",
       "    }\n",
       "\n",
       "    .dataframe tbody tr th {\n",
       "        vertical-align: top;\n",
       "    }\n",
       "\n",
       "    .dataframe thead th {\n",
       "        text-align: right;\n",
       "    }\n",
       "</style>\n",
       "<table border=\"1\" class=\"dataframe\">\n",
       "  <thead>\n",
       "    <tr style=\"text-align: right;\">\n",
       "      <th></th>\n",
       "      <th>reportts</th>\n",
       "      <th>acnum</th>\n",
       "      <th>pos</th>\n",
       "      <th>egtm</th>\n",
       "      <th>n1_delt</th>\n",
       "      <th>n2_delt</th>\n",
       "      <th>fltdes</th>\n",
       "      <th>dep</th>\n",
       "      <th>arr</th>\n",
       "      <th>pf</th>\n",
       "      <th>...</th>\n",
       "      <th>tr</th>\n",
       "      <th>ttp</th>\n",
       "      <th>vb1</th>\n",
       "      <th>vb2</th>\n",
       "      <th>vorrc</th>\n",
       "      <th>vorv</th>\n",
       "      <th>votm</th>\n",
       "      <th>vsva</th>\n",
       "      <th>w14</th>\n",
       "      <th>reportts_</th>\n",
       "    </tr>\n",
       "  </thead>\n",
       "  <tbody>\n",
       "    <tr>\n",
       "      <th>1768</th>\n",
       "      <td>2020-02-05 05:07:31</td>\n",
       "      <td>VQ-BGU</td>\n",
       "      <td>2</td>\n",
       "      <td>17.670</td>\n",
       "      <td>-0.099998</td>\n",
       "      <td>-0.307325</td>\n",
       "      <td>2508.0</td>\n",
       "      <td>UNNT</td>\n",
       "      <td>UUDD</td>\n",
       "      <td>0.03</td>\n",
       "      <td>...</td>\n",
       "      <td>NaN</td>\n",
       "      <td>47.0</td>\n",
       "      <td>0.1</td>\n",
       "      <td>0.1</td>\n",
       "      <td>56.5</td>\n",
       "      <td>NaN</td>\n",
       "      <td>NaN</td>\n",
       "      <td>0.756</td>\n",
       "      <td>1177.0</td>\n",
       "      <td>2020-02-05 05:07:30</td>\n",
       "    </tr>\n",
       "    <tr>\n",
       "      <th>1770</th>\n",
       "      <td>2020-02-09 02:18:44</td>\n",
       "      <td>VQ-BGU</td>\n",
       "      <td>2</td>\n",
       "      <td>17.467</td>\n",
       "      <td>-0.059998</td>\n",
       "      <td>-0.545474</td>\n",
       "      <td>3062.0</td>\n",
       "      <td>UHBB</td>\n",
       "      <td>UUDD</td>\n",
       "      <td>0.03</td>\n",
       "      <td>...</td>\n",
       "      <td>NaN</td>\n",
       "      <td>NaN</td>\n",
       "      <td>0.1</td>\n",
       "      <td>0.2</td>\n",
       "      <td>45.5</td>\n",
       "      <td>NaN</td>\n",
       "      <td>NaN</td>\n",
       "      <td>0.826</td>\n",
       "      <td>1387.0</td>\n",
       "      <td>2020-02-09 02:18:34</td>\n",
       "    </tr>\n",
       "    <tr>\n",
       "      <th>1771</th>\n",
       "      <td>2020-02-10 02:04:56</td>\n",
       "      <td>VQ-BGU</td>\n",
       "      <td>2</td>\n",
       "      <td>17.079</td>\n",
       "      <td>-0.040001</td>\n",
       "      <td>-0.313053</td>\n",
       "      <td>3062.0</td>\n",
       "      <td>UHBB</td>\n",
       "      <td>UUDD</td>\n",
       "      <td>0.03</td>\n",
       "      <td>...</td>\n",
       "      <td>NaN</td>\n",
       "      <td>42.0</td>\n",
       "      <td>0.1</td>\n",
       "      <td>0.2</td>\n",
       "      <td>49.6</td>\n",
       "      <td>NaN</td>\n",
       "      <td>NaN</td>\n",
       "      <td>0.797</td>\n",
       "      <td>1325.0</td>\n",
       "      <td>2020-02-10 02:04:55</td>\n",
       "    </tr>\n",
       "    <tr>\n",
       "      <th>1772</th>\n",
       "      <td>2020-02-10 17:24:01</td>\n",
       "      <td>VQ-BGU</td>\n",
       "      <td>2</td>\n",
       "      <td>16.755</td>\n",
       "      <td>-0.059998</td>\n",
       "      <td>-0.524035</td>\n",
       "      <td>3061.0</td>\n",
       "      <td>UUDD</td>\n",
       "      <td>UHBB</td>\n",
       "      <td>0.51</td>\n",
       "      <td>...</td>\n",
       "      <td>NaN</td>\n",
       "      <td>NaN</td>\n",
       "      <td>0.1</td>\n",
       "      <td>0.3</td>\n",
       "      <td>48.1</td>\n",
       "      <td>NaN</td>\n",
       "      <td>NaN</td>\n",
       "      <td>0.830</td>\n",
       "      <td>1305.0</td>\n",
       "      <td>2020-02-10 17:23:51</td>\n",
       "    </tr>\n",
       "    <tr>\n",
       "      <th>1773</th>\n",
       "      <td>2020-02-11 02:09:38</td>\n",
       "      <td>VQ-BGU</td>\n",
       "      <td>2</td>\n",
       "      <td>16.916</td>\n",
       "      <td>-0.089996</td>\n",
       "      <td>-0.279018</td>\n",
       "      <td>3062.0</td>\n",
       "      <td>UHBB</td>\n",
       "      <td>UUDD</td>\n",
       "      <td>0.51</td>\n",
       "      <td>...</td>\n",
       "      <td>NaN</td>\n",
       "      <td>35.0</td>\n",
       "      <td>0.1</td>\n",
       "      <td>0.1</td>\n",
       "      <td>51.9</td>\n",
       "      <td>NaN</td>\n",
       "      <td>NaN</td>\n",
       "      <td>0.779</td>\n",
       "      <td>1248.0</td>\n",
       "      <td>2020-02-11 02:09:37</td>\n",
       "    </tr>\n",
       "  </tbody>\n",
       "</table>\n",
       "<p>5 rows × 210 columns</p>\n",
       "</div>"
      ],
      "text/plain": [
       "                reportts   acnum  pos    egtm   n1_delt   n2_delt  fltdes   \n",
       "1768 2020-02-05 05:07:31  VQ-BGU    2  17.670 -0.099998 -0.307325  2508.0  \\\n",
       "1770 2020-02-09 02:18:44  VQ-BGU    2  17.467 -0.059998 -0.545474  3062.0   \n",
       "1771 2020-02-10 02:04:56  VQ-BGU    2  17.079 -0.040001 -0.313053  3062.0   \n",
       "1772 2020-02-10 17:24:01  VQ-BGU    2  16.755 -0.059998 -0.524035  3061.0   \n",
       "1773 2020-02-11 02:09:38  VQ-BGU    2  16.916 -0.089996 -0.279018  3062.0   \n",
       "\n",
       "       dep   arr    pf  ...  tr   ttp  vb1  vb2  vorrc  vorv  votm   vsva   \n",
       "1768  UNNT  UUDD  0.03  ... NaN  47.0  0.1  0.1   56.5   NaN   NaN  0.756  \\\n",
       "1770  UHBB  UUDD  0.03  ... NaN   NaN  0.1  0.2   45.5   NaN   NaN  0.826   \n",
       "1771  UHBB  UUDD  0.03  ... NaN  42.0  0.1  0.2   49.6   NaN   NaN  0.797   \n",
       "1772  UUDD  UHBB  0.51  ... NaN   NaN  0.1  0.3   48.1   NaN   NaN  0.830   \n",
       "1773  UHBB  UUDD  0.51  ... NaN  35.0  0.1  0.1   51.9   NaN   NaN  0.779   \n",
       "\n",
       "         w14           reportts_  \n",
       "1768  1177.0 2020-02-05 05:07:30  \n",
       "1770  1387.0 2020-02-09 02:18:34  \n",
       "1771  1325.0 2020-02-10 02:04:55  \n",
       "1772  1305.0 2020-02-10 17:23:51  \n",
       "1773  1248.0 2020-02-11 02:09:37  \n",
       "\n",
       "[5 rows x 210 columns]"
      ]
     },
     "execution_count": 10,
     "metadata": {},
     "output_type": "execute_result"
    }
   ],
   "source": [
    "print(merged_sample.shape)\n",
    "\n",
    "merged_sample.tail(5)"
   ]
  },
  {
   "attachments": {},
   "cell_type": "markdown",
   "metadata": {},
   "source": [
    "Гипотеза верна, и для 1672 записей разница во времени *delta_t = output_t - input_t* составляет не более +30 секунд. Эти записи являются наиболее чистыми данными, которые в дальнейшем я буду использовать для построения baseline-моделей. Есть также небольшая часть данных, для которых delta_t отрицательна. На данный момент эти записи я не включаю в датасет, так как нет уверенности в их корректности. \n",
    "\n",
    "Датасет `takeoff-merged-VQ-BGU-30s.csv` будет основным для борта VQ-BGU."
   ]
  },
  {
   "cell_type": "code",
   "execution_count": 11,
   "metadata": {},
   "outputs": [],
   "source": [
    "# merged_sample.drop(columns=['reportts_']) \\\n",
    "#              .to_csv('./takeoff-merged-VQ-BGU-30s-full.csv', index=False)"
   ]
  },
  {
   "cell_type": "code",
   "execution_count": 12,
   "metadata": {},
   "outputs": [
    {
     "data": {
      "text/html": [
       "<div>\n",
       "<style scoped>\n",
       "    .dataframe tbody tr th:only-of-type {\n",
       "        vertical-align: middle;\n",
       "    }\n",
       "\n",
       "    .dataframe tbody tr th {\n",
       "        vertical-align: top;\n",
       "    }\n",
       "\n",
       "    .dataframe thead th {\n",
       "        text-align: right;\n",
       "    }\n",
       "</style>\n",
       "<table border=\"1\" class=\"dataframe\">\n",
       "  <thead>\n",
       "    <tr style=\"text-align: right;\">\n",
       "      <th></th>\n",
       "      <th>pos</th>\n",
       "      <th>reportts_</th>\n",
       "      <th>egt</th>\n",
       "      <th>reportts</th>\n",
       "      <th>egtm</th>\n",
       "    </tr>\n",
       "  </thead>\n",
       "  <tbody>\n",
       "    <tr>\n",
       "      <th>733</th>\n",
       "      <td>1</td>\n",
       "      <td>2019-10-20 13:50:44</td>\n",
       "      <td>907.2</td>\n",
       "      <td>2019-10-20 13:50:45</td>\n",
       "      <td>21.292</td>\n",
       "    </tr>\n",
       "    <tr>\n",
       "      <th>734</th>\n",
       "      <td>1</td>\n",
       "      <td>2019-10-21 03:40:08</td>\n",
       "      <td>885.9</td>\n",
       "      <td>2019-10-21 03:40:09</td>\n",
       "      <td>21.321</td>\n",
       "    </tr>\n",
       "    <tr>\n",
       "      <th>735</th>\n",
       "      <td>1</td>\n",
       "      <td>2019-10-21 11:45:41</td>\n",
       "      <td>947.8</td>\n",
       "      <td>2019-10-21 11:45:42</td>\n",
       "      <td>21.048</td>\n",
       "    </tr>\n",
       "    <tr>\n",
       "      <th>736</th>\n",
       "      <td>1</td>\n",
       "      <td>2019-10-21 19:06:36</td>\n",
       "      <td>916.8</td>\n",
       "      <td>2019-10-21 19:06:42</td>\n",
       "      <td>20.711</td>\n",
       "    </tr>\n",
       "    <tr>\n",
       "      <th>1620</th>\n",
       "      <td>2</td>\n",
       "      <td>2019-10-20 13:50:44</td>\n",
       "      <td>904.4</td>\n",
       "      <td>2019-10-20 13:50:45</td>\n",
       "      <td>22.413</td>\n",
       "    </tr>\n",
       "    <tr>\n",
       "      <th>1621</th>\n",
       "      <td>2</td>\n",
       "      <td>2019-10-21 03:40:08</td>\n",
       "      <td>885.6</td>\n",
       "      <td>2019-10-21 03:40:09</td>\n",
       "      <td>22.380</td>\n",
       "    </tr>\n",
       "    <tr>\n",
       "      <th>1622</th>\n",
       "      <td>2</td>\n",
       "      <td>2019-10-21 11:45:41</td>\n",
       "      <td>948.0</td>\n",
       "      <td>2019-10-21 11:45:42</td>\n",
       "      <td>22.057</td>\n",
       "    </tr>\n",
       "    <tr>\n",
       "      <th>1623</th>\n",
       "      <td>2</td>\n",
       "      <td>2019-10-21 19:06:36</td>\n",
       "      <td>918.0</td>\n",
       "      <td>2019-10-21 19:06:42</td>\n",
       "      <td>21.749</td>\n",
       "    </tr>\n",
       "  </tbody>\n",
       "</table>\n",
       "</div>"
      ],
      "text/plain": [
       "      pos           reportts_    egt            reportts    egtm\n",
       "733     1 2019-10-20 13:50:44  907.2 2019-10-20 13:50:45  21.292\n",
       "734     1 2019-10-21 03:40:08  885.9 2019-10-21 03:40:09  21.321\n",
       "735     1 2019-10-21 11:45:41  947.8 2019-10-21 11:45:42  21.048\n",
       "736     1 2019-10-21 19:06:36  916.8 2019-10-21 19:06:42  20.711\n",
       "1620    2 2019-10-20 13:50:44  904.4 2019-10-20 13:50:45  22.413\n",
       "1621    2 2019-10-21 03:40:08  885.6 2019-10-21 03:40:09  22.380\n",
       "1622    2 2019-10-21 11:45:41  948.0 2019-10-21 11:45:42  22.057\n",
       "1623    2 2019-10-21 19:06:36  918.0 2019-10-21 19:06:42  21.749"
      ]
     },
     "execution_count": 12,
     "metadata": {},
     "output_type": "execute_result"
    }
   ],
   "source": [
    "m = merged_sample\n",
    "m[(m['reportts'] > '2019-10-19') & (m['reportts'] < '2019-10-22')][\n",
    "    ['pos', 'reportts_', 'egt', 'reportts', 'egtm']\n",
    "]"
   ]
  },
  {
   "cell_type": "code",
   "execution_count": 13,
   "metadata": {},
   "outputs": [
    {
     "data": {
      "text/plain": [
       "(1674, 209)"
      ]
     },
     "execution_count": 13,
     "metadata": {},
     "output_type": "execute_result"
    }
   ],
   "source": [
    "res = []\n",
    "\n",
    "for pos in [1, 2]:\n",
    "  egtm_to_merge = egtm \\\n",
    "    .query(f'pos=={pos}') \\\n",
    "    .reset_index().rename(columns={'recorded_dt': 'reportts'}) \\\n",
    "    .set_index('reportts').sort_index() \\\n",
    "    .drop(columns=['acnum', 'pos'])\n",
    "\n",
    "  m = pd.merge_asof( \n",
    "    acms.query(f'pos=={pos}'),\n",
    "    egtm_to_merge,\n",
    "    on='reportts',\n",
    "    direction='nearest',\n",
    "    tolerance=pd.to_timedelta('30 sec')\n",
    "  )\n",
    "  res.append(m)\n",
    "\n",
    "merged2 = pd.concat(res).dropna(subset=['egtm'])\n",
    "merged2.shape"
   ]
  },
  {
   "cell_type": "code",
   "execution_count": 14,
   "metadata": {},
   "outputs": [
    {
     "data": {
      "text/plain": [
       "[<matplotlib.lines.Line2D at 0x7f2f5d9de790>]"
      ]
     },
     "execution_count": 14,
     "metadata": {},
     "output_type": "execute_result"
    },
    {
     "data": {
      "image/png": "[encoded data removed]",
      "text/plain": [
       "<Figure size 1400x500 with 1 Axes>"
      ]
     },
     "metadata": {},
     "output_type": "display_data"
    }
   ],
   "source": [
    "plt.figure(figsize=(14, 5))\n",
    "m = merged2.query('pos==1')\n",
    "plt.plot(m['reportts'], m['egtm'])"
   ]
  },
  {
   "cell_type": "code",
   "execution_count": 15,
   "metadata": {},
   "outputs": [],
   "source": [
    "# merged2.to_csv('./data/takeoff-merged-VQ-BGU.csv')"
   ]
  },
  {
   "cell_type": "code",
   "execution_count": 20,
   "metadata": {},
   "outputs": [
    {
     "data": {
      "text/plain": [
       "366"
      ]
     },
     "execution_count": 20,
     "metadata": {},
     "output_type": "execute_result"
    }
   ],
   "source": [
    "egtm_raw.query('acnum == \"VQ-BGU\" and recorded_dt <= \"2019-03-01\"').shape[0]"
   ]
  },
  {
   "cell_type": "code",
   "execution_count": 25,
   "metadata": {},
   "outputs": [
    {
     "data": {
      "text/plain": [
       "364"
      ]
     },
     "execution_count": 25,
     "metadata": {},
     "output_type": "execute_result"
    }
   ],
   "source": [
    "merged2.query('reportts <= \"2019-03-01\"').shape[0]"
   ]
  },
  {
   "cell_type": "code",
   "execution_count": 23,
   "metadata": {},
   "outputs": [
    {
     "data": {
      "text/plain": [
       "506"
      ]
     },
     "execution_count": 23,
     "metadata": {},
     "output_type": "execute_result"
    }
   ],
   "source": [
    "acms_full.query(f'acnum==\"{acnum}\" and reportname==\"{takeoff_reportname}\" and reportts <= \"2019-03-01\"').shape[0]"
   ]
  }
 ],
 "metadata": {
  "kernelspec": {
   "display_name": "Python 3",
   "language": "python",
   "name": "python3"
  },
  "language_info": {
   "codemirror_mode": {
    "name": "ipython",
    "version": 3
   },
   "file_extension": ".py",
   "mimetype": "text/x-python",
   "name": "python",
   "nbconvert_exporter": "python",
   "pygments_lexer": "ipython3",
   "version": "3.11.8"
  },
  "vscode": {
   "interpreter": {
    "hash": "e7370f93d1d0cde622a1f8e1c04877d8463912d04d973331ad4851f04de6915a"
   }
  }
 },
 "nbformat": 4,
 "nbformat_minor": 2
}
