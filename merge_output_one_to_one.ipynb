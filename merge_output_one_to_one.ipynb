{
 "cells": [
  {
   "cell_type": "markdown",
   "metadata": {},
   "source": [
    "In this file I attempt to find respecting record in ACMS (input) dataset for each report in output dataset"
   ]
  },
  {
   "cell_type": "code",
   "execution_count": 2,
   "metadata": {},
   "outputs": [],
   "source": [
    "import matplotlib.pyplot as plt\n",
    "import pandas as pd"
   ]
  },
  {
   "cell_type": "code",
   "execution_count": 3,
   "metadata": {},
   "outputs": [
    {
     "data": {
      "text/plain": [
       "(4736, 206)"
      ]
     },
     "execution_count": 3,
     "metadata": {},
     "output_type": "execute_result"
    }
   ],
   "source": [
    "acms_path = './data/neo_takeoff_202403260034.csv'\n",
    "# acms_path = './data/neo_takeoff_202404192324.csv'\n",
    "\n",
    "acms_full = pd.read_csv(acms_path, parse_dates=['reportts'], low_memory=False)\n",
    "\n",
    "# acnum = 'VQ-BGU'\n",
    "acnum = 'VP-BWB'\n",
    "# takeoff_reportname = 'A321 ENGINE TAKE OFF REPORT'\n",
    "# takeoff_reportname = 'A320 ENGINE TAKE OFF REPORT'\n",
    "\n",
    "acms = acms_full.query(f'acnum == @acnum') \\\n",
    "    .drop(columns=['reportname']) \\\n",
    "    .set_index('reportts') \\\n",
    "    .sort_index()\n",
    "\n",
    "acms.shape"
   ]
  },
  {
   "cell_type": "code",
   "execution_count": 4,
   "metadata": {},
   "outputs": [
    {
     "data": {
      "text/html": [
       "<div>\n",
       "<style scoped>\n",
       "    .dataframe tbody tr th:only-of-type {\n",
       "        vertical-align: middle;\n",
       "    }\n",
       "\n",
       "    .dataframe tbody tr th {\n",
       "        vertical-align: top;\n",
       "    }\n",
       "\n",
       "    .dataframe thead th {\n",
       "        text-align: right;\n",
       "    }\n",
       "</style>\n",
       "<table border=\"1\" class=\"dataframe\">\n",
       "  <thead>\n",
       "    <tr style=\"text-align: right;\">\n",
       "      <th></th>\n",
       "      <th>acnum</th>\n",
       "      <th>pos</th>\n",
       "      <th>recorded_dt</th>\n",
       "      <th>egtm</th>\n",
       "    </tr>\n",
       "  </thead>\n",
       "  <tbody>\n",
       "    <tr>\n",
       "      <th>9469</th>\n",
       "      <td>VP-BWB</td>\n",
       "      <td>2</td>\n",
       "      <td>2019-03-02 02:03:26</td>\n",
       "      <td>126.805</td>\n",
       "    </tr>\n",
       "    <tr>\n",
       "      <th>9470</th>\n",
       "      <td>VP-BWB</td>\n",
       "      <td>2</td>\n",
       "      <td>2019-03-02 10:47:56</td>\n",
       "      <td>130.239</td>\n",
       "    </tr>\n",
       "    <tr>\n",
       "      <th>9471</th>\n",
       "      <td>VP-BWB</td>\n",
       "      <td>2</td>\n",
       "      <td>2019-03-02 16:20:39</td>\n",
       "      <td>129.515</td>\n",
       "    </tr>\n",
       "    <tr>\n",
       "      <th>9472</th>\n",
       "      <td>VP-BWB</td>\n",
       "      <td>2</td>\n",
       "      <td>2019-03-02 22:16:46</td>\n",
       "      <td>129.676</td>\n",
       "    </tr>\n",
       "    <tr>\n",
       "      <th>9473</th>\n",
       "      <td>VP-BWB</td>\n",
       "      <td>2</td>\n",
       "      <td>2019-03-03 04:54:28</td>\n",
       "      <td>129.296</td>\n",
       "    </tr>\n",
       "  </tbody>\n",
       "</table>\n",
       "</div>"
      ],
      "text/plain": [
       "       acnum  pos         recorded_dt     egtm\n",
       "9469  VP-BWB    2 2019-03-02 02:03:26  126.805\n",
       "9470  VP-BWB    2 2019-03-02 10:47:56  130.239\n",
       "9471  VP-BWB    2 2019-03-02 16:20:39  129.515\n",
       "9472  VP-BWB    2 2019-03-02 22:16:46  129.676\n",
       "9473  VP-BWB    2 2019-03-03 04:54:28  129.296"
      ]
     },
     "execution_count": 4,
     "metadata": {},
     "output_type": "execute_result"
    }
   ],
   "source": [
    "egtm_raw = pd.read_csv('./data/Data EGT N1Vib ACC ITT.csv', parse_dates=['RECORDED_DT']) \\\n",
    "    .drop(columns=['ESN']) \\\n",
    "    .rename(columns={\n",
    "        'AIRCRAFT': 'acnum',\n",
    "        'POSITION': 'pos',\n",
    "        'RECORDED_DT': 'recorded_dt',\n",
    "        'RWCTOMAR': 'egtm',\n",
    "        'EGTM': 'egtm'\n",
    "    }) \\\n",
    "    .loc[:, :'egtm']\n",
    "\n",
    "egtm_raw['recorded_dt'] = pd.to_datetime(egtm_raw['recorded_dt'], format='%m/%d/%Y %I:%M:%S', errors='raise')\n",
    "\n",
    "egtm = egtm_raw.query(f'acnum == @acnum and egtm > 0')\n",
    "\n",
    "egtm.head()"
   ]
  },
  {
   "cell_type": "code",
   "execution_count": 61,
   "metadata": {},
   "outputs": [
    {
     "data": {
      "text/html": [
       "<div>\n",
       "<style scoped>\n",
       "    .dataframe tbody tr th:only-of-type {\n",
       "        vertical-align: middle;\n",
       "    }\n",
       "\n",
       "    .dataframe tbody tr th {\n",
       "        vertical-align: top;\n",
       "    }\n",
       "\n",
       "    .dataframe thead th {\n",
       "        text-align: right;\n",
       "    }\n",
       "</style>\n",
       "<table border=\"1\" class=\"dataframe\">\n",
       "  <thead>\n",
       "    <tr style=\"text-align: right;\">\n",
       "      <th></th>\n",
       "      <th>pos</th>\n",
       "      <th>recorded_dt</th>\n",
       "      <th>egtm</th>\n",
       "    </tr>\n",
       "    <tr>\n",
       "      <th>acnum</th>\n",
       "      <th></th>\n",
       "      <th></th>\n",
       "      <th></th>\n",
       "    </tr>\n",
       "  </thead>\n",
       "  <tbody>\n",
       "    <tr>\n",
       "      <th>VP-BWB</th>\n",
       "      <td>1475</td>\n",
       "      <td>1475</td>\n",
       "      <td>1466</td>\n",
       "    </tr>\n",
       "    <tr>\n",
       "      <th>VP-BWM</th>\n",
       "      <td>1250</td>\n",
       "      <td>1250</td>\n",
       "      <td>1238</td>\n",
       "    </tr>\n",
       "    <tr>\n",
       "      <th>VP-BWN</th>\n",
       "      <td>991</td>\n",
       "      <td>991</td>\n",
       "      <td>986</td>\n",
       "    </tr>\n",
       "    <tr>\n",
       "      <th>VQ-BCR</th>\n",
       "      <td>2843</td>\n",
       "      <td>2843</td>\n",
       "      <td>2817</td>\n",
       "    </tr>\n",
       "    <tr>\n",
       "      <th>VQ-BDQ</th>\n",
       "      <td>1294</td>\n",
       "      <td>1294</td>\n",
       "      <td>1284</td>\n",
       "    </tr>\n",
       "    <tr>\n",
       "      <th>VQ-BDU</th>\n",
       "      <td>2260</td>\n",
       "      <td>2260</td>\n",
       "      <td>2245</td>\n",
       "    </tr>\n",
       "    <tr>\n",
       "      <th>VQ-BGU</th>\n",
       "      <td>1813</td>\n",
       "      <td>1813</td>\n",
       "      <td>1779</td>\n",
       "    </tr>\n",
       "    <tr>\n",
       "      <th>VQ-BRA</th>\n",
       "      <td>8</td>\n",
       "      <td>8</td>\n",
       "      <td>8</td>\n",
       "    </tr>\n",
       "    <tr>\n",
       "      <th>VQ-BRI</th>\n",
       "      <td>1251</td>\n",
       "      <td>1251</td>\n",
       "      <td>1241</td>\n",
       "    </tr>\n",
       "  </tbody>\n",
       "</table>\n",
       "</div>"
      ],
      "text/plain": [
       "         pos  recorded_dt  egtm\n",
       "acnum                          \n",
       "VP-BWB  1475         1475  1466\n",
       "VP-BWM  1250         1250  1238\n",
       "VP-BWN   991          991   986\n",
       "VQ-BCR  2843         2843  2817\n",
       "VQ-BDQ  1294         1294  1284\n",
       "VQ-BDU  2260         2260  2245\n",
       "VQ-BGU  1813         1813  1779\n",
       "VQ-BRA     8            8     8\n",
       "VQ-BRI  1251         1251  1241"
      ]
     },
     "execution_count": 61,
     "metadata": {},
     "output_type": "execute_result"
    }
   ],
   "source": [
    "egtm_raw.groupby('acnum').count()"
   ]
  },
  {
   "cell_type": "code",
   "execution_count": 48,
   "metadata": {},
   "outputs": [
    {
     "data": {
      "text/plain": [
       "(4631, 5)"
      ]
     },
     "execution_count": 48,
     "metadata": {},
     "output_type": "execute_result"
    }
   ],
   "source": [
    "n1_raw = pd.read_csv('./data/Data N1.csv', parse_dates=['RECORDED_DT']) \\\n",
    "    .drop(columns=['ESN']) \\\n",
    "    .rename(columns={\n",
    "        'AIRCRAFT': 'acnum',\n",
    "        'POSITION': 'pos',\n",
    "        'RECORDED_DT': 'recorded_dt',\n",
    "        'EGTM': 'egtm',\n",
    "        'DELTA N1 (Actual vs Cmd)': 'n1_delt'\n",
    "    }) \\\n",
    "    .loc[:, :'n1_delt']\n",
    "\n",
    "n1_raw.shape"
   ]
  },
  {
   "cell_type": "code",
   "execution_count": 49,
   "metadata": {},
   "outputs": [
    {
     "data": {
      "text/plain": [
       "(4394, 5)"
      ]
     },
     "execution_count": 49,
     "metadata": {},
     "output_type": "execute_result"
    }
   ],
   "source": [
    "n2_raw = pd.read_csv('./data/Data N2.csv', parse_dates=['RECORDED_DT']) \\\n",
    "    .drop(columns=['ESN', 'ACC Valve Tprq mtr curr']) \\\n",
    "    .rename(columns={\n",
    "        'AIRCRAFT': 'acnum',\n",
    "        'POSITION': 'pos',\n",
    "        'RECORDED_DT': 'recorded_dt',\n",
    "        'EGTM': 'egtm',\n",
    "        'N2 Delt': 'n2_delt'\n",
    "    }) \\\n",
    "    .loc[:, :'n2_delt']\n",
    "\n",
    "n2_raw.shape"
   ]
  },
  {
   "cell_type": "code",
   "execution_count": 35,
   "metadata": {},
   "outputs": [
    {
     "data": {
      "text/html": [
       "<div>\n",
       "<style scoped>\n",
       "    .dataframe tbody tr th:only-of-type {\n",
       "        vertical-align: middle;\n",
       "    }\n",
       "\n",
       "    .dataframe tbody tr th {\n",
       "        vertical-align: top;\n",
       "    }\n",
       "\n",
       "    .dataframe thead th {\n",
       "        text-align: right;\n",
       "    }\n",
       "</style>\n",
       "<table border=\"1\" class=\"dataframe\">\n",
       "  <thead>\n",
       "    <tr style=\"text-align: right;\">\n",
       "      <th></th>\n",
       "      <th>acnum</th>\n",
       "      <th>pos</th>\n",
       "      <th>egtm</th>\n",
       "      <th>n1_delt</th>\n",
       "      <th>n2_delt</th>\n",
       "    </tr>\n",
       "    <tr>\n",
       "      <th>recorded_dt</th>\n",
       "      <th></th>\n",
       "      <th></th>\n",
       "      <th></th>\n",
       "      <th></th>\n",
       "      <th></th>\n",
       "    </tr>\n",
       "  </thead>\n",
       "  <tbody>\n",
       "    <tr>\n",
       "      <th>2018-05-20 19:36:47</th>\n",
       "      <td>VQ-BDQ</td>\n",
       "      <td>1</td>\n",
       "      <td>132.144</td>\n",
       "      <td>NaN</td>\n",
       "      <td>NaN</td>\n",
       "    </tr>\n",
       "    <tr>\n",
       "      <th>2018-05-20 19:36:47</th>\n",
       "      <td>VQ-BDQ</td>\n",
       "      <td>2</td>\n",
       "      <td>136.971</td>\n",
       "      <td>NaN</td>\n",
       "      <td>NaN</td>\n",
       "    </tr>\n",
       "    <tr>\n",
       "      <th>2018-05-22 01:48:50</th>\n",
       "      <td>VQ-BDQ</td>\n",
       "      <td>2</td>\n",
       "      <td>132.749</td>\n",
       "      <td>NaN</td>\n",
       "      <td>NaN</td>\n",
       "    </tr>\n",
       "    <tr>\n",
       "      <th>2018-05-22 01:48:50</th>\n",
       "      <td>VQ-BDQ</td>\n",
       "      <td>1</td>\n",
       "      <td>127.592</td>\n",
       "      <td>NaN</td>\n",
       "      <td>NaN</td>\n",
       "    </tr>\n",
       "    <tr>\n",
       "      <th>2018-05-23 19:51:23</th>\n",
       "      <td>VQ-BDQ</td>\n",
       "      <td>1</td>\n",
       "      <td>128.712</td>\n",
       "      <td>NaN</td>\n",
       "      <td>NaN</td>\n",
       "    </tr>\n",
       "    <tr>\n",
       "      <th>...</th>\n",
       "      <td>...</td>\n",
       "      <td>...</td>\n",
       "      <td>...</td>\n",
       "      <td>...</td>\n",
       "      <td>...</td>\n",
       "    </tr>\n",
       "    <tr>\n",
       "      <th>2020-02-02 04:14:45</th>\n",
       "      <td>VQ-BDQ</td>\n",
       "      <td>1</td>\n",
       "      <td>106.549</td>\n",
       "      <td>-0.090004</td>\n",
       "      <td>-0.220833</td>\n",
       "    </tr>\n",
       "    <tr>\n",
       "      <th>2020-02-02 16:24:00</th>\n",
       "      <td>VQ-BDQ</td>\n",
       "      <td>2</td>\n",
       "      <td>102.562</td>\n",
       "      <td>0.170006</td>\n",
       "      <td>-0.255308</td>\n",
       "    </tr>\n",
       "    <tr>\n",
       "      <th>2020-02-02 16:24:00</th>\n",
       "      <td>VQ-BDQ</td>\n",
       "      <td>1</td>\n",
       "      <td>106.186</td>\n",
       "      <td>0.160004</td>\n",
       "      <td>-0.232732</td>\n",
       "    </tr>\n",
       "    <tr>\n",
       "      <th>2020-02-02 22:24:23</th>\n",
       "      <td>VQ-BDQ</td>\n",
       "      <td>1</td>\n",
       "      <td>106.221</td>\n",
       "      <td>-0.070000</td>\n",
       "      <td>-0.122293</td>\n",
       "    </tr>\n",
       "    <tr>\n",
       "      <th>2020-02-02 22:24:23</th>\n",
       "      <td>VQ-BDQ</td>\n",
       "      <td>2</td>\n",
       "      <td>102.456</td>\n",
       "      <td>-0.080002</td>\n",
       "      <td>-0.164887</td>\n",
       "    </tr>\n",
       "  </tbody>\n",
       "</table>\n",
       "<p>2568 rows × 5 columns</p>\n",
       "</div>"
      ],
      "text/plain": [
       "                      acnum  pos     egtm   n1_delt   n2_delt\n",
       "recorded_dt                                                  \n",
       "2018-05-20 19:36:47  VQ-BDQ    1  132.144       NaN       NaN\n",
       "2018-05-20 19:36:47  VQ-BDQ    2  136.971       NaN       NaN\n",
       "2018-05-22 01:48:50  VQ-BDQ    2  132.749       NaN       NaN\n",
       "2018-05-22 01:48:50  VQ-BDQ    1  127.592       NaN       NaN\n",
       "2018-05-23 19:51:23  VQ-BDQ    1  128.712       NaN       NaN\n",
       "...                     ...  ...      ...       ...       ...\n",
       "2020-02-02 04:14:45  VQ-BDQ    1  106.549 -0.090004 -0.220833\n",
       "2020-02-02 16:24:00  VQ-BDQ    2  102.562  0.170006 -0.255308\n",
       "2020-02-02 16:24:00  VQ-BDQ    1  106.186  0.160004 -0.232732\n",
       "2020-02-02 22:24:23  VQ-BDQ    1  106.221 -0.070000 -0.122293\n",
       "2020-02-02 22:24:23  VQ-BDQ    2  102.456 -0.080002 -0.164887\n",
       "\n",
       "[2568 rows x 5 columns]"
      ]
     },
     "execution_count": 35,
     "metadata": {},
     "output_type": "execute_result"
    }
   ],
   "source": [
    "if 'n1_delt' not in egtm.columns:\n",
    "  egtm = pd.merge(egtm, n1_raw, on=['acnum', 'pos', 'egtm', 'recorded_dt'])\n",
    "if 'n2_delt' not in egtm.columns:\n",
    "  egtm = pd.merge(egtm, n2_raw, on=['acnum', 'pos', 'egtm', 'recorded_dt'])\n",
    "egtm = egtm.set_index('recorded_dt').sort_index()\n",
    "egtm"
   ]
  },
  {
   "cell_type": "code",
   "execution_count": 20,
   "metadata": {},
   "outputs": [
    {
     "data": {
      "image/png": "[encoded data removed]",
      "text/plain": [
       "<Figure size 2000x500 with 1 Axes>"
      ]
     },
     "metadata": {},
     "output_type": "display_data"
    }
   ],
   "source": [
    "acms_filtered = acms[\n",
    "    (pd.to_datetime(acms.index).year == 2019) &\n",
    "    (pd.to_datetime(acms.index).month == 10)\n",
    "    # (pd.to_datetime(acms.index).day <= 15)  \n",
    "    # (pd.to_datetime(acms.index).day <= 21)\n",
    "]\n",
    "\n",
    "acms_line = acms_filtered.index\n",
    "\n",
    "egtm_filtered = egtm[\n",
    "    (pd.to_datetime(egtm.index).year == 2019) &\n",
    "    (pd.to_datetime(egtm.index).month == 10) \n",
    "    # (pd.to_datetime(egtm.index).day <= 15) \n",
    "    # (pd.to_datetime(egtm.index).day <= 21) \n",
    "]\n",
    "\n",
    "egtm_line = egtm_filtered.index\n",
    "\n",
    "fig, ax = plt.subplots(figsize=(20, 5))\n",
    "\n",
    "ax.scatter(acms_line, y=acms_line.map(lambda _ : 1), s=20)\n",
    "ax.scatter(egtm_line, y=egtm_line.map(lambda _: 2), s=20)\n",
    "ax.legend([\"ACMS reports\", \"EGTM reports\"])\n",
    "ax.set_ylim([0, 3])\n",
    "ax.set_title(\"Reports timeline\")\n",
    "ax.grid(which='minor', alpha=1)\n",
    "ax.grid(which='major', alpha=1)\n",
    "plt.show()"
   ]
  },
  {
   "attachments": {},
   "cell_type": "markdown",
   "metadata": {},
   "source": [
    "Для 1672 записей разница во времени *delta_t = output_t - input_t* составляет не более +30 секунд. Эти записи являются наиболее чистыми данными, которые в дальнейшем я буду использовать для построения baseline-моделей. Есть также небольшая часть данных, для которых delta_t отрицательна. На данный момент эти записи я не включаю в датасет, так как нет уверенности в их корректности. \n",
    "\n",
    "Датасет `takeoff-merged-VQ-BGU-30s.csv` будет основным для борта VQ-BGU."
   ]
  },
  {
   "cell_type": "code",
   "execution_count": 37,
   "metadata": {},
   "outputs": [],
   "source": [
    "# merged_sample.drop(columns=['reportts_']) \\\n",
    "#              .to_csv('./takeoff-merged-VQ-BGU-30s-full.csv', index=False)"
   ]
  },
  {
   "cell_type": "code",
   "execution_count": 5,
   "metadata": {},
   "outputs": [
    {
     "data": {
      "text/plain": [
       "(366, 209)"
      ]
     },
     "execution_count": 5,
     "metadata": {},
     "output_type": "execute_result"
    }
   ],
   "source": [
    "res = []\n",
    "\n",
    "for pos in [1, 2]:\n",
    "  egtm_to_merge = egtm \\\n",
    "    .query(f'pos=={pos}') \\\n",
    "    .reset_index().rename(columns={'recorded_dt': 'reportts'}) \\\n",
    "    .set_index('reportts').sort_index() \\\n",
    "    .drop(columns=['acnum', 'pos'])\n",
    "\n",
    "  m = pd.merge_asof( \n",
    "    acms.query(f'pos=={pos}'),\n",
    "    egtm_to_merge,\n",
    "    on='reportts',\n",
    "    direction='nearest',\n",
    "    tolerance=pd.to_timedelta('15 sec')\n",
    "  )\n",
    "  res.append(m)\n",
    "\n",
    "merged2 = pd.concat(res).dropna(subset=['egtm'])\n",
    "merged2.shape"
   ]
  },
  {
   "cell_type": "code",
   "execution_count": 11,
   "metadata": {},
   "outputs": [
    {
     "data": {
      "text/plain": [
       "<matplotlib.collections.PathCollection at 0x7f3480544c50>"
      ]
     },
     "execution_count": 11,
     "metadata": {},
     "output_type": "execute_result"
    },
    {
     "data": {
      "image/png": "[encoded data removed]",
      "text/plain": [
       "<Figure size 1400x500 with 1 Axes>"
      ]
     },
     "metadata": {},
     "output_type": "display_data"
    }
   ],
   "source": [
    "plt.figure(figsize=(14, 5))\n",
    "m = merged2.query('pos==1 and egtm > 80 and egtm < 150')\n",
    "e = egtm_raw.query('acnum==@acnum and pos==1 and egtm > 80 and egtm < 150')\n",
    "plt.plot(e['recorded_dt'], e['egtm'])\n",
    "plt.scatter(m['reportts'], m['egtm'], color='orange')"
   ]
  },
  {
   "cell_type": "code",
   "execution_count": 42,
   "metadata": {},
   "outputs": [],
   "source": [
    "# merged2.to_csv('./data/takeoff-merged-VQ-BGU-2.csv', index=False)"
   ]
  }
 ],
 "metadata": {
  "kernelspec": {
   "display_name": "Python 3",
   "language": "python",
   "name": "python3"
  },
  "language_info": {
   "codemirror_mode": {
    "name": "ipython",
    "version": 3
   },
   "file_extension": ".py",
   "mimetype": "text/x-python",
   "name": "python",
   "nbconvert_exporter": "python",
   "pygments_lexer": "ipython3",
   "version": "3.12.0"
  },
  "vscode": {
   "interpreter": {
    "hash": "e7370f93d1d0cde622a1f8e1c04877d8463912d04d973331ad4851f04de6915a"
   }
  }
 },
 "nbformat": 4,
 "nbformat_minor": 2
}
