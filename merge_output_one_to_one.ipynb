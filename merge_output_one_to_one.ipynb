{
 "cells": [
  {
   "cell_type": "markdown",
   "metadata": {},
   "source": [
    "In this file I attempt to find respecting record in ACMS (input) dataset for each report in output dataset"
   ]
  },
  {
   "cell_type": "code",
   "execution_count": 12,
   "metadata": {},
   "outputs": [],
   "source": [
    "import matplotlib.pyplot as plt\n",
    "import pandas as pd"
   ]
  },
  {
   "cell_type": "code",
   "execution_count": 13,
   "metadata": {},
   "outputs": [
    {
     "data": {
      "text/plain": [
       "(152434, 208)"
      ]
     },
     "execution_count": 13,
     "metadata": {},
     "output_type": "execute_result"
    }
   ],
   "source": [
    "# acms_filename = './data/neo_takeoff_202404192324.csv'\n",
    "acms_filename = './data/neo_takeoff_with_esn.csv'\n",
    "acms_full = pd.read_csv(acms_filename, parse_dates=['reportts'], low_memory=False)\n",
    "\n",
    "acnum = 'VQ-BDU'\n",
    "\n",
    "acms = acms_full \\\n",
    "    .set_index('reportts') \\\n",
    "    .sort_index()\n",
    "\n",
    "acms.shape"
   ]
  },
  {
   "cell_type": "code",
   "execution_count": 14,
   "metadata": {},
   "outputs": [
    {
     "data": {
      "text/plain": [
       "(152434, 209)"
      ]
     },
     "execution_count": 14,
     "metadata": {},
     "output_type": "execute_result"
    }
   ],
   "source": [
    "acms_full.shape"
   ]
  },
  {
   "cell_type": "code",
   "execution_count": 15,
   "metadata": {},
   "outputs": [
    {
     "data": {
      "text/html": [
       "<div>\n",
       "<style scoped>\n",
       "    .dataframe tbody tr th:only-of-type {\n",
       "        vertical-align: middle;\n",
       "    }\n",
       "\n",
       "    .dataframe tbody tr th {\n",
       "        vertical-align: top;\n",
       "    }\n",
       "\n",
       "    .dataframe thead th {\n",
       "        text-align: right;\n",
       "    }\n",
       "</style>\n",
       "<table border=\"1\" class=\"dataframe\">\n",
       "  <thead>\n",
       "    <tr style=\"text-align: right;\">\n",
       "      <th></th>\n",
       "      <th>acnum</th>\n",
       "      <th>pos</th>\n",
       "      <th>esn</th>\n",
       "      <th>recorded_dt</th>\n",
       "      <th>egtm</th>\n",
       "    </tr>\n",
       "  </thead>\n",
       "  <tbody>\n",
       "    <tr>\n",
       "      <th>0</th>\n",
       "      <td>VQ-BDU</td>\n",
       "      <td>1</td>\n",
       "      <td>770329</td>\n",
       "      <td>2019-01-04 10:17:56</td>\n",
       "      <td>37.446</td>\n",
       "    </tr>\n",
       "    <tr>\n",
       "      <th>1</th>\n",
       "      <td>VQ-BDU</td>\n",
       "      <td>1</td>\n",
       "      <td>770329</td>\n",
       "      <td>2019-01-04 14:35:54</td>\n",
       "      <td>36.467</td>\n",
       "    </tr>\n",
       "    <tr>\n",
       "      <th>2</th>\n",
       "      <td>VQ-BDU</td>\n",
       "      <td>1</td>\n",
       "      <td>770329</td>\n",
       "      <td>2019-01-05 11:29:42</td>\n",
       "      <td>35.738</td>\n",
       "    </tr>\n",
       "    <tr>\n",
       "      <th>3</th>\n",
       "      <td>VQ-BDU</td>\n",
       "      <td>1</td>\n",
       "      <td>770329</td>\n",
       "      <td>2019-01-05 14:56:20</td>\n",
       "      <td>36.519</td>\n",
       "    </tr>\n",
       "    <tr>\n",
       "      <th>4</th>\n",
       "      <td>VQ-BDU</td>\n",
       "      <td>1</td>\n",
       "      <td>770329</td>\n",
       "      <td>2019-01-05 19:50:58</td>\n",
       "      <td>36.441</td>\n",
       "    </tr>\n",
       "  </tbody>\n",
       "</table>\n",
       "</div>"
      ],
      "text/plain": [
       "    acnum  pos     esn         recorded_dt    egtm\n",
       "0  VQ-BDU    1  770329 2019-01-04 10:17:56  37.446\n",
       "1  VQ-BDU    1  770329 2019-01-04 14:35:54  36.467\n",
       "2  VQ-BDU    1  770329 2019-01-05 11:29:42  35.738\n",
       "3  VQ-BDU    1  770329 2019-01-05 14:56:20  36.519\n",
       "4  VQ-BDU    1  770329 2019-01-05 19:50:58  36.441"
      ]
     },
     "execution_count": 15,
     "metadata": {},
     "output_type": "execute_result"
    }
   ],
   "source": [
    "egtm_raw = pd.read_csv('./data/Data EGT N1Vib ACC ITT.csv', parse_dates=['RECORDED_DT']) \\\n",
    "    .rename(columns={\n",
    "        'AIRCRAFT': 'acnum',\n",
    "        'POSITION': 'pos',\n",
    "        'RECORDED_DT': 'recorded_dt',\n",
    "        'RWCTOMAR': 'egtm',\n",
    "        'EGTM': 'egtm',\n",
    "        'ESN': 'esn'\n",
    "    }) \\\n",
    "    .loc[:, :'egtm']\n",
    "\n",
    "egtm_raw['recorded_dt'] = pd.to_datetime(egtm_raw['recorded_dt'], format='%m/%d/%Y %I:%M:%S', errors='raise')\n",
    "\n",
    "egtm = egtm_raw.query(f'acnum == @acnum and egtm > 0')\n",
    "\n",
    "egtm.head()"
   ]
  },
  {
   "cell_type": "code",
   "execution_count": 16,
   "metadata": {},
   "outputs": [
    {
     "data": {
      "text/plain": [
       "['VP-BWB',\n",
       " 'VP-BWM',\n",
       " 'VP-BWN',\n",
       " 'VQ-BCR',\n",
       " 'VQ-BDQ',\n",
       " 'VQ-BDU',\n",
       " 'VQ-BGU',\n",
       " 'VQ-BRA',\n",
       " 'VQ-BRI']"
      ]
     },
     "execution_count": 16,
     "metadata": {},
     "output_type": "execute_result"
    }
   ],
   "source": [
    "egtm_raw.groupby('acnum').count().index.to_list()"
   ]
  },
  {
   "cell_type": "code",
   "execution_count": 17,
   "metadata": {},
   "outputs": [
    {
     "data": {
      "text/html": [
       "<div>\n",
       "<style scoped>\n",
       "    .dataframe tbody tr th:only-of-type {\n",
       "        vertical-align: middle;\n",
       "    }\n",
       "\n",
       "    .dataframe tbody tr th {\n",
       "        vertical-align: top;\n",
       "    }\n",
       "\n",
       "    .dataframe thead th {\n",
       "        text-align: right;\n",
       "    }\n",
       "</style>\n",
       "<table border=\"1\" class=\"dataframe\">\n",
       "  <thead>\n",
       "    <tr style=\"text-align: right;\">\n",
       "      <th></th>\n",
       "      <th>acnum</th>\n",
       "      <th>pos</th>\n",
       "      <th>esn</th>\n",
       "      <th>egtm</th>\n",
       "    </tr>\n",
       "    <tr>\n",
       "      <th>recorded_dt</th>\n",
       "      <th></th>\n",
       "      <th></th>\n",
       "      <th></th>\n",
       "      <th></th>\n",
       "    </tr>\n",
       "  </thead>\n",
       "  <tbody>\n",
       "    <tr>\n",
       "      <th>2018-07-11 09:44:38</th>\n",
       "      <td>VQ-BDU</td>\n",
       "      <td>2</td>\n",
       "      <td>770704</td>\n",
       "      <td>39.054</td>\n",
       "    </tr>\n",
       "    <tr>\n",
       "      <th>2018-07-11 14:11:47</th>\n",
       "      <td>VQ-BDU</td>\n",
       "      <td>2</td>\n",
       "      <td>770704</td>\n",
       "      <td>43.644</td>\n",
       "    </tr>\n",
       "    <tr>\n",
       "      <th>2018-07-11 18:50:00</th>\n",
       "      <td>VQ-BDU</td>\n",
       "      <td>2</td>\n",
       "      <td>770704</td>\n",
       "      <td>41.193</td>\n",
       "    </tr>\n",
       "    <tr>\n",
       "      <th>2018-07-12 01:45:02</th>\n",
       "      <td>VQ-BDU</td>\n",
       "      <td>2</td>\n",
       "      <td>770704</td>\n",
       "      <td>40.531</td>\n",
       "    </tr>\n",
       "    <tr>\n",
       "      <th>2018-07-12 09:42:44</th>\n",
       "      <td>VQ-BDU</td>\n",
       "      <td>2</td>\n",
       "      <td>770704</td>\n",
       "      <td>39.994</td>\n",
       "    </tr>\n",
       "    <tr>\n",
       "      <th>...</th>\n",
       "      <td>...</td>\n",
       "      <td>...</td>\n",
       "      <td>...</td>\n",
       "      <td>...</td>\n",
       "    </tr>\n",
       "    <tr>\n",
       "      <th>2020-02-08 05:19:23</th>\n",
       "      <td>VQ-BDU</td>\n",
       "      <td>2</td>\n",
       "      <td>770704</td>\n",
       "      <td>12.294</td>\n",
       "    </tr>\n",
       "    <tr>\n",
       "      <th>2020-02-08 23:34:32</th>\n",
       "      <td>VQ-BDU</td>\n",
       "      <td>2</td>\n",
       "      <td>770704</td>\n",
       "      <td>12.012</td>\n",
       "    </tr>\n",
       "    <tr>\n",
       "      <th>2020-02-08 23:34:32</th>\n",
       "      <td>VQ-BDU</td>\n",
       "      <td>1</td>\n",
       "      <td>770329</td>\n",
       "      <td>16.193</td>\n",
       "    </tr>\n",
       "    <tr>\n",
       "      <th>2020-02-14 00:10:25</th>\n",
       "      <td>VQ-BDU</td>\n",
       "      <td>1</td>\n",
       "      <td>770329</td>\n",
       "      <td>15.976</td>\n",
       "    </tr>\n",
       "    <tr>\n",
       "      <th>2020-02-14 00:10:25</th>\n",
       "      <td>VQ-BDU</td>\n",
       "      <td>2</td>\n",
       "      <td>770704</td>\n",
       "      <td>11.701</td>\n",
       "    </tr>\n",
       "  </tbody>\n",
       "</table>\n",
       "<p>2245 rows × 4 columns</p>\n",
       "</div>"
      ],
      "text/plain": [
       "                      acnum  pos     esn    egtm\n",
       "recorded_dt                                     \n",
       "2018-07-11 09:44:38  VQ-BDU    2  770704  39.054\n",
       "2018-07-11 14:11:47  VQ-BDU    2  770704  43.644\n",
       "2018-07-11 18:50:00  VQ-BDU    2  770704  41.193\n",
       "2018-07-12 01:45:02  VQ-BDU    2  770704  40.531\n",
       "2018-07-12 09:42:44  VQ-BDU    2  770704  39.994\n",
       "...                     ...  ...     ...     ...\n",
       "2020-02-08 05:19:23  VQ-BDU    2  770704  12.294\n",
       "2020-02-08 23:34:32  VQ-BDU    2  770704  12.012\n",
       "2020-02-08 23:34:32  VQ-BDU    1  770329  16.193\n",
       "2020-02-14 00:10:25  VQ-BDU    1  770329  15.976\n",
       "2020-02-14 00:10:25  VQ-BDU    2  770704  11.701\n",
       "\n",
       "[2245 rows x 4 columns]"
      ]
     },
     "execution_count": 17,
     "metadata": {},
     "output_type": "execute_result"
    }
   ],
   "source": [
    "egtm = egtm.set_index('recorded_dt').sort_index()\n",
    "egtm"
   ]
  },
  {
   "cell_type": "code",
   "execution_count": 18,
   "metadata": {},
   "outputs": [
    {
     "data": {
      "image/png": "[encoded data removed]",
      "text/plain": [
       "<Figure size 2000x500 with 1 Axes>"
      ]
     },
     "metadata": {},
     "output_type": "display_data"
    }
   ],
   "source": [
    "acms_filtered = acms[\n",
    "    (pd.to_datetime(acms.index).year == 2019) &\n",
    "    (pd.to_datetime(acms.index).month == 10)\n",
    "    # (pd.to_datetime(acms.index).day <= 15)  \n",
    "    # (pd.to_datetime(acms.index).day <= 21)\n",
    "]\n",
    "\n",
    "acms_line = acms_filtered.query('acnum == @acnum').index\n",
    "\n",
    "egtm_filtered = egtm[\n",
    "    (pd.to_datetime(egtm.index).year == 2019) &\n",
    "    (pd.to_datetime(egtm.index).month == 10) \n",
    "    # (pd.to_datetime(egtm.index).day <= 15) \n",
    "    # (pd.to_datetime(egtm.index).day <= 21) \n",
    "]\n",
    "\n",
    "egtm_line = egtm_filtered.index\n",
    "\n",
    "fig, ax = plt.subplots(figsize=(20, 5))\n",
    "\n",
    "ax.scatter(acms_line, y=acms_line.map(lambda _ : 1), s=20)\n",
    "ax.scatter(egtm_line, y=egtm_line.map(lambda _: 2), s=20)\n",
    "ax.legend([\"ACMS reports\", \"EGTM reports\"])\n",
    "ax.set_ylim([0, 3])\n",
    "ax.set_title(\"Reports timeline\")\n",
    "ax.grid(which='minor', alpha=1)\n",
    "ax.grid(which='major', alpha=1)\n",
    "plt.show()"
   ]
  },
  {
   "attachments": {},
   "cell_type": "markdown",
   "metadata": {},
   "source": [
    "Для 1672 записей разница во времени *delta_t = output_t - input_t* составляет не более +30 секунд. Эти записи являются наиболее чистыми данными, которые в дальнейшем я буду использовать для построения baseline-моделей. Есть также небольшая часть данных, для которых delta_t отрицательна. На данный момент эти записи я не включаю в датасет, так как нет уверенности в их корректности. \n",
    "\n",
    "Датасет `takeoff-merged-VQ-BGU-30s.csv` будет основным для борта VQ-BGU."
   ]
  },
  {
   "cell_type": "code",
   "execution_count": 19,
   "metadata": {},
   "outputs": [
    {
     "data": {
      "text/plain": [
       "(6866, 211)"
      ]
     },
     "execution_count": 19,
     "metadata": {},
     "output_type": "execute_result"
    }
   ],
   "source": [
    "res = []\n",
    "\n",
    "for acnum in egtm_raw.groupby('acnum').count().index.to_list():\n",
    "  for pos in [1, 2]:\n",
    "    egtm_to_merge = egtm_raw \\\n",
    "      .query('acnum == @acnum and pos == @pos') \\\n",
    "      .reset_index().rename(columns={'recorded_dt': 'reportts'}) \\\n",
    "      .set_index('reportts').sort_index() \\\n",
    "      .drop(columns=['acnum', 'pos', 'esn'])\n",
    "\n",
    "    m = pd.merge_asof( \n",
    "      acms.query('acnum == @acnum and pos == @pos'),\n",
    "      egtm_to_merge,\n",
    "      on='reportts',\n",
    "      direction='nearest',\n",
    "      tolerance=pd.to_timedelta('15 sec')\n",
    "    ).dropna(subset=['egtm'])\n",
    "\n",
    "    if m.shape[0] < 10:\n",
    "      continue\n",
    "\n",
    "    res.append(m)\n",
    "\n",
    "merged2 = pd.concat(res)\n",
    "merged2.shape"
   ]
  },
  {
   "cell_type": "code",
   "execution_count": 20,
   "metadata": {},
   "outputs": [
    {
     "name": "stdout",
     "output_type": "stream",
     "text": [
      "Merge result:\n"
     ]
    },
    {
     "data": {
      "text/html": [
       "<div>\n",
       "<style scoped>\n",
       "    .dataframe tbody tr th:only-of-type {\n",
       "        vertical-align: middle;\n",
       "    }\n",
       "\n",
       "    .dataframe tbody tr th {\n",
       "        vertical-align: top;\n",
       "    }\n",
       "\n",
       "    .dataframe thead th {\n",
       "        text-align: right;\n",
       "    }\n",
       "</style>\n",
       "<table border=\"1\" class=\"dataframe\">\n",
       "  <thead>\n",
       "    <tr style=\"text-align: right;\">\n",
       "      <th></th>\n",
       "      <th></th>\n",
       "      <th>reportts</th>\n",
       "    </tr>\n",
       "    <tr>\n",
       "      <th>acnum</th>\n",
       "      <th>pos</th>\n",
       "      <th></th>\n",
       "    </tr>\n",
       "  </thead>\n",
       "  <tbody>\n",
       "    <tr>\n",
       "      <th rowspan=\"2\" valign=\"top\">VP-BWB</th>\n",
       "      <th>1</th>\n",
       "      <td>254</td>\n",
       "    </tr>\n",
       "    <tr>\n",
       "      <th>2</th>\n",
       "      <td>254</td>\n",
       "    </tr>\n",
       "    <tr>\n",
       "      <th rowspan=\"2\" valign=\"top\">VP-BWM</th>\n",
       "      <th>1</th>\n",
       "      <td>279</td>\n",
       "    </tr>\n",
       "    <tr>\n",
       "      <th>2</th>\n",
       "      <td>279</td>\n",
       "    </tr>\n",
       "    <tr>\n",
       "      <th rowspan=\"2\" valign=\"top\">VP-BWN</th>\n",
       "      <th>1</th>\n",
       "      <td>201</td>\n",
       "    </tr>\n",
       "    <tr>\n",
       "      <th>2</th>\n",
       "      <td>201</td>\n",
       "    </tr>\n",
       "    <tr>\n",
       "      <th rowspan=\"2\" valign=\"top\">VQ-BCR</th>\n",
       "      <th>1</th>\n",
       "      <td>524</td>\n",
       "    </tr>\n",
       "    <tr>\n",
       "      <th>2</th>\n",
       "      <td>556</td>\n",
       "    </tr>\n",
       "    <tr>\n",
       "      <th>VQ-BDQ</th>\n",
       "      <th>1</th>\n",
       "      <td>395</td>\n",
       "    </tr>\n",
       "    <tr>\n",
       "      <th rowspan=\"2\" valign=\"top\">VQ-BDU</th>\n",
       "      <th>1</th>\n",
       "      <td>716</td>\n",
       "    </tr>\n",
       "    <tr>\n",
       "      <th>2</th>\n",
       "      <td>1225</td>\n",
       "    </tr>\n",
       "    <tr>\n",
       "      <th rowspan=\"2\" valign=\"top\">VQ-BGU</th>\n",
       "      <th>1</th>\n",
       "      <td>786</td>\n",
       "    </tr>\n",
       "    <tr>\n",
       "      <th>2</th>\n",
       "      <td>783</td>\n",
       "    </tr>\n",
       "    <tr>\n",
       "      <th rowspan=\"2\" valign=\"top\">VQ-BRI</th>\n",
       "      <th>1</th>\n",
       "      <td>47</td>\n",
       "    </tr>\n",
       "    <tr>\n",
       "      <th>2</th>\n",
       "      <td>366</td>\n",
       "    </tr>\n",
       "  </tbody>\n",
       "</table>\n",
       "</div>"
      ],
      "text/plain": [
       "            reportts\n",
       "acnum  pos          \n",
       "VP-BWB 1         254\n",
       "       2         254\n",
       "VP-BWM 1         279\n",
       "       2         279\n",
       "VP-BWN 1         201\n",
       "       2         201\n",
       "VQ-BCR 1         524\n",
       "       2         556\n",
       "VQ-BDQ 1         395\n",
       "VQ-BDU 1         716\n",
       "       2        1225\n",
       "VQ-BGU 1         786\n",
       "       2         783\n",
       "VQ-BRI 1          47\n",
       "       2         366"
      ]
     },
     "execution_count": 20,
     "metadata": {},
     "output_type": "execute_result"
    }
   ],
   "source": [
    "print(\"Merge result:\")\n",
    "merged2.groupby(['acnum', 'pos']).count()[['reportts']]"
   ]
  },
  {
   "cell_type": "code",
   "execution_count": 23,
   "metadata": {},
   "outputs": [],
   "source": [
    "# merged2.to_csv('./data/takeoff-merged-all-neo-ESN.csv', index=False)"
   ]
  }
 ],
 "metadata": {
  "kernelspec": {
   "display_name": "recsys",
   "language": "python",
   "name": "python3"
  },
  "language_info": {
   "codemirror_mode": {
    "name": "ipython",
    "version": 3
   },
   "file_extension": ".py",
   "mimetype": "text/x-python",
   "name": "python",
   "nbconvert_exporter": "python",
   "pygments_lexer": "ipython3",
   "version": "3.9.16 | packaged by conda-forge | (main, Feb  1 2023, 21:39:03) \n[GCC 11.3.0]"
  },
  "vscode": {
   "interpreter": {
    "hash": "8ff27b20a45684c9bdecad1b6a847c26994a0603bb60e53a026c6c4c0a29dbc5"
   }
  }
 },
 "nbformat": 4,
 "nbformat_minor": 2
}
