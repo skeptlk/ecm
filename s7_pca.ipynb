{
 "cells": [
  {
   "cell_type": "code",
   "execution_count": 31,
   "metadata": {},
   "outputs": [],
   "source": [
    "import pandas as pd\n",
    "import numpy as np\n",
    "from tqdm import tqdm\n",
    "import seaborn as sns\n",
    "from sklearn.model_selection import train_test_split\n",
    "from sklearn.metrics import mean_squared_error, mean_absolute_error, mean_squared_error\n",
    "from catboost import CatBoostRegressor\n",
    "\n",
    "pd.set_option('display.max_columns', 200)\n",
    "\n",
    "X_train_dataset = pd.read_csv(\"X.csv\")\n",
    "y_train_dataset = pd.read_csv(\"y.csv\")\n",
    "\n",
    "df = pd.merge(X_train_dataset, y_train_dataset, on=[\"engine_id\", \"flight_datetime\", \"flight_phase\"])\n",
    "\n",
    "meta_columns = [\n",
    "  \"engine_id\", \"aircraft_id\", \"flight_datetime\",\n",
    "  \"flight_phase\", \"engine_family\", \"engine_type\", \"manufacturer\",\n",
    "  \"aircraft_family\", \"aircraft_type\", \"aircraft_grp\", \"ac_manufacturer\"\n",
    "]"
   ]
  },
  {
   "cell_type": "code",
   "execution_count": 32,
   "metadata": {},
   "outputs": [],
   "source": [
    "output_cols = ['DEGT', 'DELN1', 'DELFN', 'EGTHDM']"
   ]
  },
  {
   "attachments": {},
   "cell_type": "markdown",
   "metadata": {},
   "source": [
    "Prepare dataset"
   ]
  },
  {
   "cell_type": "code",
   "execution_count": 33,
   "metadata": {},
   "outputs": [],
   "source": [
    "df = pd.merge(X_train_dataset, y_train_dataset, on=[\"engine_id\", \"flight_datetime\", \"flight_phase\"])\n",
    "df = df.drop(columns=meta_columns)"
   ]
  },
  {
   "cell_type": "code",
   "execution_count": 34,
   "metadata": {},
   "outputs": [],
   "source": [
    "def get_score(predict_field):\n",
    "  data = df[df[predict_field].notna()]\n",
    "  data = data.fillna(-1000)\n",
    "  X = data.drop(columns=[predict_field])\n",
    "  y = data[predict_field]\n",
    "  \n",
    "  X_train, X_test, y_train, y_test = train_test_split(X, y, test_size=0.33, random_state=555)\n",
    "  \n",
    "  model = CatBoostRegressor(iterations=200, verbose=False)\n",
    "  model.fit(X_train, y_train)\n",
    "  catboost_predicted = model.predict(X_test)\n",
    "  catboost_score = mean_squared_error(y_test, catboost_predicted, squared=False)\n",
    "  catboost_predicted = model.predict(X)\n",
    "\n",
    "  return catboost_score"
   ]
  },
  {
   "attachments": {},
   "cell_type": "markdown",
   "metadata": {},
   "source": [
    "Baseline: "
   ]
  },
  {
   "cell_type": "code",
   "execution_count": 35,
   "metadata": {},
   "outputs": [
    {
     "name": "stderr",
     "output_type": "stream",
     "text": [
      "100%|██████████| 4/4 [00:01<00:00,  2.40it/s]\n"
     ]
    }
   ],
   "source": [
    "scores = pd.DataFrame(columns=[\"parameter\", \"rmse\", \".0\", \".1\", \".5\", \".9\", \"1\"])\n",
    "\n",
    "for param in tqdm(output_cols):\n",
    "    try:\n",
    "        score = get_score(param)\n",
    "        qua = df[param].quantile([.0, .1, .5, .9, 1])\n",
    "        qua = list(qua)\n",
    "        scores.loc[len(scores)] = [param, score] + qua\n",
    "    except:\n",
    "        continue"
   ]
  },
  {
   "cell_type": "code",
   "execution_count": 36,
   "metadata": {},
   "outputs": [
    {
     "data": {
      "text/html": [
       "<div>\n",
       "<style scoped>\n",
       "    .dataframe tbody tr th:only-of-type {\n",
       "        vertical-align: middle;\n",
       "    }\n",
       "\n",
       "    .dataframe tbody tr th {\n",
       "        vertical-align: top;\n",
       "    }\n",
       "\n",
       "    .dataframe thead th {\n",
       "        text-align: right;\n",
       "    }\n",
       "</style>\n",
       "<table border=\"1\" class=\"dataframe\">\n",
       "  <thead>\n",
       "    <tr style=\"text-align: right;\">\n",
       "      <th></th>\n",
       "      <th>parameter</th>\n",
       "      <th>rmse</th>\n",
       "      <th>.0</th>\n",
       "      <th>.1</th>\n",
       "      <th>.5</th>\n",
       "      <th>.9</th>\n",
       "      <th>1</th>\n",
       "    </tr>\n",
       "  </thead>\n",
       "  <tbody>\n",
       "    <tr>\n",
       "      <th>0</th>\n",
       "      <td>DEGT</td>\n",
       "      <td>2.099560</td>\n",
       "      <td>-184.170715</td>\n",
       "      <td>-27.160400</td>\n",
       "      <td>6.281616</td>\n",
       "      <td>30.211646</td>\n",
       "      <td>80.758423</td>\n",
       "    </tr>\n",
       "    <tr>\n",
       "      <th>1</th>\n",
       "      <td>DELN1</td>\n",
       "      <td>0.102668</td>\n",
       "      <td>-1.588493</td>\n",
       "      <td>3.747295</td>\n",
       "      <td>6.333039</td>\n",
       "      <td>10.703587</td>\n",
       "      <td>17.277214</td>\n",
       "    </tr>\n",
       "    <tr>\n",
       "      <th>2</th>\n",
       "      <td>DELFN</td>\n",
       "      <td>0.164240</td>\n",
       "      <td>-3.178211</td>\n",
       "      <td>9.006846</td>\n",
       "      <td>15.801858</td>\n",
       "      <td>26.496931</td>\n",
       "      <td>39.112564</td>\n",
       "    </tr>\n",
       "    <tr>\n",
       "      <th>3</th>\n",
       "      <td>EGTHDM</td>\n",
       "      <td>1.105356</td>\n",
       "      <td>-55.431641</td>\n",
       "      <td>19.796198</td>\n",
       "      <td>52.873406</td>\n",
       "      <td>73.615068</td>\n",
       "      <td>286.805603</td>\n",
       "    </tr>\n",
       "  </tbody>\n",
       "</table>\n",
       "</div>"
      ],
      "text/plain": [
       "  parameter      rmse          .0         .1         .5         .9           1\n",
       "0      DEGT  2.099560 -184.170715 -27.160400   6.281616  30.211646   80.758423\n",
       "1     DELN1  0.102668   -1.588493   3.747295   6.333039  10.703587   17.277214\n",
       "2     DELFN  0.164240   -3.178211   9.006846  15.801858  26.496931   39.112564\n",
       "3    EGTHDM  1.105356  -55.431641  19.796198  52.873406  73.615068  286.805603"
      ]
     },
     "execution_count": 36,
     "metadata": {},
     "output_type": "execute_result"
    }
   ],
   "source": [
    "scores"
   ]
  },
  {
   "attachments": {},
   "cell_type": "markdown",
   "metadata": {},
   "source": [
    "Try: \n",
    "- autocorellation\n",
    "- PCA\n",
    "- fill nan-s with average value"
   ]
  },
  {
   "attachments": {},
   "cell_type": "markdown",
   "metadata": {},
   "source": [
    "### Filling NA-s"
   ]
  },
  {
   "cell_type": "code",
   "execution_count": 37,
   "metadata": {},
   "outputs": [],
   "source": [
    "def get_score_na_mean(predict_field):\n",
    "  data = df[df[predict_field].notna()]\n",
    "  data = data.fillna(data.mean())\n",
    "  X = data.drop(columns=[predict_field])\n",
    "  y = data[predict_field]\n",
    "  \n",
    "  X_train, X_test, y_train, y_test = train_test_split(X, y, test_size=0.33, random_state=555)\n",
    "  \n",
    "  model = CatBoostRegressor(iterations=200, verbose=False)\n",
    "  model.fit(X_train, y_train)\n",
    "  catboost_predicted = model.predict(X_test)\n",
    "  catboost_score = mean_squared_error(y_test, catboost_predicted, squared=False)\n",
    "  catboost_predicted = model.predict(X)\n",
    "\n",
    "  return catboost_score"
   ]
  },
  {
   "cell_type": "code",
   "execution_count": 38,
   "metadata": {},
   "outputs": [
    {
     "name": "stderr",
     "output_type": "stream",
     "text": [
      "100%|██████████| 4/4 [00:01<00:00,  2.06it/s]\n"
     ]
    }
   ],
   "source": [
    "scores2 = pd.DataFrame(columns=[\"parameter\", \"rmse\", \".0\", \".1\", \".5\", \".9\", \"1\"])\n",
    "\n",
    "for param in tqdm(output_cols):\n",
    "    try:\n",
    "        score = get_score_na_mean(param)\n",
    "        qua = df[param].quantile([.0, .1, .5, .9, 1])\n",
    "        qua = list(qua)\n",
    "        scores2.loc[len(scores2)] = [param, score] + qua\n",
    "    except:\n",
    "        continue"
   ]
  },
  {
   "cell_type": "code",
   "execution_count": 39,
   "metadata": {},
   "outputs": [
    {
     "data": {
      "text/html": [
       "<div>\n",
       "<style scoped>\n",
       "    .dataframe tbody tr th:only-of-type {\n",
       "        vertical-align: middle;\n",
       "    }\n",
       "\n",
       "    .dataframe tbody tr th {\n",
       "        vertical-align: top;\n",
       "    }\n",
       "\n",
       "    .dataframe thead th {\n",
       "        text-align: right;\n",
       "    }\n",
       "</style>\n",
       "<table border=\"1\" class=\"dataframe\">\n",
       "  <thead>\n",
       "    <tr style=\"text-align: right;\">\n",
       "      <th></th>\n",
       "      <th>parameter</th>\n",
       "      <th>rmse</th>\n",
       "      <th>.0</th>\n",
       "      <th>.1</th>\n",
       "      <th>.5</th>\n",
       "      <th>.9</th>\n",
       "      <th>1</th>\n",
       "    </tr>\n",
       "  </thead>\n",
       "  <tbody>\n",
       "    <tr>\n",
       "      <th>0</th>\n",
       "      <td>DEGT</td>\n",
       "      <td>2.102843</td>\n",
       "      <td>-184.170715</td>\n",
       "      <td>-27.160400</td>\n",
       "      <td>6.281616</td>\n",
       "      <td>30.211646</td>\n",
       "      <td>80.758423</td>\n",
       "    </tr>\n",
       "    <tr>\n",
       "      <th>1</th>\n",
       "      <td>DELN1</td>\n",
       "      <td>0.105144</td>\n",
       "      <td>-1.588493</td>\n",
       "      <td>3.747295</td>\n",
       "      <td>6.333039</td>\n",
       "      <td>10.703587</td>\n",
       "      <td>17.277214</td>\n",
       "    </tr>\n",
       "    <tr>\n",
       "      <th>2</th>\n",
       "      <td>DELFN</td>\n",
       "      <td>0.160296</td>\n",
       "      <td>-3.178211</td>\n",
       "      <td>9.006846</td>\n",
       "      <td>15.801858</td>\n",
       "      <td>26.496931</td>\n",
       "      <td>39.112564</td>\n",
       "    </tr>\n",
       "    <tr>\n",
       "      <th>3</th>\n",
       "      <td>EGTHDM</td>\n",
       "      <td>1.036272</td>\n",
       "      <td>-55.431641</td>\n",
       "      <td>19.796198</td>\n",
       "      <td>52.873406</td>\n",
       "      <td>73.615068</td>\n",
       "      <td>286.805603</td>\n",
       "    </tr>\n",
       "  </tbody>\n",
       "</table>\n",
       "</div>"
      ],
      "text/plain": [
       "  parameter      rmse          .0         .1         .5         .9           1\n",
       "0      DEGT  2.102843 -184.170715 -27.160400   6.281616  30.211646   80.758423\n",
       "1     DELN1  0.105144   -1.588493   3.747295   6.333039  10.703587   17.277214\n",
       "2     DELFN  0.160296   -3.178211   9.006846  15.801858  26.496931   39.112564\n",
       "3    EGTHDM  1.036272  -55.431641  19.796198  52.873406  73.615068  286.805603"
      ]
     },
     "execution_count": 39,
     "metadata": {},
     "output_type": "execute_result"
    }
   ],
   "source": [
    "scores2"
   ]
  },
  {
   "cell_type": "code",
   "execution_count": 41,
   "metadata": {},
   "outputs": [],
   "source": [
    "from sklearn.decomposition import PCA\n",
    "from sklearn.preprocessing import StandardScaler"
   ]
  },
  {
   "cell_type": "code",
   "execution_count": 59,
   "metadata": {},
   "outputs": [],
   "source": [
    "def get_score_pca(predict_field):\n",
    "  data = df[df[predict_field].notna()]\n",
    "  data = data.fillna(-1000)\n",
    "  X = data.drop(columns=[predict_field])\n",
    "  y = data[predict_field]\n",
    "  \n",
    "  X_train, X_test, y_train, y_test = train_test_split(X, y, test_size=0.33, random_state=555)\n",
    "  \n",
    "  scaler = StandardScaler()\n",
    "  scaler.fit(X_train)\n",
    "\n",
    "  X_train = scaler.transform(X_train)\n",
    "  X_test = scaler.transform(X_test)\n",
    "  \n",
    "  pca = PCA()\n",
    "  pca.fit(X_train)\n",
    "\n",
    "  X_train = pca.transform(X_train)\n",
    "  X_test = pca.transform(X_test)\n",
    "  \n",
    "  model = CatBoostRegressor(iterations=200, verbose=False)\n",
    "  model.fit(X_train, y_train)\n",
    "  catboost_predicted = model.predict(X_test)\n",
    "  catboost_score = mean_squared_error(y_test, catboost_predicted, squared=False)\n",
    "  catboost_predicted = model.predict(X)\n",
    "\n",
    "  return catboost_score"
   ]
  },
  {
   "cell_type": "code",
   "execution_count": 60,
   "metadata": {},
   "outputs": [
    {
     "name": "stderr",
     "output_type": "stream",
     "text": [
      "100%|██████████| 4/4 [00:04<00:00,  1.12s/it]\n"
     ]
    }
   ],
   "source": [
    "scores3 = pd.DataFrame(columns=[\"parameter\", \"rmse\", \".0\", \".1\", \".5\", \".9\", \"1\"])\n",
    "\n",
    "for param in tqdm(output_cols):\n",
    "  try:\n",
    "    score = get_score_pca(param)\n",
    "    qua = df[param].quantile([.0, .1, .5, .9, 1])\n",
    "    qua = list(qua)\n",
    "    scores3.loc[len(scores3)] = [param, score] + qua\n",
    "  except:\n",
    "    continue"
   ]
  },
  {
   "cell_type": "code",
   "execution_count": 61,
   "metadata": {},
   "outputs": [
    {
     "data": {
      "text/html": [
       "<div>\n",
       "<style scoped>\n",
       "    .dataframe tbody tr th:only-of-type {\n",
       "        vertical-align: middle;\n",
       "    }\n",
       "\n",
       "    .dataframe tbody tr th {\n",
       "        vertical-align: top;\n",
       "    }\n",
       "\n",
       "    .dataframe thead th {\n",
       "        text-align: right;\n",
       "    }\n",
       "</style>\n",
       "<table border=\"1\" class=\"dataframe\">\n",
       "  <thead>\n",
       "    <tr style=\"text-align: right;\">\n",
       "      <th></th>\n",
       "      <th>parameter</th>\n",
       "      <th>rmse</th>\n",
       "      <th>.0</th>\n",
       "      <th>.1</th>\n",
       "      <th>.5</th>\n",
       "      <th>.9</th>\n",
       "      <th>1</th>\n",
       "    </tr>\n",
       "  </thead>\n",
       "  <tbody>\n",
       "    <tr>\n",
       "      <th>0</th>\n",
       "      <td>DEGT</td>\n",
       "      <td>1.279146</td>\n",
       "      <td>-184.170715</td>\n",
       "      <td>-27.160400</td>\n",
       "      <td>6.281616</td>\n",
       "      <td>30.211646</td>\n",
       "      <td>80.758423</td>\n",
       "    </tr>\n",
       "    <tr>\n",
       "      <th>1</th>\n",
       "      <td>DELN1</td>\n",
       "      <td>0.256455</td>\n",
       "      <td>-1.588493</td>\n",
       "      <td>3.747295</td>\n",
       "      <td>6.333039</td>\n",
       "      <td>10.703587</td>\n",
       "      <td>17.277214</td>\n",
       "    </tr>\n",
       "    <tr>\n",
       "      <th>2</th>\n",
       "      <td>DELFN</td>\n",
       "      <td>0.571339</td>\n",
       "      <td>-3.178211</td>\n",
       "      <td>9.006846</td>\n",
       "      <td>15.801858</td>\n",
       "      <td>26.496931</td>\n",
       "      <td>39.112564</td>\n",
       "    </tr>\n",
       "    <tr>\n",
       "      <th>3</th>\n",
       "      <td>EGTHDM</td>\n",
       "      <td>1.980630</td>\n",
       "      <td>-55.431641</td>\n",
       "      <td>19.796198</td>\n",
       "      <td>52.873406</td>\n",
       "      <td>73.615068</td>\n",
       "      <td>286.805603</td>\n",
       "    </tr>\n",
       "  </tbody>\n",
       "</table>\n",
       "</div>"
      ],
      "text/plain": [
       "  parameter      rmse          .0         .1         .5         .9           1\n",
       "0      DEGT  1.279146 -184.170715 -27.160400   6.281616  30.211646   80.758423\n",
       "1     DELN1  0.256455   -1.588493   3.747295   6.333039  10.703587   17.277214\n",
       "2     DELFN  0.571339   -3.178211   9.006846  15.801858  26.496931   39.112564\n",
       "3    EGTHDM  1.980630  -55.431641  19.796198  52.873406  73.615068  286.805603"
      ]
     },
     "execution_count": 61,
     "metadata": {},
     "output_type": "execute_result"
    }
   ],
   "source": [
    "scores3"
   ]
  }
 ],
 "metadata": {
  "kernelspec": {
   "display_name": "Python 3",
   "language": "python",
   "name": "python3"
  },
  "language_info": {
   "codemirror_mode": {
    "name": "ipython",
    "version": 3
   },
   "file_extension": ".py",
   "mimetype": "text/x-python",
   "name": "python",
   "nbconvert_exporter": "python",
   "pygments_lexer": "ipython3",
   "version": "3.11.5 (main, Sep  2 2023, 14:16:33) [GCC 13.2.1 20230801]"
  },
  "orig_nbformat": 4,
  "vscode": {
   "interpreter": {
    "hash": "e7370f93d1d0cde622a1f8e1c04877d8463912d04d973331ad4851f04de6915a"
   }
  }
 },
 "nbformat": 4,
 "nbformat_minor": 2
}
