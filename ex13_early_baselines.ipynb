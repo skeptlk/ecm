{
 "cells": [
  {
   "cell_type": "code",
   "execution_count": 1,
   "metadata": {},
   "outputs": [],
   "source": [
    "from deltas import *"
   ]
  },
  {
   "cell_type": "code",
   "execution_count": null,
   "metadata": {},
   "outputs": [],
   "source": [
    "def add_egt_delta_to_dataset(dataset: pd.DataFrame, bleed_param='prv', fleet=[]):\n",
    "  for acnum in fleet: \n",
    "    for pos in [1, 2]:\n",
    "      subset_index = (dataset['pos'] == pos) & (dataset['acnum'] == acnum)\n",
    "      if dataset[subset_index].shape[0] == 0:\n",
    "        continue\n",
    "      baseline = train_engine_baseline(dataset[subset_index].query())\n",
    "      egt_delta = compute_egtm(dataset[subset_index], baseline)\n"
   ]
  }
 ],
 "metadata": {
  "kernelspec": {
   "display_name": "Python 3",
   "language": "python",
   "name": "python3"
  },
  "language_info": {
   "codemirror_mode": {
    "name": "ipython",
    "version": 3
   },
   "file_extension": ".py",
   "mimetype": "text/x-python",
   "name": "python",
   "nbconvert_exporter": "python",
   "pygments_lexer": "ipython3",
   "version": "3.11.8"
  },
  "orig_nbformat": 4,
  "vscode": {
   "interpreter": {
    "hash": "e7370f93d1d0cde622a1f8e1c04877d8463912d04d973331ad4851f04de6915a"
   }
  }
 },
 "nbformat": 4,
 "nbformat_minor": 2
}
