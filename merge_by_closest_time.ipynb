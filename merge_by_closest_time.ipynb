{
 "cells": [
  {
   "cell_type": "code",
   "execution_count": 12,
   "metadata": {},
   "outputs": [],
   "source": [
    "import pandas as pd"
   ]
  },
  {
   "cell_type": "markdown",
   "metadata": {},
   "source": [
    "### Pandas: merging by closest date example"
   ]
  },
  {
   "cell_type": "code",
   "execution_count": 13,
   "metadata": {},
   "outputs": [],
   "source": [
    "left = pd.DataFrame({\n",
    "    \"ID\": [1, 2, 3, 4, 5], \n",
    "    \"date\":[\n",
    "        \"06/22/2014\",\n",
    "        \"07/02/2014\",\n",
    "        \"01/01/2015\",\n",
    "        \"01/01/1991\",\n",
    "        \"08/02/1999\"\n",
    "    ]})\n",
    "\n",
    "right = pd.DataFrame({\n",
    "    \"ID\": [1, 2, 3, 4, 5, 6, 7], \n",
    "    \"date\":[\n",
    "        \"02/15/2015\",\n",
    "        \"06/30/2014\",\n",
    "        \"07/02/1999\",\n",
    "        \"10/05/1990\",\n",
    "        \"06/24/2014\",\n",
    "        \"12/12/2222\",\n",
    "        \"12/13/2222\"\n",
    "    ], \"value\": [333, 222, 444, 777, 42, 0, 0] \n",
    "})\n",
    "\n",
    "left['date']  = pd.to_datetime(left.date)\n",
    "right['date'] = pd.to_datetime(right.date)\n",
    "left.sort_values('date', inplace=True)\n",
    "right.sort_values('date', inplace=True)\n",
    "\n",
    "# left, right"
   ]
  },
  {
   "cell_type": "code",
   "execution_count": 14,
   "metadata": {},
   "outputs": [
    {
     "data": {
      "text/html": [
       "<div>\n",
       "<style scoped>\n",
       "    .dataframe tbody tr th:only-of-type {\n",
       "        vertical-align: middle;\n",
       "    }\n",
       "\n",
       "    .dataframe tbody tr th {\n",
       "        vertical-align: top;\n",
       "    }\n",
       "\n",
       "    .dataframe thead th {\n",
       "        text-align: right;\n",
       "    }\n",
       "</style>\n",
       "<table border=\"1\" class=\"dataframe\">\n",
       "  <thead>\n",
       "    <tr style=\"text-align: right;\">\n",
       "      <th></th>\n",
       "      <th>ID_a</th>\n",
       "      <th>date</th>\n",
       "      <th>ID_b</th>\n",
       "      <th>value</th>\n",
       "    </tr>\n",
       "  </thead>\n",
       "  <tbody>\n",
       "    <tr>\n",
       "      <th>0</th>\n",
       "      <td>4</td>\n",
       "      <td>1991-01-01</td>\n",
       "      <td>4</td>\n",
       "      <td>777</td>\n",
       "    </tr>\n",
       "    <tr>\n",
       "      <th>1</th>\n",
       "      <td>5</td>\n",
       "      <td>1999-08-02</td>\n",
       "      <td>3</td>\n",
       "      <td>444</td>\n",
       "    </tr>\n",
       "    <tr>\n",
       "      <th>2</th>\n",
       "      <td>1</td>\n",
       "      <td>2014-06-22</td>\n",
       "      <td>5</td>\n",
       "      <td>42</td>\n",
       "    </tr>\n",
       "    <tr>\n",
       "      <th>3</th>\n",
       "      <td>2</td>\n",
       "      <td>2014-07-02</td>\n",
       "      <td>2</td>\n",
       "      <td>222</td>\n",
       "    </tr>\n",
       "    <tr>\n",
       "      <th>4</th>\n",
       "      <td>3</td>\n",
       "      <td>2015-01-01</td>\n",
       "      <td>1</td>\n",
       "      <td>333</td>\n",
       "    </tr>\n",
       "  </tbody>\n",
       "</table>\n",
       "</div>"
      ],
      "text/plain": [
       "   ID_a       date  ID_b  value\n",
       "0     4 1991-01-01     4    777\n",
       "1     5 1999-08-02     3    444\n",
       "2     1 2014-06-22     5     42\n",
       "3     2 2014-07-02     2    222\n",
       "4     3 2015-01-01     1    333"
      ]
     },
     "execution_count": 14,
     "metadata": {},
     "output_type": "execute_result"
    }
   ],
   "source": [
    "right1 = right.set_index('date').reindex(left.set_index('date').index, method='nearest').reset_index()\n",
    "\n",
    "pd.merge(left, right1, on='date', suffixes=('_a', '_b'))"
   ]
  },
  {
   "cell_type": "markdown",
   "metadata": {},
   "source": [
    "### Merging Engine data by closest time"
   ]
  },
  {
   "cell_type": "code",
   "execution_count": 15,
   "metadata": {},
   "outputs": [],
   "source": [
    "egtm = pd.read_csv('./data/EGTM.csv', parse_dates=['RECORDED_DT'])"
   ]
  },
  {
   "cell_type": "code",
   "execution_count": 16,
   "metadata": {},
   "outputs": [],
   "source": [
    "egtm_cols = egtm.columns[:5]\n",
    "egtm = egtm[egtm_cols]\n",
    "egtm = egtm[egtm['AIRCRAFT'] == 'VQ-BDQ']\n",
    "egtm = egtm[egtm['POSITION'] == 1]\n",
    "egtm['reportts'] = pd.to_datetime(egtm['RECORDED_DT'], format='mixed')\n",
    "egtm['egtm_reportts'] = egtm['reportts']"
   ]
  },
  {
   "cell_type": "code",
   "execution_count": 17,
   "metadata": {},
   "outputs": [],
   "source": [
    "neo = pd.read_csv(\n",
    "    './data/a320_a321_neo_full_acms_parameters_202311140748.csv', \n",
    "    parse_dates=['reportts', 'processedts'], \n",
    "    low_memory=False\n",
    ")\n",
    "neo = neo[neo['acnum'] == 'VQ-BDQ']\n",
    "neo = neo[neo['pos'] == 1]"
   ]
  },
  {
   "cell_type": "markdown",
   "metadata": {},
   "source": [
    "ACMS = Aircraft Condition Monitoring System"
   ]
  },
  {
   "cell_type": "code",
   "execution_count": 18,
   "metadata": {},
   "outputs": [
    {
     "data": {
      "text/html": [
       "<div>\n",
       "<style scoped>\n",
       "    .dataframe tbody tr th:only-of-type {\n",
       "        vertical-align: middle;\n",
       "    }\n",
       "\n",
       "    .dataframe tbody tr th {\n",
       "        vertical-align: top;\n",
       "    }\n",
       "\n",
       "    .dataframe thead th {\n",
       "        text-align: right;\n",
       "    }\n",
       "</style>\n",
       "<table border=\"1\" class=\"dataframe\">\n",
       "  <thead>\n",
       "    <tr style=\"text-align: right;\">\n",
       "      <th></th>\n",
       "      <th>acnum</th>\n",
       "      <th>reportname</th>\n",
       "      <th>reportts</th>\n",
       "      <th>pos</th>\n",
       "      <th>fltdes</th>\n",
       "      <th>dep</th>\n",
       "      <th>arr</th>\n",
       "      <th>ivs12</th>\n",
       "      <th>ibe</th>\n",
       "      <th>iaie</th>\n",
       "      <th>...</th>\n",
       "      <th>vsva</th>\n",
       "      <th>w14</th>\n",
       "      <th>processedts</th>\n",
       "      <th>pf</th>\n",
       "      <th>wai</th>\n",
       "      <th>nai</th>\n",
       "      <th>prv</th>\n",
       "      <th>hpv</th>\n",
       "      <th>xf</th>\n",
       "      <th>reason</th>\n",
       "    </tr>\n",
       "  </thead>\n",
       "  <tbody>\n",
       "    <tr>\n",
       "      <th>1</th>\n",
       "      <td>VQ-BDQ</td>\n",
       "      <td>A320 EEC MAINTENANCE REPORT</td>\n",
       "      <td>2021-06-09 17:46:56</td>\n",
       "      <td>1</td>\n",
       "      <td>5118.0</td>\n",
       "      <td>URKK</td>\n",
       "      <td>UNNT</td>\n",
       "      <td>NaN</td>\n",
       "      <td>NaN</td>\n",
       "      <td>NaN</td>\n",
       "      <td>...</td>\n",
       "      <td>0.0</td>\n",
       "      <td>NaN</td>\n",
       "      <td>2023-09-24 12:30:35.259</td>\n",
       "      <td>0.56</td>\n",
       "      <td>0.0</td>\n",
       "      <td>0.0</td>\n",
       "      <td>1.0</td>\n",
       "      <td>1.0</td>\n",
       "      <td>0.0</td>\n",
       "      <td>STW 16 BIT 27</td>\n",
       "    </tr>\n",
       "    <tr>\n",
       "      <th>4</th>\n",
       "      <td>VQ-BDQ</td>\n",
       "      <td>A320 EEC MAINTENANCE REPORT</td>\n",
       "      <td>2021-06-10 09:19:01</td>\n",
       "      <td>1</td>\n",
       "      <td>5142.0</td>\n",
       "      <td>URFF</td>\n",
       "      <td>UNNT</td>\n",
       "      <td>NaN</td>\n",
       "      <td>NaN</td>\n",
       "      <td>NaN</td>\n",
       "      <td>...</td>\n",
       "      <td>0.0</td>\n",
       "      <td>NaN</td>\n",
       "      <td>2023-09-24 12:30:36.899</td>\n",
       "      <td>0.56</td>\n",
       "      <td>0.0</td>\n",
       "      <td>0.0</td>\n",
       "      <td>1.0</td>\n",
       "      <td>1.0</td>\n",
       "      <td>0.0</td>\n",
       "      <td>STW 16 BIT 27</td>\n",
       "    </tr>\n",
       "    <tr>\n",
       "      <th>6</th>\n",
       "      <td>VQ-BDQ</td>\n",
       "      <td>A320 EEC MAINTENANCE REPORT</td>\n",
       "      <td>2021-06-10 09:23:38</td>\n",
       "      <td>1</td>\n",
       "      <td>0.0</td>\n",
       "      <td>URFF</td>\n",
       "      <td>UNNT</td>\n",
       "      <td>NaN</td>\n",
       "      <td>NaN</td>\n",
       "      <td>NaN</td>\n",
       "      <td>...</td>\n",
       "      <td>0.0</td>\n",
       "      <td>NaN</td>\n",
       "      <td>2023-09-24 12:30:37.285</td>\n",
       "      <td>0.46</td>\n",
       "      <td>0.0</td>\n",
       "      <td>0.0</td>\n",
       "      <td>0.0</td>\n",
       "      <td>0.0</td>\n",
       "      <td>0.0</td>\n",
       "      <td>STW 36 BIT 20</td>\n",
       "    </tr>\n",
       "    <tr>\n",
       "      <th>8</th>\n",
       "      <td>VQ-BDQ</td>\n",
       "      <td>A320 EEC MAINTENANCE REPORT</td>\n",
       "      <td>2021-06-10 15:29:58</td>\n",
       "      <td>1</td>\n",
       "      <td>5107.0</td>\n",
       "      <td>UNNT</td>\n",
       "      <td>URSS</td>\n",
       "      <td>NaN</td>\n",
       "      <td>NaN</td>\n",
       "      <td>NaN</td>\n",
       "      <td>...</td>\n",
       "      <td>0.0</td>\n",
       "      <td>NaN</td>\n",
       "      <td>2023-09-24 12:30:38.907</td>\n",
       "      <td>0.53</td>\n",
       "      <td>0.0</td>\n",
       "      <td>0.0</td>\n",
       "      <td>1.0</td>\n",
       "      <td>1.0</td>\n",
       "      <td>0.0</td>\n",
       "      <td>STW 16 BIT 27</td>\n",
       "    </tr>\n",
       "    <tr>\n",
       "      <th>11</th>\n",
       "      <td>VQ-BDQ</td>\n",
       "      <td>A320 EEC MAINTENANCE REPORT</td>\n",
       "      <td>2021-06-10 03:32:33</td>\n",
       "      <td>1</td>\n",
       "      <td>0.0</td>\n",
       "      <td>UNNT</td>\n",
       "      <td>URFF</td>\n",
       "      <td>NaN</td>\n",
       "      <td>NaN</td>\n",
       "      <td>NaN</td>\n",
       "      <td>...</td>\n",
       "      <td>0.0</td>\n",
       "      <td>NaN</td>\n",
       "      <td>2023-09-24 12:30:36.441</td>\n",
       "      <td>0.51</td>\n",
       "      <td>0.0</td>\n",
       "      <td>0.0</td>\n",
       "      <td>0.0</td>\n",
       "      <td>0.0</td>\n",
       "      <td>1.0</td>\n",
       "      <td>STW 36 BIT 20</td>\n",
       "    </tr>\n",
       "  </tbody>\n",
       "</table>\n",
       "<p>5 rows × 213 columns</p>\n",
       "</div>"
      ],
      "text/plain": [
       "     acnum                   reportname            reportts  pos  fltdes  \\\n",
       "1   VQ-BDQ  A320 EEC MAINTENANCE REPORT 2021-06-09 17:46:56    1  5118.0   \n",
       "4   VQ-BDQ  A320 EEC MAINTENANCE REPORT 2021-06-10 09:19:01    1  5142.0   \n",
       "6   VQ-BDQ  A320 EEC MAINTENANCE REPORT 2021-06-10 09:23:38    1     0.0   \n",
       "8   VQ-BDQ  A320 EEC MAINTENANCE REPORT 2021-06-10 15:29:58    1  5107.0   \n",
       "11  VQ-BDQ  A320 EEC MAINTENANCE REPORT 2021-06-10 03:32:33    1     0.0   \n",
       "\n",
       "     dep   arr  ivs12  ibe  iaie  ...  vsva  w14             processedts  \\\n",
       "1   URKK  UNNT    NaN  NaN   NaN  ...   0.0  NaN 2023-09-24 12:30:35.259   \n",
       "4   URFF  UNNT    NaN  NaN   NaN  ...   0.0  NaN 2023-09-24 12:30:36.899   \n",
       "6   URFF  UNNT    NaN  NaN   NaN  ...   0.0  NaN 2023-09-24 12:30:37.285   \n",
       "8   UNNT  URSS    NaN  NaN   NaN  ...   0.0  NaN 2023-09-24 12:30:38.907   \n",
       "11  UNNT  URFF    NaN  NaN   NaN  ...   0.0  NaN 2023-09-24 12:30:36.441   \n",
       "\n",
       "      pf  wai  nai  prv  hpv   xf         reason  \n",
       "1   0.56  0.0  0.0  1.0  1.0  0.0  STW 16 BIT 27  \n",
       "4   0.56  0.0  0.0  1.0  1.0  0.0  STW 16 BIT 27  \n",
       "6   0.46  0.0  0.0  0.0  0.0  0.0  STW 36 BIT 20  \n",
       "8   0.53  0.0  0.0  1.0  1.0  0.0  STW 16 BIT 27  \n",
       "11  0.51  0.0  0.0  0.0  0.0  1.0  STW 36 BIT 20  \n",
       "\n",
       "[5 rows x 213 columns]"
      ]
     },
     "execution_count": 18,
     "metadata": {},
     "output_type": "execute_result"
    }
   ],
   "source": [
    "neo.head()"
   ]
  },
  {
   "cell_type": "markdown",
   "metadata": {},
   "source": [
    "#### Data frequency by time:"
   ]
  },
  {
   "cell_type": "code",
   "execution_count": 19,
   "metadata": {},
   "outputs": [
    {
     "data": {
      "image/png": "[encoded data removed]",
      "text/plain": [
       "<Figure size 640x480 with 2 Axes>"
      ]
     },
     "metadata": {},
     "output_type": "display_data"
    }
   ],
   "source": [
    "import matplotlib.pyplot as plt\n",
    "import matplotlib.dates as mdates\n",
    "import seaborn as sns\n",
    "\n",
    "neo_report_timepoints = neo[neo['reportts'].dt.year < 2023 ]['reportts']\n",
    "neo_report_timepoints = mdates.date2num(neo_report_timepoints)\n",
    "\n",
    "plt.rc('xtick', labelsize=6)\n",
    "plt.rc('ytick', labelsize=8)\n",
    "\n",
    "fig, ax = plt.subplots()\n",
    "\n",
    "ax2 = ax.twinx()\n",
    "\n",
    "egtm_report_timepoints = egtm[egtm['reportts'].dt.year < 2023]['reportts']\n",
    "egtm_report_timepoints = mdates.date2num(egtm_report_timepoints)\n",
    "\n",
    "ax.hist([neo_report_timepoints, egtm_report_timepoints], bins=40, color=('lightblue', 'orchid'))\n",
    "ax.xaxis.set_major_locator(mdates.YearLocator())\n",
    "ax.xaxis.set_major_formatter(mdates.DateFormatter('%d.%m.%Y'))\n",
    "\n",
    "sns.kdeplot(neo_report_timepoints, ax=ax2);\n",
    "plt.title(\"Number of records\")\n",
    "\n",
    "ax.legend(['ACMS records', 'EGTM records'])\n",
    "\n",
    "plt.show()"
   ]
  },
  {
   "cell_type": "markdown",
   "metadata": {},
   "source": [
    "#### Merging with EGTM table by closest recorded date (using indexes)"
   ]
  },
  {
   "cell_type": "code",
   "execution_count": 20,
   "metadata": {},
   "outputs": [],
   "source": [
    "neo.sort_values('reportts', inplace=True)\n",
    "egtm.sort_values('reportts', inplace=True)\n",
    "\n",
    "neo = neo.set_index('reportts')\n",
    "egtm = egtm.set_index('reportts')"
   ]
  },
  {
   "cell_type": "code",
   "execution_count": 21,
   "metadata": {},
   "outputs": [],
   "source": [
    "egtm1 = egtm.reindex(neo.index, method='ffill').reset_index()"
   ]
  },
  {
   "cell_type": "code",
   "execution_count": 22,
   "metadata": {},
   "outputs": [
    {
     "data": {
      "text/plain": [
       "reportts         20997\n",
       "acnum            20997\n",
       "reportname       20997\n",
       "pos              20997\n",
       "fltdes           20997\n",
       "                 ...  \n",
       "POSITION         20934\n",
       "ESN              20934\n",
       "RECORDED_DT      20934\n",
       "RWCTOMAR         20934\n",
       "egtm_reportts    20934\n",
       "Length: 219, dtype: int64"
      ]
     },
     "execution_count": 22,
     "metadata": {},
     "output_type": "execute_result"
    }
   ],
   "source": [
    "merged = pd.merge(neo, egtm1, on='reportts')\n",
    "merged.count()"
   ]
  },
  {
   "cell_type": "code",
   "execution_count": 23,
   "metadata": {},
   "outputs": [],
   "source": [
    "merged['diff'] = (merged['reportts'] - merged['egtm_reportts']) \\\n",
    "  .astype('timedelta64[h]')"
   ]
  },
  {
   "cell_type": "code",
   "execution_count": 24,
   "metadata": {},
   "outputs": [
    {
     "data": {
      "text/plain": [
       "<Axes: title={'center': 'Time diff in hours'}, ylabel='Frequency'>"
      ]
     },
     "execution_count": 24,
     "metadata": {},
     "output_type": "execute_result"
    },
    {
     "data": {
      "image/png": "[encoded data removed]",
      "text/plain": [
       "<Figure size 640x480 with 1 Axes>"
      ]
     },
     "metadata": {},
     "output_type": "display_data"
    }
   ],
   "source": [
    "merged['diff'].plot.hist(bins=100, title='Time diff in hours')"
   ]
  },
  {
   "cell_type": "code",
   "execution_count": 25,
   "metadata": {},
   "outputs": [
    {
     "data": {
      "text/plain": [
       "<Axes: title={'center': 'Time diff in hours'}, ylabel='Frequency'>"
      ]
     },
     "execution_count": 25,
     "metadata": {},
     "output_type": "execute_result"
    },
    {
     "data": {
      "image/png": "[encoded data removed]",
      "text/plain": [
       "<Figure size 640x480 with 1 Axes>"
      ]
     },
     "metadata": {},
     "output_type": "display_data"
    }
   ],
   "source": [
    "merged_filtered = merged[merged['diff'] <= 10_000]\n",
    "merged_filtered['diff'].plot.hist(bins=100, title='Time diff in hours')"
   ]
  },
  {
   "cell_type": "code",
   "execution_count": 26,
   "metadata": {},
   "outputs": [
    {
     "data": {
      "text/plain": [
       "11541"
      ]
     },
     "execution_count": 26,
     "metadata": {},
     "output_type": "execute_result"
    }
   ],
   "source": [
    "merged_filtered['diff'].count()"
   ]
  },
  {
   "cell_type": "code",
   "execution_count": 27,
   "metadata": {},
   "outputs": [
    {
     "data": {
      "text/plain": [
       "<Axes: title={'center': 'Time diff in hours'}, ylabel='Frequency'>"
      ]
     },
     "execution_count": 27,
     "metadata": {},
     "output_type": "execute_result"
    },
    {
     "data": {
      "image/png": "[encoded data removed]",
      "text/plain": [
       "<Figure size 640x480 with 1 Axes>"
      ]
     },
     "metadata": {},
     "output_type": "display_data"
    }
   ],
   "source": [
    "merged_filtered = merged[merged['diff'] <= 400]\n",
    "merged_filtered['diff'].plot.hist(bins=100, title='Time diff in hours')"
   ]
  },
  {
   "cell_type": "markdown",
   "metadata": {},
   "source": [
    "Вывод: Половине записей в таблице neo соответствует запись в egtm в окне +/- 400 часов"
   ]
  },
  {
   "cell_type": "code",
   "execution_count": 28,
   "metadata": {},
   "outputs": [
    {
     "data": {
      "text/plain": [
       "3229"
      ]
     },
     "execution_count": 28,
     "metadata": {},
     "output_type": "execute_result"
    }
   ],
   "source": [
    "merged_filtered['diff'].count()"
   ]
  },
  {
   "cell_type": "markdown",
   "metadata": {},
   "source": [
    "### Эксперименты с частотой TAKEOFF"
   ]
  },
  {
   "cell_type": "markdown",
   "metadata": {},
   "source": [
    "**TODO:**\n",
    "\n",
    "1. Построить таблицу в рамках одного дня и построить количество данных слева и справа \n",
    "2. Отдельно для report name == TAKEOFF \n",
    "3. Сравнить частоту записей в рамках одного дня"
   ]
  },
  {
   "cell_type": "code",
   "execution_count": 29,
   "metadata": {},
   "outputs": [
    {
     "data": {
      "text/plain": [
       "DatetimeIndex(['2018-05-20 19:36:47', '2018-05-22 01:48:50',\n",
       "               '2018-05-23 19:51:23', '2018-05-25 01:07:05',\n",
       "               '2018-05-26 10:41:08', '2018-05-27 23:01:23',\n",
       "               '2018-05-29 08:05:07', '2018-05-30 08:31:49',\n",
       "               '2018-05-31 14:07:19', '2018-06-01 22:12:10',\n",
       "               ...\n",
       "               '2020-01-29 04:45:27', '2020-01-29 16:36:17',\n",
       "               '2020-01-30 12:31:39', '2020-01-30 22:41:42',\n",
       "               '2020-01-31 08:38:30', '2020-01-31 14:36:22',\n",
       "               '2020-02-01 14:42:58', '2020-02-02 04:14:45',\n",
       "               '2020-02-02 16:24:00', '2020-02-02 22:24:23'],\n",
       "              dtype='datetime64[ns]', name='reportts', length=1284, freq=None)"
      ]
     },
     "execution_count": 29,
     "metadata": {},
     "output_type": "execute_result"
    }
   ],
   "source": [
    "egtm_line = egtm[\n",
    "    (egtm['RECORDED_DT'].dt.year == 2019) & \n",
    "    (egtm['RECORDED_DT'].dt.month == 5)\n",
    "].index\n",
    "egtm.index"
   ]
  },
  {
   "cell_type": "code",
   "execution_count": 30,
   "metadata": {},
   "outputs": [
    {
     "data": {
      "image/png": "[encoded data removed]",
      "text/plain": [
       "<Figure size 640x480 with 1 Axes>"
      ]
     },
     "metadata": {},
     "output_type": "display_data"
    }
   ],
   "source": [
    "acms_line = neo[\n",
    "    (pd.to_datetime(neo.index).year == 2019) & \n",
    "    (pd.to_datetime(neo.index).month == 5) & \n",
    "    (neo['reportname'] == 'A320 ENGINE TAKE OFF REPORT')\n",
    "].index\n",
    "\n",
    "egtm_line = egtm[\n",
    "    (egtm['RECORDED_DT'].dt.year == 2019) & \n",
    "    (egtm['RECORDED_DT'].dt.month == 5)\n",
    "].index\n",
    "\n",
    "fig, ax = plt.subplots()\n",
    "\n",
    "ax.scatter(acms_line, y=acms_line.map(lambda _ : 1), s=3)\n",
    "ax.scatter(egtm_line, y=egtm_line.map(lambda _: 2), s=3)\n",
    "ax.legend([\"ACMS reports\", \"EGTM reports\"])\n",
    "ax.set_ylim([0, 3])\n",
    "ax.set_title(\"Reports on May, 2019\")\n",
    "plt.show()"
   ]
  },
  {
   "cell_type": "code",
   "execution_count": 31,
   "metadata": {},
   "outputs": [
    {
     "data": {
      "text/html": [
       "<div>\n",
       "<style scoped>\n",
       "    .dataframe tbody tr th:only-of-type {\n",
       "        vertical-align: middle;\n",
       "    }\n",
       "\n",
       "    .dataframe tbody tr th {\n",
       "        vertical-align: top;\n",
       "    }\n",
       "\n",
       "    .dataframe thead th {\n",
       "        text-align: right;\n",
       "    }\n",
       "</style>\n",
       "<table border=\"1\" class=\"dataframe\">\n",
       "  <thead>\n",
       "    <tr style=\"text-align: right;\">\n",
       "      <th></th>\n",
       "      <th>0</th>\n",
       "      <th>1</th>\n",
       "    </tr>\n",
       "  </thead>\n",
       "  <tbody>\n",
       "    <tr>\n",
       "      <th>0</th>\n",
       "      <td>2019-05-01 03:32:02</td>\n",
       "      <td>2019-05-09 08:15:50</td>\n",
       "    </tr>\n",
       "    <tr>\n",
       "      <th>1</th>\n",
       "      <td>2019-05-01 09:36:22</td>\n",
       "      <td>2019-05-09 11:54:39</td>\n",
       "    </tr>\n",
       "    <tr>\n",
       "      <th>2</th>\n",
       "      <td>2019-05-02 03:00:31</td>\n",
       "      <td>2019-05-09 16:27:33</td>\n",
       "    </tr>\n",
       "    <tr>\n",
       "      <th>3</th>\n",
       "      <td>2019-05-02 10:22:17</td>\n",
       "      <td>2019-05-09 23:01:52</td>\n",
       "    </tr>\n",
       "    <tr>\n",
       "      <th>4</th>\n",
       "      <td>2019-05-03 03:40:28</td>\n",
       "      <td>2019-05-10 08:47:29</td>\n",
       "    </tr>\n",
       "    <tr>\n",
       "      <th>...</th>\n",
       "      <td>...</td>\n",
       "      <td>...</td>\n",
       "    </tr>\n",
       "    <tr>\n",
       "      <th>74</th>\n",
       "      <td>2019-05-30 16:37:27</td>\n",
       "      <td>NaT</td>\n",
       "    </tr>\n",
       "    <tr>\n",
       "      <th>75</th>\n",
       "      <td>2019-05-31 08:12:07</td>\n",
       "      <td>NaT</td>\n",
       "    </tr>\n",
       "    <tr>\n",
       "      <th>76</th>\n",
       "      <td>2019-05-31 11:53:59</td>\n",
       "      <td>NaT</td>\n",
       "    </tr>\n",
       "    <tr>\n",
       "      <th>77</th>\n",
       "      <td>2019-05-31 15:45:23</td>\n",
       "      <td>NaT</td>\n",
       "    </tr>\n",
       "    <tr>\n",
       "      <th>78</th>\n",
       "      <td>2019-05-31 20:49:44</td>\n",
       "      <td>NaT</td>\n",
       "    </tr>\n",
       "  </tbody>\n",
       "</table>\n",
       "<p>79 rows × 2 columns</p>\n",
       "</div>"
      ],
      "text/plain": [
       "                     0                   1\n",
       "0  2019-05-01 03:32:02 2019-05-09 08:15:50\n",
       "1  2019-05-01 09:36:22 2019-05-09 11:54:39\n",
       "2  2019-05-02 03:00:31 2019-05-09 16:27:33\n",
       "3  2019-05-02 10:22:17 2019-05-09 23:01:52\n",
       "4  2019-05-03 03:40:28 2019-05-10 08:47:29\n",
       "..                 ...                 ...\n",
       "74 2019-05-30 16:37:27                 NaT\n",
       "75 2019-05-31 08:12:07                 NaT\n",
       "76 2019-05-31 11:53:59                 NaT\n",
       "77 2019-05-31 15:45:23                 NaT\n",
       "78 2019-05-31 20:49:44                 NaT\n",
       "\n",
       "[79 rows x 2 columns]"
      ]
     },
     "execution_count": 31,
     "metadata": {},
     "output_type": "execute_result"
    }
   ],
   "source": [
    "pd.DataFrame([egtm_line, acms_line]).T"
   ]
  },
  {
   "attachments": {},
   "cell_type": "markdown",
   "metadata": {},
   "source": [
    "1. Строить по одной модели на каждый признак \n",
    "1. Более поздние на тест \n",
    "1. Модели: XGBoost, LinReg, RandomForest\n",
    "1. Составить таблицу с результатами\n",
    "1. Вначале взять только Takeoff\n",
    "1. Затем попробовать Cruise\n",
    "1. Метрика rmse \n",
    "1. Время не является признаком (только числовые фичи)\n",
    "1. Самый важный параметр - EGTMARGIN\n",
    "1. Проблемы автокореляции? "
   ]
  },
  {
   "cell_type": "markdown",
   "metadata": {},
   "source": [
    "Подготовить функции для построения графиков predict/target"
   ]
  }
 ],
 "metadata": {
  "kernelspec": {
   "display_name": "recsys",
   "language": "python",
   "name": "python3"
  },
  "language_info": {
   "codemirror_mode": {
    "name": "ipython",
    "version": 3
   },
   "file_extension": ".py",
   "mimetype": "text/x-python",
   "name": "python",
   "nbconvert_exporter": "python",
   "pygments_lexer": "ipython3",
   "version": "3.9.16 | packaged by conda-forge | (main, Feb  1 2023, 21:39:03) \n[GCC 11.3.0]"
  },
  "orig_nbformat": 4,
  "vscode": {
   "interpreter": {
    "hash": "8ff27b20a45684c9bdecad1b6a847c26994a0603bb60e53a026c6c4c0a29dbc5"
   }
  }
 },
 "nbformat": 4,
 "nbformat_minor": 2
}
