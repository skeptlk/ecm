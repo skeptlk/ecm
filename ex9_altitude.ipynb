{
 "cells": [
  {
   "attachments": {},
   "cell_type": "markdown",
   "metadata": {},
   "source": [
    "### **Эксперимент 9.**\n",
    "\n",
    "Построить отдельные модели для высот (ALT) 0-500, 500-1000, 1000-1500. Результат смотрим суммарно. \n",
    "\n",
    "Использовать конфигурацию эксперимента 5 (или 4, если лучше)\n"
   ]
  },
  {
   "cell_type": "code",
   "execution_count": null,
   "metadata": {},
   "outputs": [],
   "source": [
    "import pandas as pd\n",
    "import numpy as np \n",
    "\n",
    "y_cols = ['egtm']\n",
    "meta_cols = ['reportts', 'acnum', 'pos']\n",
    "features = ['egt', 'tat', 'n1a', 'n2a', 'wai', 'nai', 'prv', 'alt', 'mn', 'ff', 'nf']"
   ]
  }
 ],
 "metadata": {
  "kernelspec": {
   "display_name": "Python 3",
   "language": "python",
   "name": "python3"
  },
  "language_info": {
   "name": "python",
   "version": "3.11.6 (main, Nov 14 2023, 09:36:21) [GCC 13.2.1 20230801]"
  },
  "orig_nbformat": 4,
  "vscode": {
   "interpreter": {
    "hash": "e7370f93d1d0cde622a1f8e1c04877d8463912d04d973331ad4851f04de6915a"
   }
  }
 },
 "nbformat": 4,
 "nbformat_minor": 2
}
