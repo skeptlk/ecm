{
 "cells": [
  {
   "cell_type": "code",
   "execution_count": 15,
   "metadata": {},
   "outputs": [],
   "source": [
    "import pandas as pd"
   ]
  },
  {
   "cell_type": "markdown",
   "metadata": {},
   "source": [
    "### Pandas: merging by closest date example"
   ]
  },
  {
   "cell_type": "code",
   "execution_count": 16,
   "metadata": {},
   "outputs": [],
   "source": [
    "left = pd.DataFrame({\n",
    "    \"ID\": [1, 2, 3, 4, 5], \n",
    "    \"date\":[\n",
    "        \"06/22/2014\",\n",
    "        \"07/02/2014\",\n",
    "        \"01/01/2015\",\n",
    "        \"01/01/1991\",\n",
    "        \"08/02/1999\"\n",
    "    ]})\n",
    "\n",
    "right = pd.DataFrame({\n",
    "    \"ID\": [1, 2, 3, 4, 5, 6, 7], \n",
    "    \"date\":[\n",
    "        \"02/15/2015\",\n",
    "        \"06/30/2014\",\n",
    "        \"07/02/1999\",\n",
    "        \"10/05/1990\",\n",
    "        \"06/24/2014\",\n",
    "        \"12/12/2222\",\n",
    "        \"12/13/2222\"\n",
    "    ], \"value\": [333, 222, 444, 777, 42, 0, 0] \n",
    "})\n",
    "\n",
    "left['date']  = pd.to_datetime(left.date)\n",
    "right['date'] = pd.to_datetime(right.date)\n",
    "left.sort_values('date', inplace=True)\n",
    "right.sort_values('date', inplace=True)"
   ]
  },
  {
   "cell_type": "code",
   "execution_count": 17,
   "metadata": {},
   "outputs": [
    {
     "data": {
      "text/plain": [
       "(   ID       date\n",
       " 3   4 1991-01-01\n",
       " 4   5 1999-08-02\n",
       " 0   1 2014-06-22\n",
       " 1   2 2014-07-02\n",
       " 2   3 2015-01-01,\n",
       "    ID       date  value\n",
       " 3   4 1990-10-05    777\n",
       " 2   3 1999-07-02    444\n",
       " 4   5 2014-06-24     42\n",
       " 1   2 2014-06-30    222\n",
       " 0   1 2015-02-15    333\n",
       " 5   6 2222-12-12      0\n",
       " 6   7 2222-12-13      0)"
      ]
     },
     "execution_count": 17,
     "metadata": {},
     "output_type": "execute_result"
    }
   ],
   "source": [
    "left, right"
   ]
  },
  {
   "cell_type": "code",
   "execution_count": 18,
   "metadata": {},
   "outputs": [
    {
     "data": {
      "text/html": [
       "<div>\n",
       "<style scoped>\n",
       "    .dataframe tbody tr th:only-of-type {\n",
       "        vertical-align: middle;\n",
       "    }\n",
       "\n",
       "    .dataframe tbody tr th {\n",
       "        vertical-align: top;\n",
       "    }\n",
       "\n",
       "    .dataframe thead th {\n",
       "        text-align: right;\n",
       "    }\n",
       "</style>\n",
       "<table border=\"1\" class=\"dataframe\">\n",
       "  <thead>\n",
       "    <tr style=\"text-align: right;\">\n",
       "      <th></th>\n",
       "      <th>ID_a</th>\n",
       "      <th>date</th>\n",
       "      <th>ID_b</th>\n",
       "      <th>value</th>\n",
       "    </tr>\n",
       "  </thead>\n",
       "  <tbody>\n",
       "    <tr>\n",
       "      <th>0</th>\n",
       "      <td>4</td>\n",
       "      <td>1991-01-01</td>\n",
       "      <td>4</td>\n",
       "      <td>777</td>\n",
       "    </tr>\n",
       "    <tr>\n",
       "      <th>1</th>\n",
       "      <td>5</td>\n",
       "      <td>1999-08-02</td>\n",
       "      <td>3</td>\n",
       "      <td>444</td>\n",
       "    </tr>\n",
       "    <tr>\n",
       "      <th>2</th>\n",
       "      <td>1</td>\n",
       "      <td>2014-06-22</td>\n",
       "      <td>5</td>\n",
       "      <td>42</td>\n",
       "    </tr>\n",
       "    <tr>\n",
       "      <th>3</th>\n",
       "      <td>2</td>\n",
       "      <td>2014-07-02</td>\n",
       "      <td>2</td>\n",
       "      <td>222</td>\n",
       "    </tr>\n",
       "    <tr>\n",
       "      <th>4</th>\n",
       "      <td>3</td>\n",
       "      <td>2015-01-01</td>\n",
       "      <td>1</td>\n",
       "      <td>333</td>\n",
       "    </tr>\n",
       "  </tbody>\n",
       "</table>\n",
       "</div>"
      ],
      "text/plain": [
       "   ID_a       date  ID_b  value\n",
       "0     4 1991-01-01     4    777\n",
       "1     5 1999-08-02     3    444\n",
       "2     1 2014-06-22     5     42\n",
       "3     2 2014-07-02     2    222\n",
       "4     3 2015-01-01     1    333"
      ]
     },
     "execution_count": 18,
     "metadata": {},
     "output_type": "execute_result"
    }
   ],
   "source": [
    "right1 = right.set_index('date').reindex(left.set_index('date').index, method='nearest').reset_index()\n",
    "\n",
    "pd.merge(left, right1, on='date', suffixes=('_a', '_b'))"
   ]
  },
  {
   "cell_type": "markdown",
   "metadata": {},
   "source": [
    "### Merging Engine data by closest time"
   ]
  },
  {
   "cell_type": "code",
   "execution_count": 19,
   "metadata": {},
   "outputs": [],
   "source": [
    "egtm = pd.read_csv('./EGTM.csv', parse_dates=['RECORDED_DT'])"
   ]
  },
  {
   "cell_type": "code",
   "execution_count": 20,
   "metadata": {},
   "outputs": [],
   "source": [
    "egtm_cols = egtm.columns[:5]\n",
    "egtm = egtm[egtm_cols]\n",
    "egtm = egtm[egtm['AIRCRAFT'] == 'VQ-BDQ']\n",
    "egtm = egtm[egtm['POSITION'] == 1]\n",
    "egtm['reportts'] = pd.to_datetime(egtm['RECORDED_DT'], format='mixed')\n",
    "egtm['egtm_reportts'] = egtm['reportts']"
   ]
  },
  {
   "cell_type": "code",
   "execution_count": 21,
   "metadata": {},
   "outputs": [
    {
     "name": "stderr",
     "output_type": "stream",
     "text": [
      "/tmp/ipykernel_41526/3501257036.py:1: DtypeWarning: Columns (140,152,171,175) have mixed types. Specify dtype option on import or set low_memory=False.\n",
      "  neo = pd.read_csv(\n"
     ]
    }
   ],
   "source": [
    "neo = pd.read_csv(\n",
    "    './a320_a321_neo_full_acms_parameters.csv', \n",
    "    parse_dates=['reportts', 'processedts'], \n",
    ")\n",
    "neo = neo[neo['acnum'] == 'VQ-BDQ']\n",
    "neo = neo[neo['pos'] == 1]"
   ]
  },
  {
   "cell_type": "markdown",
   "metadata": {},
   "source": [
    "ACMS = Aircraft Condition Monitoring System"
   ]
  },
  {
   "cell_type": "code",
   "execution_count": 22,
   "metadata": {},
   "outputs": [
    {
     "data": {
      "text/html": [
       "<div>\n",
       "<style scoped>\n",
       "    .dataframe tbody tr th:only-of-type {\n",
       "        vertical-align: middle;\n",
       "    }\n",
       "\n",
       "    .dataframe tbody tr th {\n",
       "        vertical-align: top;\n",
       "    }\n",
       "\n",
       "    .dataframe thead th {\n",
       "        text-align: right;\n",
       "    }\n",
       "</style>\n",
       "<table border=\"1\" class=\"dataframe\">\n",
       "  <thead>\n",
       "    <tr style=\"text-align: right;\">\n",
       "      <th></th>\n",
       "      <th>acnum</th>\n",
       "      <th>reportname</th>\n",
       "      <th>reportts</th>\n",
       "      <th>file_path</th>\n",
       "      <th>pos</th>\n",
       "      <th>fltdes</th>\n",
       "      <th>dep</th>\n",
       "      <th>arr</th>\n",
       "      <th>ivs12</th>\n",
       "      <th>ibe</th>\n",
       "      <th>...</th>\n",
       "      <th>vsva</th>\n",
       "      <th>w14</th>\n",
       "      <th>processedts</th>\n",
       "      <th>pf</th>\n",
       "      <th>wai</th>\n",
       "      <th>nai</th>\n",
       "      <th>prv</th>\n",
       "      <th>hpv</th>\n",
       "      <th>xf</th>\n",
       "      <th>reason</th>\n",
       "    </tr>\n",
       "  </thead>\n",
       "  <tbody>\n",
       "    <tr>\n",
       "      <th>31524</th>\n",
       "      <td>VQ-BDQ</td>\n",
       "      <td>A320 EEC MAINTENANCE REPORT</td>\n",
       "      <td>2019-04-18 08:07:31</td>\n",
       "      <td>ecm/S7_NEO_320_321/VQ-BDI/VQ-BDP18042019081437...</td>\n",
       "      <td>1</td>\n",
       "      <td>0.0</td>\n",
       "      <td>UDYZ</td>\n",
       "      <td>UNNT</td>\n",
       "      <td>NaN</td>\n",
       "      <td>NaN</td>\n",
       "      <td>...</td>\n",
       "      <td>0.0</td>\n",
       "      <td>NaN</td>\n",
       "      <td>2023-09-23 07:58:31.342</td>\n",
       "      <td>0.54</td>\n",
       "      <td>0.0</td>\n",
       "      <td>0.0</td>\n",
       "      <td>1.0</td>\n",
       "      <td>0.0</td>\n",
       "      <td>0.0</td>\n",
       "      <td>STW 36 BIT 20</td>\n",
       "    </tr>\n",
       "    <tr>\n",
       "      <th>31529</th>\n",
       "      <td>VQ-BDQ</td>\n",
       "      <td>A320 EEC MAINTENANCE REPORT</td>\n",
       "      <td>2019-04-18 08:07:31</td>\n",
       "      <td>ecm/S7_NEO_320_321/VQ-BDI/VQ-BDP18042019081437...</td>\n",
       "      <td>1</td>\n",
       "      <td>0.0</td>\n",
       "      <td>UDYZ</td>\n",
       "      <td>UNNT</td>\n",
       "      <td>NaN</td>\n",
       "      <td>NaN</td>\n",
       "      <td>...</td>\n",
       "      <td>0.0</td>\n",
       "      <td>NaN</td>\n",
       "      <td>2023-09-23 07:58:31.456</td>\n",
       "      <td>0.54</td>\n",
       "      <td>0.0</td>\n",
       "      <td>0.0</td>\n",
       "      <td>1.0</td>\n",
       "      <td>0.0</td>\n",
       "      <td>0.0</td>\n",
       "      <td>STW 36 BIT 20</td>\n",
       "    </tr>\n",
       "    <tr>\n",
       "      <th>31531</th>\n",
       "      <td>VQ-BDQ</td>\n",
       "      <td>A320 EEC MAINTENANCE REPORT</td>\n",
       "      <td>2019-04-18 02:53:55</td>\n",
       "      <td>ecm/S7_NEO_320_321/VQ-BDI/VQ-BDP18042019081437...</td>\n",
       "      <td>1</td>\n",
       "      <td>5593.0</td>\n",
       "      <td>UNNT</td>\n",
       "      <td>UDYZ</td>\n",
       "      <td>NaN</td>\n",
       "      <td>NaN</td>\n",
       "      <td>...</td>\n",
       "      <td>0.0</td>\n",
       "      <td>NaN</td>\n",
       "      <td>2023-09-23 07:58:30.926</td>\n",
       "      <td>0.48</td>\n",
       "      <td>0.0</td>\n",
       "      <td>0.0</td>\n",
       "      <td>1.0</td>\n",
       "      <td>1.0</td>\n",
       "      <td>0.0</td>\n",
       "      <td>STW 16 BIT 27</td>\n",
       "    </tr>\n",
       "    <tr>\n",
       "      <th>31546</th>\n",
       "      <td>VQ-BDQ</td>\n",
       "      <td>A320 EEC MAINTENANCE REPORT</td>\n",
       "      <td>2019-04-18 02:56:14</td>\n",
       "      <td>ecm/S7_NEO_320_321/VQ-BDI/VQ-BDP18042019081437...</td>\n",
       "      <td>1</td>\n",
       "      <td>0.0</td>\n",
       "      <td>UNNT</td>\n",
       "      <td>UDYZ</td>\n",
       "      <td>NaN</td>\n",
       "      <td>NaN</td>\n",
       "      <td>...</td>\n",
       "      <td>0.0</td>\n",
       "      <td>NaN</td>\n",
       "      <td>2023-09-23 07:58:31.062</td>\n",
       "      <td>0.40</td>\n",
       "      <td>0.0</td>\n",
       "      <td>0.0</td>\n",
       "      <td>1.0</td>\n",
       "      <td>1.0</td>\n",
       "      <td>0.0</td>\n",
       "      <td>STW 36 BIT 20</td>\n",
       "    </tr>\n",
       "    <tr>\n",
       "      <th>31548</th>\n",
       "      <td>VQ-BDQ</td>\n",
       "      <td>A320 EEC MAINTENANCE REPORT</td>\n",
       "      <td>2019-04-18 02:56:14</td>\n",
       "      <td>ecm/S7_NEO_320_321/VQ-BDI/VQ-BDP18042019081437...</td>\n",
       "      <td>1</td>\n",
       "      <td>0.0</td>\n",
       "      <td>UNNT</td>\n",
       "      <td>UDYZ</td>\n",
       "      <td>NaN</td>\n",
       "      <td>NaN</td>\n",
       "      <td>...</td>\n",
       "      <td>0.0</td>\n",
       "      <td>NaN</td>\n",
       "      <td>2023-09-23 07:58:31.211</td>\n",
       "      <td>0.40</td>\n",
       "      <td>0.0</td>\n",
       "      <td>0.0</td>\n",
       "      <td>1.0</td>\n",
       "      <td>1.0</td>\n",
       "      <td>0.0</td>\n",
       "      <td>STW 36 BIT 20</td>\n",
       "    </tr>\n",
       "  </tbody>\n",
       "</table>\n",
       "<p>5 rows × 214 columns</p>\n",
       "</div>"
      ],
      "text/plain": [
       "        acnum                   reportname            reportts   \n",
       "31524  VQ-BDQ  A320 EEC MAINTENANCE REPORT 2019-04-18 08:07:31  \\\n",
       "31529  VQ-BDQ  A320 EEC MAINTENANCE REPORT 2019-04-18 08:07:31   \n",
       "31531  VQ-BDQ  A320 EEC MAINTENANCE REPORT 2019-04-18 02:53:55   \n",
       "31546  VQ-BDQ  A320 EEC MAINTENANCE REPORT 2019-04-18 02:56:14   \n",
       "31548  VQ-BDQ  A320 EEC MAINTENANCE REPORT 2019-04-18 02:56:14   \n",
       "\n",
       "                                               file_path  pos  fltdes   dep   \n",
       "31524  ecm/S7_NEO_320_321/VQ-BDI/VQ-BDP18042019081437...    1     0.0  UDYZ  \\\n",
       "31529  ecm/S7_NEO_320_321/VQ-BDI/VQ-BDP18042019081437...    1     0.0  UDYZ   \n",
       "31531  ecm/S7_NEO_320_321/VQ-BDI/VQ-BDP18042019081437...    1  5593.0  UNNT   \n",
       "31546  ecm/S7_NEO_320_321/VQ-BDI/VQ-BDP18042019081437...    1     0.0  UNNT   \n",
       "31548  ecm/S7_NEO_320_321/VQ-BDI/VQ-BDP18042019081437...    1     0.0  UNNT   \n",
       "\n",
       "        arr  ivs12  ibe  ...  vsva  w14             processedts    pf  wai   \n",
       "31524  UNNT    NaN  NaN  ...   0.0  NaN 2023-09-23 07:58:31.342  0.54  0.0  \\\n",
       "31529  UNNT    NaN  NaN  ...   0.0  NaN 2023-09-23 07:58:31.456  0.54  0.0   \n",
       "31531  UDYZ    NaN  NaN  ...   0.0  NaN 2023-09-23 07:58:30.926  0.48  0.0   \n",
       "31546  UDYZ    NaN  NaN  ...   0.0  NaN 2023-09-23 07:58:31.062  0.40  0.0   \n",
       "31548  UDYZ    NaN  NaN  ...   0.0  NaN 2023-09-23 07:58:31.211  0.40  0.0   \n",
       "\n",
       "       nai  prv  hpv   xf         reason  \n",
       "31524  0.0  1.0  0.0  0.0  STW 36 BIT 20  \n",
       "31529  0.0  1.0  0.0  0.0  STW 36 BIT 20  \n",
       "31531  0.0  1.0  1.0  0.0  STW 16 BIT 27  \n",
       "31546  0.0  1.0  1.0  0.0  STW 36 BIT 20  \n",
       "31548  0.0  1.0  1.0  0.0  STW 36 BIT 20  \n",
       "\n",
       "[5 rows x 214 columns]"
      ]
     },
     "execution_count": 22,
     "metadata": {},
     "output_type": "execute_result"
    }
   ],
   "source": [
    "neo.head()"
   ]
  },
  {
   "cell_type": "markdown",
   "metadata": {},
   "source": [
    "#### Data frequency by time:"
   ]
  },
  {
   "cell_type": "code",
   "execution_count": 23,
   "metadata": {},
   "outputs": [
    {
     "data": {
      "image/png": "[encoded data removed]",
      "text/plain": [
       "<Figure size 640x480 with 2 Axes>"
      ]
     },
     "metadata": {},
     "output_type": "display_data"
    }
   ],
   "source": [
    "import matplotlib.pyplot as plt\n",
    "import matplotlib.dates as mdates\n",
    "import seaborn as sns\n",
    "\n",
    "neo_report_timepoints = neo[neo['reportts'].dt.year < 2023 ]['reportts']\n",
    "neo_report_timepoints = mdates.date2num(neo_report_timepoints)\n",
    "\n",
    "plt.rc('xtick', labelsize=6)\n",
    "plt.rc('ytick', labelsize=8)\n",
    "\n",
    "fig, ax = plt.subplots()\n",
    "\n",
    "ax2 = ax.twinx()\n",
    "\n",
    "egtm_report_timepoints = egtm[egtm['reportts'].dt.year < 2023]['reportts']\n",
    "egtm_report_timepoints = mdates.date2num(egtm_report_timepoints)\n",
    "\n",
    "ax.hist([neo_report_timepoints, egtm_report_timepoints], bins=40, color=('lightblue', 'orchid'))\n",
    "ax.xaxis.set_major_locator(mdates.YearLocator())\n",
    "ax.xaxis.set_major_formatter(mdates.DateFormatter('%d.%m.%Y'))\n",
    "\n",
    "sns.kdeplot(neo_report_timepoints, ax=ax2);\n",
    "plt.title(\"Number of records\")\n",
    "\n",
    "ax.legend(['ACMS records', 'EGTM records'])\n",
    "\n",
    "plt.show()\n",
    "\n"
   ]
  },
  {
   "cell_type": "markdown",
   "metadata": {},
   "source": [
    "#### Merging with EGTM table by closest recorded date (using indexes)"
   ]
  },
  {
   "cell_type": "code",
   "execution_count": 24,
   "metadata": {},
   "outputs": [],
   "source": [
    "neo.sort_values('reportts', inplace=True)\n",
    "egtm.sort_values('reportts', inplace=True)\n",
    "\n",
    "neo = neo.set_index('reportts')\n",
    "egtm = egtm.set_index('reportts')"
   ]
  },
  {
   "cell_type": "code",
   "execution_count": 25,
   "metadata": {},
   "outputs": [],
   "source": [
    "egtm1 = egtm.reindex(neo.index, method='ffill').reset_index()"
   ]
  },
  {
   "cell_type": "code",
   "execution_count": 26,
   "metadata": {},
   "outputs": [
    {
     "data": {
      "text/plain": [
       "reportts         20997\n",
       "acnum            20997\n",
       "reportname       20997\n",
       "file_path        20997\n",
       "pos              20997\n",
       "                 ...  \n",
       "POSITION         20997\n",
       "ESN              20997\n",
       "RECORDED_DT      20997\n",
       "RWCTOMAR         20997\n",
       "egtm_reportts    20997\n",
       "Length: 220, dtype: int64"
      ]
     },
     "execution_count": 26,
     "metadata": {},
     "output_type": "execute_result"
    }
   ],
   "source": [
    "merged = pd.merge(neo, egtm1, on='reportts')\n",
    "merged.count()"
   ]
  },
  {
   "cell_type": "code",
   "execution_count": 27,
   "metadata": {},
   "outputs": [
    {
     "ename": "ValueError",
     "evalue": "Cannot convert from timedelta64[ns] to timedelta64[h]. Supported resolutions are 's', 'ms', 'us', 'ns'",
     "output_type": "error",
     "traceback": [
      "\u001b[0;31m---------------------------------------------------------------------------\u001b[0m",
      "\u001b[0;31mValueError\u001b[0m                                Traceback (most recent call last)",
      "Cell \u001b[0;32mIn[27], line 2\u001b[0m\n\u001b[1;32m      1\u001b[0m merged[\u001b[39m'\u001b[39m\u001b[39mdiff\u001b[39m\u001b[39m'\u001b[39m] \u001b[39m=\u001b[39m (merged[\u001b[39m'\u001b[39;49m\u001b[39mreportts\u001b[39;49m\u001b[39m'\u001b[39;49m] \u001b[39m-\u001b[39;49m merged[\u001b[39m'\u001b[39;49m\u001b[39megtm_reportts\u001b[39;49m\u001b[39m'\u001b[39;49m]) \\\n\u001b[0;32m----> 2\u001b[0m   \u001b[39m.\u001b[39;49mastype(\u001b[39m'\u001b[39;49m\u001b[39mtimedelta64[h]\u001b[39;49m\u001b[39m'\u001b[39;49m)\n",
      "File \u001b[0;32m~/.local/lib/python3.11/site-packages/pandas/core/generic.py:6324\u001b[0m, in \u001b[0;36mNDFrame.astype\u001b[0;34m(self, dtype, copy, errors)\u001b[0m\n\u001b[1;32m   6317\u001b[0m     results \u001b[39m=\u001b[39m [\n\u001b[1;32m   6318\u001b[0m         \u001b[39mself\u001b[39m\u001b[39m.\u001b[39miloc[:, i]\u001b[39m.\u001b[39mastype(dtype, copy\u001b[39m=\u001b[39mcopy)\n\u001b[1;32m   6319\u001b[0m         \u001b[39mfor\u001b[39;00m i \u001b[39min\u001b[39;00m \u001b[39mrange\u001b[39m(\u001b[39mlen\u001b[39m(\u001b[39mself\u001b[39m\u001b[39m.\u001b[39mcolumns))\n\u001b[1;32m   6320\u001b[0m     ]\n\u001b[1;32m   6322\u001b[0m \u001b[39melse\u001b[39;00m:\n\u001b[1;32m   6323\u001b[0m     \u001b[39m# else, only a single dtype is given\u001b[39;00m\n\u001b[0;32m-> 6324\u001b[0m     new_data \u001b[39m=\u001b[39m \u001b[39mself\u001b[39;49m\u001b[39m.\u001b[39;49m_mgr\u001b[39m.\u001b[39;49mastype(dtype\u001b[39m=\u001b[39;49mdtype, copy\u001b[39m=\u001b[39;49mcopy, errors\u001b[39m=\u001b[39;49merrors)\n\u001b[1;32m   6325\u001b[0m     \u001b[39mreturn\u001b[39;00m \u001b[39mself\u001b[39m\u001b[39m.\u001b[39m_constructor(new_data)\u001b[39m.\u001b[39m__finalize__(\u001b[39mself\u001b[39m, method\u001b[39m=\u001b[39m\u001b[39m\"\u001b[39m\u001b[39mastype\u001b[39m\u001b[39m\"\u001b[39m)\n\u001b[1;32m   6327\u001b[0m \u001b[39m# GH 33113: handle empty frame or series\u001b[39;00m\n",
      "File \u001b[0;32m~/.local/lib/python3.11/site-packages/pandas/core/internals/managers.py:451\u001b[0m, in \u001b[0;36mBaseBlockManager.astype\u001b[0;34m(self, dtype, copy, errors)\u001b[0m\n\u001b[1;32m    448\u001b[0m \u001b[39melif\u001b[39;00m using_copy_on_write():\n\u001b[1;32m    449\u001b[0m     copy \u001b[39m=\u001b[39m \u001b[39mFalse\u001b[39;00m\n\u001b[0;32m--> 451\u001b[0m \u001b[39mreturn\u001b[39;00m \u001b[39mself\u001b[39;49m\u001b[39m.\u001b[39;49mapply(\n\u001b[1;32m    452\u001b[0m     \u001b[39m\"\u001b[39;49m\u001b[39mastype\u001b[39;49m\u001b[39m\"\u001b[39;49m,\n\u001b[1;32m    453\u001b[0m     dtype\u001b[39m=\u001b[39;49mdtype,\n\u001b[1;32m    454\u001b[0m     copy\u001b[39m=\u001b[39;49mcopy,\n\u001b[1;32m    455\u001b[0m     errors\u001b[39m=\u001b[39;49merrors,\n\u001b[1;32m    456\u001b[0m     using_cow\u001b[39m=\u001b[39;49musing_copy_on_write(),\n\u001b[1;32m    457\u001b[0m )\n",
      "File \u001b[0;32m~/.local/lib/python3.11/site-packages/pandas/core/internals/managers.py:352\u001b[0m, in \u001b[0;36mBaseBlockManager.apply\u001b[0;34m(self, f, align_keys, **kwargs)\u001b[0m\n\u001b[1;32m    350\u001b[0m         applied \u001b[39m=\u001b[39m b\u001b[39m.\u001b[39mapply(f, \u001b[39m*\u001b[39m\u001b[39m*\u001b[39mkwargs)\n\u001b[1;32m    351\u001b[0m     \u001b[39melse\u001b[39;00m:\n\u001b[0;32m--> 352\u001b[0m         applied \u001b[39m=\u001b[39m \u001b[39mgetattr\u001b[39;49m(b, f)(\u001b[39m*\u001b[39;49m\u001b[39m*\u001b[39;49mkwargs)\n\u001b[1;32m    353\u001b[0m     result_blocks \u001b[39m=\u001b[39m extend_blocks(applied, result_blocks)\n\u001b[1;32m    355\u001b[0m out \u001b[39m=\u001b[39m \u001b[39mtype\u001b[39m(\u001b[39mself\u001b[39m)\u001b[39m.\u001b[39mfrom_blocks(result_blocks, \u001b[39mself\u001b[39m\u001b[39m.\u001b[39maxes)\n",
      "File \u001b[0;32m~/.local/lib/python3.11/site-packages/pandas/core/internals/blocks.py:511\u001b[0m, in \u001b[0;36mBlock.astype\u001b[0;34m(self, dtype, copy, errors, using_cow)\u001b[0m\n\u001b[1;32m    491\u001b[0m \u001b[39m\u001b[39m\u001b[39m\"\"\"\u001b[39;00m\n\u001b[1;32m    492\u001b[0m \u001b[39mCoerce to the new dtype.\u001b[39;00m\n\u001b[1;32m    493\u001b[0m \n\u001b[0;32m   (...)\u001b[0m\n\u001b[1;32m    507\u001b[0m \u001b[39mBlock\u001b[39;00m\n\u001b[1;32m    508\u001b[0m \u001b[39m\"\"\"\u001b[39;00m\n\u001b[1;32m    509\u001b[0m values \u001b[39m=\u001b[39m \u001b[39mself\u001b[39m\u001b[39m.\u001b[39mvalues\n\u001b[0;32m--> 511\u001b[0m new_values \u001b[39m=\u001b[39m astype_array_safe(values, dtype, copy\u001b[39m=\u001b[39;49mcopy, errors\u001b[39m=\u001b[39;49merrors)\n\u001b[1;32m    513\u001b[0m new_values \u001b[39m=\u001b[39m maybe_coerce_values(new_values)\n\u001b[1;32m    515\u001b[0m refs \u001b[39m=\u001b[39m \u001b[39mNone\u001b[39;00m\n",
      "File \u001b[0;32m~/.local/lib/python3.11/site-packages/pandas/core/dtypes/astype.py:242\u001b[0m, in \u001b[0;36mastype_array_safe\u001b[0;34m(values, dtype, copy, errors)\u001b[0m\n\u001b[1;32m    239\u001b[0m     dtype \u001b[39m=\u001b[39m dtype\u001b[39m.\u001b[39mnumpy_dtype\n\u001b[1;32m    241\u001b[0m \u001b[39mtry\u001b[39;00m:\n\u001b[0;32m--> 242\u001b[0m     new_values \u001b[39m=\u001b[39m astype_array(values, dtype, copy\u001b[39m=\u001b[39;49mcopy)\n\u001b[1;32m    243\u001b[0m \u001b[39mexcept\u001b[39;00m (\u001b[39mValueError\u001b[39;00m, \u001b[39mTypeError\u001b[39;00m):\n\u001b[1;32m    244\u001b[0m     \u001b[39m# e.g. _astype_nansafe can fail on object-dtype of strings\u001b[39;00m\n\u001b[1;32m    245\u001b[0m     \u001b[39m#  trying to convert to float\u001b[39;00m\n\u001b[1;32m    246\u001b[0m     \u001b[39mif\u001b[39;00m errors \u001b[39m==\u001b[39m \u001b[39m\"\u001b[39m\u001b[39mignore\u001b[39m\u001b[39m\"\u001b[39m:\n",
      "File \u001b[0;32m~/.local/lib/python3.11/site-packages/pandas/core/dtypes/astype.py:184\u001b[0m, in \u001b[0;36mastype_array\u001b[0;34m(values, dtype, copy)\u001b[0m\n\u001b[1;32m    180\u001b[0m     \u001b[39mreturn\u001b[39;00m values\n\u001b[1;32m    182\u001b[0m \u001b[39mif\u001b[39;00m \u001b[39mnot\u001b[39;00m \u001b[39misinstance\u001b[39m(values, np\u001b[39m.\u001b[39mndarray):\n\u001b[1;32m    183\u001b[0m     \u001b[39m# i.e. ExtensionArray\u001b[39;00m\n\u001b[0;32m--> 184\u001b[0m     values \u001b[39m=\u001b[39m values\u001b[39m.\u001b[39;49mastype(dtype, copy\u001b[39m=\u001b[39;49mcopy)\n\u001b[1;32m    186\u001b[0m \u001b[39melse\u001b[39;00m:\n\u001b[1;32m    187\u001b[0m     values \u001b[39m=\u001b[39m _astype_nansafe(values, dtype, copy\u001b[39m=\u001b[39mcopy)\n",
      "File \u001b[0;32m~/.local/lib/python3.11/site-packages/pandas/core/arrays/timedeltas.py:363\u001b[0m, in \u001b[0;36mTimedeltaArray.astype\u001b[0;34m(self, dtype, copy)\u001b[0m\n\u001b[1;32m    359\u001b[0m         \u001b[39mreturn\u001b[39;00m \u001b[39mtype\u001b[39m(\u001b[39mself\u001b[39m)\u001b[39m.\u001b[39m_simple_new(\n\u001b[1;32m    360\u001b[0m             res_values, dtype\u001b[39m=\u001b[39mres_values\u001b[39m.\u001b[39mdtype, freq\u001b[39m=\u001b[39m\u001b[39mself\u001b[39m\u001b[39m.\u001b[39mfreq\n\u001b[1;32m    361\u001b[0m         )\n\u001b[1;32m    362\u001b[0m     \u001b[39melse\u001b[39;00m:\n\u001b[0;32m--> 363\u001b[0m         \u001b[39mraise\u001b[39;00m \u001b[39mValueError\u001b[39;00m(\n\u001b[1;32m    364\u001b[0m             \u001b[39mf\u001b[39m\u001b[39m\"\u001b[39m\u001b[39mCannot convert from \u001b[39m\u001b[39m{\u001b[39;00m\u001b[39mself\u001b[39m\u001b[39m.\u001b[39mdtype\u001b[39m}\u001b[39;00m\u001b[39m to \u001b[39m\u001b[39m{\u001b[39;00mdtype\u001b[39m}\u001b[39;00m\u001b[39m. \u001b[39m\u001b[39m\"\u001b[39m\n\u001b[1;32m    365\u001b[0m             \u001b[39m\"\u001b[39m\u001b[39mSupported resolutions are \u001b[39m\u001b[39m'\u001b[39m\u001b[39ms\u001b[39m\u001b[39m'\u001b[39m\u001b[39m, \u001b[39m\u001b[39m'\u001b[39m\u001b[39mms\u001b[39m\u001b[39m'\u001b[39m\u001b[39m, \u001b[39m\u001b[39m'\u001b[39m\u001b[39mus\u001b[39m\u001b[39m'\u001b[39m\u001b[39m, \u001b[39m\u001b[39m'\u001b[39m\u001b[39mns\u001b[39m\u001b[39m'\u001b[39m\u001b[39m\"\u001b[39m\n\u001b[1;32m    366\u001b[0m         )\n\u001b[1;32m    368\u001b[0m \u001b[39mreturn\u001b[39;00m dtl\u001b[39m.\u001b[39mDatetimeLikeArrayMixin\u001b[39m.\u001b[39mastype(\u001b[39mself\u001b[39m, dtype, copy\u001b[39m=\u001b[39mcopy)\n",
      "\u001b[0;31mValueError\u001b[0m: Cannot convert from timedelta64[ns] to timedelta64[h]. Supported resolutions are 's', 'ms', 'us', 'ns'"
     ]
    }
   ],
   "source": [
    "merged['diff'] = (merged['reportts'] - merged['egtm_reportts']) \\\n",
    "  .astype('timedelta64[h]')"
   ]
  },
  {
   "cell_type": "code",
   "execution_count": null,
   "metadata": {},
   "outputs": [
    {
     "data": {
      "text/plain": [
       "<Axes: title={'center': 'Time diff in hours'}, ylabel='Frequency'>"
      ]
     },
     "execution_count": 59,
     "metadata": {},
     "output_type": "execute_result"
    },
    {
     "data": {
      "image/png": "[encoded data removed]",
      "text/plain": [
       "<Figure size 640x480 with 1 Axes>"
      ]
     },
     "metadata": {},
     "output_type": "display_data"
    }
   ],
   "source": [
    "merged['diff'].plot.hist(bins=100, title='Time diff in hours')"
   ]
  },
  {
   "cell_type": "code",
   "execution_count": null,
   "metadata": {},
   "outputs": [
    {
     "data": {
      "text/plain": [
       "<Axes: title={'center': 'Time diff in hours'}, ylabel='Frequency'>"
      ]
     },
     "execution_count": 60,
     "metadata": {},
     "output_type": "execute_result"
    },
    {
     "data": {
      "image/png": "[encoded data removed]",
      "text/plain": [
       "<Figure size 640x480 with 1 Axes>"
      ]
     },
     "metadata": {},
     "output_type": "display_data"
    }
   ],
   "source": [
    "merged_filtered = merged[merged['diff'] <= 10_000]\n",
    "merged_filtered['diff'].plot.hist(bins=100, title='Time diff in hours')"
   ]
  },
  {
   "cell_type": "code",
   "execution_count": null,
   "metadata": {},
   "outputs": [
    {
     "data": {
      "text/plain": [
       "20956"
      ]
     },
     "execution_count": 61,
     "metadata": {},
     "output_type": "execute_result"
    }
   ],
   "source": [
    "merged_filtered['diff'].count()"
   ]
  },
  {
   "cell_type": "code",
   "execution_count": null,
   "metadata": {},
   "outputs": [
    {
     "data": {
      "text/plain": [
       "<Axes: title={'center': 'Time diff in hours'}, ylabel='Frequency'>"
      ]
     },
     "execution_count": 62,
     "metadata": {},
     "output_type": "execute_result"
    },
    {
     "data": {
      "image/png": "[encoded data removed]",
      "text/plain": [
       "<Figure size 640x480 with 1 Axes>"
      ]
     },
     "metadata": {},
     "output_type": "display_data"
    }
   ],
   "source": [
    "merged_filtered = merged[merged['diff'] <= 400]\n",
    "merged_filtered['diff'].plot.hist(bins=100, title='Time diff in hours')"
   ]
  },
  {
   "cell_type": "markdown",
   "metadata": {},
   "source": [
    "Вывод: Половине записей в таблице neo соответствует запись в egtm в окне +/- 400 часов"
   ]
  },
  {
   "cell_type": "code",
   "execution_count": null,
   "metadata": {},
   "outputs": [
    {
     "data": {
      "text/plain": [
       "6772"
      ]
     },
     "execution_count": 63,
     "metadata": {},
     "output_type": "execute_result"
    }
   ],
   "source": [
    "merged_filtered['diff'].count()"
   ]
  },
  {
   "cell_type": "markdown",
   "metadata": {},
   "source": [
    "### Эксперименты с частотой TAKEOFF"
   ]
  },
  {
   "cell_type": "markdown",
   "metadata": {},
   "source": [
    "**TODO:**\n",
    "\n",
    "1. Построить таблицу в рамках одного дня и построить количество данных слева и справа \n",
    "2. Отдельно для report name == TAKEOFF \n",
    "3. Сравнить частоту записей в рамках одного дня"
   ]
  },
  {
   "cell_type": "code",
   "execution_count": null,
   "metadata": {},
   "outputs": [
    {
     "data": {
      "text/plain": [
       "DatetimeIndex(['2018-01-06 22:12:00', '2018-01-07 08:26:00',\n",
       "               '2018-01-07 13:56:00', '2018-01-07 19:40:00',\n",
       "               '2018-01-08 03:01:00', '2018-01-08 08:41:00',\n",
       "               '2018-01-08 14:11:00', '2018-01-08 19:45:00',\n",
       "               '2018-01-09 05:11:00', '2018-01-09 10:39:00',\n",
       "               ...\n",
       "               '2020-08-01 16:16:00', '2020-09-01 07:59:00',\n",
       "               '2020-09-01 16:49:00', '2020-10-01 04:01:00',\n",
       "               '2020-10-01 07:36:00', '2020-11-01 05:46:00',\n",
       "               '2020-11-01 21:33:00', '2020-12-01 00:02:00',\n",
       "               '2020-12-01 05:05:00', '2020-12-01 13:11:00'],\n",
       "              dtype='datetime64[ns]', name='reportts', length=1284, freq=None)"
      ]
     },
     "execution_count": 64,
     "metadata": {},
     "output_type": "execute_result"
    }
   ],
   "source": [
    "egtm_line = egtm[\n",
    "    (egtm['RECORDED_DT'].dt.year == 2019) & \n",
    "    (egtm['RECORDED_DT'].dt.month == 5)\n",
    "].index\n",
    "egtm.index"
   ]
  },
  {
   "cell_type": "code",
   "execution_count": null,
   "metadata": {},
   "outputs": [
    {
     "data": {
      "image/png": "[encoded data removed]",
      "text/plain": [
       "<Figure size 640x480 with 1 Axes>"
      ]
     },
     "metadata": {},
     "output_type": "display_data"
    }
   ],
   "source": [
    "acms_line = neo[\n",
    "    (pd.to_datetime(neo.index).year == 2019) & \n",
    "    (pd.to_datetime(neo.index).month == 5) & \n",
    "    (neo['reportname'] == 'A320 ENGINE TAKE OFF REPORT')\n",
    "].index\n",
    "\n",
    "egtm_line = egtm[\n",
    "    (egtm['RECORDED_DT'].dt.year == 2019) & \n",
    "    (egtm['RECORDED_DT'].dt.month == 5)\n",
    "].index\n",
    "\n",
    "fig, ax = plt.subplots()\n",
    "\n",
    "ax.scatter(acms_line, y=acms_line.map(lambda _ : 1), s=3)\n",
    "ax.scatter(egtm_line, y=egtm_line.map(lambda _: 2), s=3)\n",
    "ax.legend([\"ACMS reports\", \"EGTM reports\"])\n",
    "ax.set_ylim([0, 3])\n",
    "ax.set_title(\"Reports on May, 2019\")\n",
    "plt.show()"
   ]
  },
  {
   "cell_type": "code",
   "execution_count": null,
   "metadata": {},
   "outputs": [
    {
     "data": {
      "text/html": [
       "<div>\n",
       "<style scoped>\n",
       "    .dataframe tbody tr th:only-of-type {\n",
       "        vertical-align: middle;\n",
       "    }\n",
       "\n",
       "    .dataframe tbody tr th {\n",
       "        vertical-align: top;\n",
       "    }\n",
       "\n",
       "    .dataframe thead th {\n",
       "        text-align: right;\n",
       "    }\n",
       "</style>\n",
       "<table border=\"1\" class=\"dataframe\">\n",
       "  <thead>\n",
       "    <tr style=\"text-align: right;\">\n",
       "      <th></th>\n",
       "      <th>0</th>\n",
       "      <th>1</th>\n",
       "    </tr>\n",
       "  </thead>\n",
       "  <tbody>\n",
       "    <tr>\n",
       "      <th>0</th>\n",
       "      <td>2020-11-01 05:46:00</td>\n",
       "      <td>2020-11-01 08:21:03</td>\n",
       "    </tr>\n",
       "    <tr>\n",
       "      <th>1</th>\n",
       "      <td>2020-11-01 21:33:00</td>\n",
       "      <td>2020-11-01 14:29:02</td>\n",
       "    </tr>\n",
       "    <tr>\n",
       "      <th>2</th>\n",
       "      <td>NaT</td>\n",
       "      <td>2020-11-01 22:14:41</td>\n",
       "    </tr>\n",
       "    <tr>\n",
       "      <th>3</th>\n",
       "      <td>NaT</td>\n",
       "      <td>2020-11-02 02:24:15</td>\n",
       "    </tr>\n",
       "    <tr>\n",
       "      <th>4</th>\n",
       "      <td>NaT</td>\n",
       "      <td>2020-11-02 07:04:19</td>\n",
       "    </tr>\n",
       "    <tr>\n",
       "      <th>...</th>\n",
       "      <td>...</td>\n",
       "      <td>...</td>\n",
       "    </tr>\n",
       "    <tr>\n",
       "      <th>101</th>\n",
       "      <td>NaT</td>\n",
       "      <td>2020-11-29 16:01:54</td>\n",
       "    </tr>\n",
       "    <tr>\n",
       "      <th>102</th>\n",
       "      <td>NaT</td>\n",
       "      <td>2020-11-30 00:13:23</td>\n",
       "    </tr>\n",
       "    <tr>\n",
       "      <th>103</th>\n",
       "      <td>NaT</td>\n",
       "      <td>2020-11-30 10:54:14</td>\n",
       "    </tr>\n",
       "    <tr>\n",
       "      <th>104</th>\n",
       "      <td>NaT</td>\n",
       "      <td>2020-11-30 16:24:47</td>\n",
       "    </tr>\n",
       "    <tr>\n",
       "      <th>105</th>\n",
       "      <td>NaT</td>\n",
       "      <td>2020-11-30 23:19:03</td>\n",
       "    </tr>\n",
       "  </tbody>\n",
       "</table>\n",
       "<p>106 rows × 2 columns</p>\n",
       "</div>"
      ],
      "text/plain": [
       "                      0                   1\n",
       "0   2020-11-01 05:46:00 2020-11-01 08:21:03\n",
       "1   2020-11-01 21:33:00 2020-11-01 14:29:02\n",
       "2                   NaT 2020-11-01 22:14:41\n",
       "3                   NaT 2020-11-02 02:24:15\n",
       "4                   NaT 2020-11-02 07:04:19\n",
       "..                  ...                 ...\n",
       "101                 NaT 2020-11-29 16:01:54\n",
       "102                 NaT 2020-11-30 00:13:23\n",
       "103                 NaT 2020-11-30 10:54:14\n",
       "104                 NaT 2020-11-30 16:24:47\n",
       "105                 NaT 2020-11-30 23:19:03\n",
       "\n",
       "[106 rows x 2 columns]"
      ]
     },
     "execution_count": 67,
     "metadata": {},
     "output_type": "execute_result"
    }
   ],
   "source": [
    "pd.DataFrame([egtm_line, acms_line]).T"
   ]
  },
  {
   "attachments": {},
   "cell_type": "markdown",
   "metadata": {},
   "source": [
    "1. Строить по одной модели на каждый признак \n",
    "1. Более поздние на тест \n",
    "1. Модели: XGBoost, LinReg, RandomForest\n",
    "1. Составить таблицу с результатами\n",
    "1. Вначале взять только Takeoff\n",
    "1. Затем попробовать Cruise\n",
    "1. Метрика rmse \n",
    "1. Время не является признаком (только числовые фичи)\n",
    "1. Самый важный параметр - EGTMARGIN\n",
    "1. Проблемы автокореляции? "
   ]
  },
  {
   "cell_type": "markdown",
   "metadata": {},
   "source": [
    "Подготовить функции для построения графиков predict/target"
   ]
  },
  {
   "cell_type": "markdown",
   "metadata": {},
   "source": [
    "Заказчик Шманатов"
   ]
  }
 ],
 "metadata": {
  "kernelspec": {
   "display_name": "Python 3",
   "language": "python",
   "name": "python3"
  },
  "language_info": {
   "codemirror_mode": {
    "name": "ipython",
    "version": 3
   },
   "file_extension": ".py",
   "mimetype": "text/x-python",
   "name": "python",
   "nbconvert_exporter": "python",
   "pygments_lexer": "ipython3",
   "version": "3.11.5 (main, Sep  2 2023, 14:16:33) [GCC 13.2.1 20230801]"
  },
  "orig_nbformat": 4,
  "vscode": {
   "interpreter": {
    "hash": "e7370f93d1d0cde622a1f8e1c04877d8463912d04d973331ad4851f04de6915a"
   }
  }
 },
 "nbformat": 4,
 "nbformat_minor": 2
}
