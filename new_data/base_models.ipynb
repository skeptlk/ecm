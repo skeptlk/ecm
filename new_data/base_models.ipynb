{
 "cells": [
  {
   "cell_type": "markdown",
   "metadata": {},
   "source": [
    "## Prepare dataset"
   ]
  },
  {
   "cell_type": "code",
   "execution_count": 1,
   "metadata": {},
   "outputs": [],
   "source": [
    "!pip install lightgbm xgboost -q"
   ]
  },
  {
   "cell_type": "code",
   "execution_count": 2,
   "metadata": {},
   "outputs": [],
   "source": [
    "import pandas as pd\n",
    "import matplotlib.pyplot as plt \n",
    "\n",
    "dataset = pd.read_csv('./small-sample-BGU.csv', parse_dates=['reportts']) \\\n",
    "  .sort_values('reportts')"
   ]
  },
  {
   "cell_type": "code",
   "execution_count": 3,
   "metadata": {},
   "outputs": [
    {
     "data": {
      "text/html": [
       "<div>\n",
       "<style scoped>\n",
       "    .dataframe tbody tr th:only-of-type {\n",
       "        vertical-align: middle;\n",
       "    }\n",
       "\n",
       "    .dataframe tbody tr th {\n",
       "        vertical-align: top;\n",
       "    }\n",
       "\n",
       "    .dataframe thead th {\n",
       "        text-align: right;\n",
       "    }\n",
       "</style>\n",
       "<table border=\"1\" class=\"dataframe\">\n",
       "  <thead>\n",
       "    <tr style=\"text-align: right;\">\n",
       "      <th></th>\n",
       "      <th>egt</th>\n",
       "      <th>egtm</th>\n",
       "    </tr>\n",
       "  </thead>\n",
       "  <tbody>\n",
       "    <tr>\n",
       "      <th>0</th>\n",
       "      <td>800.1</td>\n",
       "      <td>44.437</td>\n",
       "    </tr>\n",
       "    <tr>\n",
       "      <th>1</th>\n",
       "      <td>851.4</td>\n",
       "      <td>44.379</td>\n",
       "    </tr>\n",
       "    <tr>\n",
       "      <th>2</th>\n",
       "      <td>851.6</td>\n",
       "      <td>43.742</td>\n",
       "    </tr>\n",
       "    <tr>\n",
       "      <th>3</th>\n",
       "      <td>826.3</td>\n",
       "      <td>46.443</td>\n",
       "    </tr>\n",
       "    <tr>\n",
       "      <th>4</th>\n",
       "      <td>789.5</td>\n",
       "      <td>47.660</td>\n",
       "    </tr>\n",
       "    <tr>\n",
       "      <th>5</th>\n",
       "      <td>872.6</td>\n",
       "      <td>45.172</td>\n",
       "    </tr>\n",
       "    <tr>\n",
       "      <th>6</th>\n",
       "      <td>751.1</td>\n",
       "      <td>45.507</td>\n",
       "    </tr>\n",
       "    <tr>\n",
       "      <th>7</th>\n",
       "      <td>849.0</td>\n",
       "      <td>46.462</td>\n",
       "    </tr>\n",
       "    <tr>\n",
       "      <th>8</th>\n",
       "      <td>794.5</td>\n",
       "      <td>45.329</td>\n",
       "    </tr>\n",
       "    <tr>\n",
       "      <th>9</th>\n",
       "      <td>869.0</td>\n",
       "      <td>46.366</td>\n",
       "    </tr>\n",
       "    <tr>\n",
       "      <th>10</th>\n",
       "      <td>784.6</td>\n",
       "      <td>46.412</td>\n",
       "    </tr>\n",
       "    <tr>\n",
       "      <th>11</th>\n",
       "      <td>835.9</td>\n",
       "      <td>45.586</td>\n",
       "    </tr>\n",
       "    <tr>\n",
       "      <th>12</th>\n",
       "      <td>800.0</td>\n",
       "      <td>44.898</td>\n",
       "    </tr>\n",
       "    <tr>\n",
       "      <th>13</th>\n",
       "      <td>804.6</td>\n",
       "      <td>45.402</td>\n",
       "    </tr>\n",
       "    <tr>\n",
       "      <th>14</th>\n",
       "      <td>853.4</td>\n",
       "      <td>45.382</td>\n",
       "    </tr>\n",
       "    <tr>\n",
       "      <th>15</th>\n",
       "      <td>852.1</td>\n",
       "      <td>44.126</td>\n",
       "    </tr>\n",
       "    <tr>\n",
       "      <th>16</th>\n",
       "      <td>841.4</td>\n",
       "      <td>45.901</td>\n",
       "    </tr>\n",
       "    <tr>\n",
       "      <th>17</th>\n",
       "      <td>858.4</td>\n",
       "      <td>45.489</td>\n",
       "    </tr>\n",
       "    <tr>\n",
       "      <th>18</th>\n",
       "      <td>863.8</td>\n",
       "      <td>45.837</td>\n",
       "    </tr>\n",
       "    <tr>\n",
       "      <th>19</th>\n",
       "      <td>863.0</td>\n",
       "      <td>44.764</td>\n",
       "    </tr>\n",
       "    <tr>\n",
       "      <th>20</th>\n",
       "      <td>782.7</td>\n",
       "      <td>45.034</td>\n",
       "    </tr>\n",
       "    <tr>\n",
       "      <th>21</th>\n",
       "      <td>768.3</td>\n",
       "      <td>38.853</td>\n",
       "    </tr>\n",
       "    <tr>\n",
       "      <th>22</th>\n",
       "      <td>840.1</td>\n",
       "      <td>38.701</td>\n",
       "    </tr>\n",
       "    <tr>\n",
       "      <th>23</th>\n",
       "      <td>805.7</td>\n",
       "      <td>38.508</td>\n",
       "    </tr>\n",
       "    <tr>\n",
       "      <th>24</th>\n",
       "      <td>737.4</td>\n",
       "      <td>38.711</td>\n",
       "    </tr>\n",
       "    <tr>\n",
       "      <th>25</th>\n",
       "      <td>778.3</td>\n",
       "      <td>38.825</td>\n",
       "    </tr>\n",
       "    <tr>\n",
       "      <th>26</th>\n",
       "      <td>816.5</td>\n",
       "      <td>38.580</td>\n",
       "    </tr>\n",
       "    <tr>\n",
       "      <th>27</th>\n",
       "      <td>765.6</td>\n",
       "      <td>38.821</td>\n",
       "    </tr>\n",
       "    <tr>\n",
       "      <th>28</th>\n",
       "      <td>817.0</td>\n",
       "      <td>38.727</td>\n",
       "    </tr>\n",
       "    <tr>\n",
       "      <th>29</th>\n",
       "      <td>814.7</td>\n",
       "      <td>38.893</td>\n",
       "    </tr>\n",
       "  </tbody>\n",
       "</table>\n",
       "</div>"
      ],
      "text/plain": [
       "      egt    egtm\n",
       "0   800.1  44.437\n",
       "1   851.4  44.379\n",
       "2   851.6  43.742\n",
       "3   826.3  46.443\n",
       "4   789.5  47.660\n",
       "5   872.6  45.172\n",
       "6   751.1  45.507\n",
       "7   849.0  46.462\n",
       "8   794.5  45.329\n",
       "9   869.0  46.366\n",
       "10  784.6  46.412\n",
       "11  835.9  45.586\n",
       "12  800.0  44.898\n",
       "13  804.6  45.402\n",
       "14  853.4  45.382\n",
       "15  852.1  44.126\n",
       "16  841.4  45.901\n",
       "17  858.4  45.489\n",
       "18  863.8  45.837\n",
       "19  863.0  44.764\n",
       "20  782.7  45.034\n",
       "21  768.3  38.853\n",
       "22  840.1  38.701\n",
       "23  805.7  38.508\n",
       "24  737.4  38.711\n",
       "25  778.3  38.825\n",
       "26  816.5  38.580\n",
       "27  765.6  38.821\n",
       "28  817.0  38.727\n",
       "29  814.7  38.893"
      ]
     },
     "execution_count": 3,
     "metadata": {},
     "output_type": "execute_result"
    }
   ],
   "source": [
    "dataset[dataset['pos'] == 1][['egt', 'egtm']].head(30)"
   ]
  },
  {
   "cell_type": "code",
   "execution_count": 4,
   "metadata": {},
   "outputs": [],
   "source": [
    "from sklearn.model_selection import train_test_split\n",
    "from sklearn.linear_model import LinearRegression\n",
    "from sklearn.metrics import mean_squared_error, mean_absolute_error\n",
    "from catboost import CatBoostRegressor\n",
    "from lightgbm import LGBMRegressor\n",
    "from xgboost import XGBRegressor\n",
    "from sklearn.ensemble import RandomForestRegressor\n",
    "from sklearn.preprocessing import StandardScaler"
   ]
  },
  {
   "cell_type": "code",
   "execution_count": 5,
   "metadata": {},
   "outputs": [],
   "source": [
    "Y = dataset[['egtm']]\n",
    "# , 'n1_delt', 'n2_delt'\n",
    "\n",
    "X = dataset.drop(columns=[\n",
    "    'reportts', 'acnum', 'pos', 'dep', 'arr', \n",
    "    'egtm', 'fltdes', 'reportts',\n",
    "    'dmusw', 'exswpn', 'reason'\n",
    "]).fillna(-100)\n",
    "\n",
    "X = X.loc[:, ~X.columns.str.contains('stw')]"
   ]
  },
  {
   "cell_type": "markdown",
   "metadata": {},
   "source": [
    "## Experiment with baselines"
   ]
  },
  {
   "cell_type": "code",
   "execution_count": 6,
   "metadata": {},
   "outputs": [],
   "source": [
    "def get_score_by_parameter(predict_field, alg='catboost', X=X, Y=Y):\n",
    "  y = Y[predict_field]\n",
    "\n",
    "  x = X[y.notna()]\n",
    "\n",
    "  y = y.dropna()\n",
    "  \n",
    "  X_train, X_test, y_train, y_test = train_test_split(x, y, test_size=0.33, random_state=111)\n",
    "  \n",
    "  # assert len(x) == len(y)\n",
    "  # train_i = int(len(x) * 60 / 100)\n",
    "  # X_train, y_train = x[0:train_i], y[0:train_i]\n",
    "  # X_test, y_test = x[train_i:], y[train_i:]\n",
    "\n",
    "  model = None\n",
    "  if alg == 'linreg':\n",
    "    model = LinearRegression(n_jobs=-1)\n",
    "  elif alg == 'catboost':\n",
    "    model = CatBoostRegressor(iterations=200, random_state=42, verbose=False)\n",
    "  elif alg == 'lightgbm':\n",
    "    model = LGBMRegressor(n_jobs=-1, random_state=42)\n",
    "  elif alg == 'xgboost':\n",
    "    model = XGBRegressor()\n",
    "  elif alg == 'rand_forest':\n",
    "    model = RandomForestRegressor(n_jobs=-1, n_estimators=100, random_state=42)\n",
    "  \n",
    "  scaler = StandardScaler()\n",
    "  scaler.fit(X_train)\n",
    "\n",
    "  X_train = scaler.transform(X_train)\n",
    "  X_test = scaler.transform(X_test)\n",
    "\n",
    "  model.fit(X_train, y_train)\n",
    "  predicted = model.predict(X_test)\n",
    "  preds = pd.DataFrame({'y': y_test, 'pred': predicted})\n",
    "  mse = mean_squared_error(y_test, predicted, squared=False)\n",
    "  mae = mean_absolute_error(y_test, predicted)\n",
    "  \n",
    "  return mse, mae, model, preds"
   ]
  },
  {
   "cell_type": "code",
   "execution_count": 7,
   "metadata": {},
   "outputs": [
    {
     "data": {
      "text/html": [
       "<div>\n",
       "<style scoped>\n",
       "    .dataframe tbody tr th:only-of-type {\n",
       "        vertical-align: middle;\n",
       "    }\n",
       "\n",
       "    .dataframe tbody tr th {\n",
       "        vertical-align: top;\n",
       "    }\n",
       "\n",
       "    .dataframe thead th {\n",
       "        text-align: right;\n",
       "    }\n",
       "</style>\n",
       "<table border=\"1\" class=\"dataframe\">\n",
       "  <thead>\n",
       "    <tr style=\"text-align: right;\">\n",
       "      <th></th>\n",
       "      <th>model</th>\n",
       "      <th>rmse</th>\n",
       "      <th>mae</th>\n",
       "    </tr>\n",
       "  </thead>\n",
       "  <tbody>\n",
       "    <tr>\n",
       "      <th>0</th>\n",
       "      <td>linreg</td>\n",
       "      <td>6.033328</td>\n",
       "      <td>1.706573</td>\n",
       "    </tr>\n",
       "    <tr>\n",
       "      <th>1</th>\n",
       "      <td>rand_forest</td>\n",
       "      <td>1.684131</td>\n",
       "      <td>0.628851</td>\n",
       "    </tr>\n",
       "    <tr>\n",
       "      <th>2</th>\n",
       "      <td>lightgbm</td>\n",
       "      <td>1.784574</td>\n",
       "      <td>0.710983</td>\n",
       "    </tr>\n",
       "    <tr>\n",
       "      <th>3</th>\n",
       "      <td>catboost</td>\n",
       "      <td>1.729721</td>\n",
       "      <td>0.797191</td>\n",
       "    </tr>\n",
       "    <tr>\n",
       "      <th>4</th>\n",
       "      <td>xgboost</td>\n",
       "      <td>1.743767</td>\n",
       "      <td>0.667167</td>\n",
       "    </tr>\n",
       "  </tbody>\n",
       "</table>\n",
       "</div>"
      ],
      "text/plain": [
       "         model      rmse       mae\n",
       "0       linreg  6.033328  1.706573\n",
       "1  rand_forest  1.684131  0.628851\n",
       "2     lightgbm  1.784574  0.710983\n",
       "3     catboost  1.729721  0.797191\n",
       "4      xgboost  1.743767  0.667167"
      ]
     },
     "execution_count": 7,
     "metadata": {},
     "output_type": "execute_result"
    }
   ],
   "source": [
    "scores = pd.DataFrame(columns=[\"model\", \"rmse\", \"mae\"])\n",
    "model_types = [\"linreg\", \"rand_forest\", \"lightgbm\", \"catboost\", \"xgboost\"]\n",
    "\n",
    "models = {}\n",
    "preds = {}\n",
    "output_parameters = Y.columns\n",
    "\n",
    "for model in model_types:\n",
    "  mse, mae, result_model, pred = get_score_by_parameter('egtm', model)\n",
    "  models[model] = result_model\n",
    "  preds[model] = pred\n",
    "  scores.loc[len(scores)] = [model, mse, mae]\n",
    "\n",
    "scores"
   ]
  },
  {
   "cell_type": "code",
   "execution_count": 8,
   "metadata": {},
   "outputs": [
    {
     "data": {
      "image/png": "[encoded data removed]",
      "text/plain": [
       "<Figure size 640x480 with 1 Axes>"
      ]
     },
     "metadata": {},
     "output_type": "display_data"
    }
   ],
   "source": [
    "fig, ax = plt.subplots(1, 1)\n",
    "ax.grid(zorder=0)\n",
    "ax.set_yscale('symlog')\n",
    "ax.bar(model_types, scores['rmse'], align='center', zorder=3)\n",
    "ax.bar_label(ax.containers[0], label_type='edge')\n",
    "ax.set_title('RMSE on Baseline models (For EGTM)')\n",
    "plt.show()"
   ]
  },
  {
   "cell_type": "code",
   "execution_count": 9,
   "metadata": {},
   "outputs": [
    {
     "data": {
      "text/html": [
       "<div>\n",
       "<style scoped>\n",
       "    .dataframe tbody tr th:only-of-type {\n",
       "        vertical-align: middle;\n",
       "    }\n",
       "\n",
       "    .dataframe tbody tr th {\n",
       "        vertical-align: top;\n",
       "    }\n",
       "\n",
       "    .dataframe thead th {\n",
       "        text-align: right;\n",
       "    }\n",
       "</style>\n",
       "<table border=\"1\" class=\"dataframe\">\n",
       "  <thead>\n",
       "    <tr style=\"text-align: right;\">\n",
       "      <th></th>\n",
       "      <th>y</th>\n",
       "      <th>pred</th>\n",
       "    </tr>\n",
       "  </thead>\n",
       "  <tbody>\n",
       "    <tr>\n",
       "      <th>422</th>\n",
       "      <td>21.374</td>\n",
       "      <td>19.893073</td>\n",
       "    </tr>\n",
       "    <tr>\n",
       "      <th>282</th>\n",
       "      <td>26.686</td>\n",
       "      <td>25.878587</td>\n",
       "    </tr>\n",
       "    <tr>\n",
       "      <th>732</th>\n",
       "      <td>28.357</td>\n",
       "      <td>26.154187</td>\n",
       "    </tr>\n",
       "    <tr>\n",
       "      <th>163</th>\n",
       "      <td>30.756</td>\n",
       "      <td>32.763433</td>\n",
       "    </tr>\n",
       "    <tr>\n",
       "      <th>451</th>\n",
       "      <td>21.292</td>\n",
       "      <td>20.120284</td>\n",
       "    </tr>\n",
       "    <tr>\n",
       "      <th>...</th>\n",
       "      <td>...</td>\n",
       "      <td>...</td>\n",
       "    </tr>\n",
       "    <tr>\n",
       "      <th>354</th>\n",
       "      <td>22.935</td>\n",
       "      <td>23.511418</td>\n",
       "    </tr>\n",
       "    <tr>\n",
       "      <th>397</th>\n",
       "      <td>26.502</td>\n",
       "      <td>26.258201</td>\n",
       "    </tr>\n",
       "    <tr>\n",
       "      <th>832</th>\n",
       "      <td>26.208</td>\n",
       "      <td>24.194236</td>\n",
       "    </tr>\n",
       "    <tr>\n",
       "      <th>502</th>\n",
       "      <td>21.144</td>\n",
       "      <td>21.274554</td>\n",
       "    </tr>\n",
       "    <tr>\n",
       "      <th>616</th>\n",
       "      <td>36.262</td>\n",
       "      <td>34.868473</td>\n",
       "    </tr>\n",
       "  </tbody>\n",
       "</table>\n",
       "<p>345 rows × 2 columns</p>\n",
       "</div>"
      ],
      "text/plain": [
       "          y       pred\n",
       "422  21.374  19.893073\n",
       "282  26.686  25.878587\n",
       "732  28.357  26.154187\n",
       "163  30.756  32.763433\n",
       "451  21.292  20.120284\n",
       "..      ...        ...\n",
       "354  22.935  23.511418\n",
       "397  26.502  26.258201\n",
       "832  26.208  24.194236\n",
       "502  21.144  21.274554\n",
       "616  36.262  34.868473\n",
       "\n",
       "[345 rows x 2 columns]"
      ]
     },
     "execution_count": 9,
     "metadata": {},
     "output_type": "execute_result"
    }
   ],
   "source": [
    "preds['linreg']"
   ]
  },
  {
   "attachments": {},
   "cell_type": "markdown",
   "metadata": {},
   "source": [
    "**TODO:**\n",
    "1. Добавить линейную регрессию \n",
    "1. Разделить расчёт метрик по двигателям и фазам полёта\n",
    "1. A321 - меньше допустимый запас egtm\n",
    "1. В идеале EGTM +/- 2 градуса\n",
    "1. Разделение по фазе полёта \n",
    "1. Построить корелляции каждого признака с таргетом\n",
    "1. В дальнейшем использовать это для feature selection"
   ]
  },
  {
   "cell_type": "markdown",
   "metadata": {},
   "source": [
    "## Feature importance"
   ]
  },
  {
   "cell_type": "code",
   "execution_count": 10,
   "metadata": {},
   "outputs": [
    {
     "data": {
      "text/plain": [
       "<Axes: title={'center': 'Catboost feature importance (top 50, log scale)'}, xlabel='param'>"
      ]
     },
     "execution_count": 10,
     "metadata": {},
     "output_type": "execute_result"
    },
    {
     "data": {
      "image/png": "[encoded data removed]",
      "text/plain": [
       "<Figure size 1400x300 with 1 Axes>"
      ]
     },
     "metadata": {},
     "output_type": "display_data"
    }
   ],
   "source": [
    "importance = pd.DataFrame({\n",
    "    'importance': models['catboost'].feature_importances_, \n",
    "    'param': X.columns\n",
    "}).sort_values(['importance', 'param'], ascending=False)    \n",
    "    \n",
    "importance.head(50) \\\n",
    "    .plot.bar(\n",
    "        log=True,\n",
    "        x='param',\n",
    "        figsize=(14, 3),\n",
    "        title=\"Catboost feature importance (top 50, log scale)\"\n",
    "    )"
   ]
  },
  {
   "cell_type": "code",
   "execution_count": 11,
   "metadata": {},
   "outputs": [
    {
     "data": {
      "text/plain": [
       "['naiup',\n",
       " 'ecyc',\n",
       " 'ehrs',\n",
       " 'oat_peak',\n",
       " 'odp',\n",
       " 'baf',\n",
       " 'fdp',\n",
       " 'joip',\n",
       " 't2',\n",
       " 'esn',\n",
       " 'tec',\n",
       " 'rfan',\n",
       " 't2_peak',\n",
       " 'ff',\n",
       " 'w14',\n",
       " 'n1c2_peak',\n",
       " 'gle',\n",
       " 'hpcbf',\n",
       " 'egt',\n",
       " 'egt_peak']"
      ]
     },
     "execution_count": 11,
     "metadata": {},
     "output_type": "execute_result"
    }
   ],
   "source": [
    "list(importance[:20]['param'])"
   ]
  },
  {
   "cell_type": "code",
   "execution_count": 12,
   "metadata": {},
   "outputs": [
    {
     "data": {
      "text/plain": [
       "<Axes: title={'center': 'feature importance (top 50, log scale)'}, xlabel='param'>"
      ]
     },
     "execution_count": 12,
     "metadata": {},
     "output_type": "execute_result"
    },
    {
     "data": {
      "image/png": "[encoded data removed]",
      "text/plain": [
       "<Figure size 1400x300 with 1 Axes>"
      ]
     },
     "metadata": {},
     "output_type": "display_data"
    }
   ],
   "source": [
    "forest_importance = pd.DataFrame({\n",
    "    'importance': models['xgboost'].feature_importances_, \n",
    "    'param': X.columns\n",
    "}).sort_values(['importance', 'param'], ascending=False)    \n",
    "    \n",
    "forest_importance.head(50) \\\n",
    "    .plot.bar(\n",
    "        log=True,\n",
    "        x='param',\n",
    "        figsize=(14, 3),\n",
    "        title=\"feature importance (top 50, log scale)\"\n",
    "    )"
   ]
  },
  {
   "cell_type": "code",
   "execution_count": 15,
   "metadata": {},
   "outputs": [
    {
     "data": {
      "text/plain": [
       "['naiup',\n",
       " 'nait',\n",
       " 'tec',\n",
       " 'aoc',\n",
       " 'ecyc',\n",
       " 'esn',\n",
       " 'ehrs',\n",
       " 'fdp',\n",
       " 'ps14',\n",
       " 'w14',\n",
       " 'egtb',\n",
       " 'odp',\n",
       " 'vb2',\n",
       " 'bbf',\n",
       " 'vorrc',\n",
       " 'baf',\n",
       " 't2_peak',\n",
       " 'acct',\n",
       " 't3',\n",
       " 'dph',\n",
       " 'pb',\n",
       " 'alt_peak',\n",
       " 'n1max',\n",
       " 'n1msa',\n",
       " 'oat_peak',\n",
       " 'shptp',\n",
       " 'egt',\n",
       " 'joip',\n",
       " 'oiq',\n",
       " 'egt_peak']"
      ]
     },
     "execution_count": 15,
     "metadata": {},
     "output_type": "execute_result"
    }
   ],
   "source": [
    "list(forest_importance[:30]['param'])"
   ]
  },
  {
   "cell_type": "markdown",
   "metadata": {},
   "source": [
    "**NOTE**: the most important features are `naiump, t1, t2, t3, ehrs, ecsys, fdp`"
   ]
  },
  {
   "cell_type": "code",
   "execution_count": 14,
   "metadata": {},
   "outputs": [
    {
     "data": {
      "text/html": [
       "<div>\n",
       "<style scoped>\n",
       "    .dataframe tbody tr th:only-of-type {\n",
       "        vertical-align: middle;\n",
       "    }\n",
       "\n",
       "    .dataframe tbody tr th {\n",
       "        vertical-align: top;\n",
       "    }\n",
       "\n",
       "    .dataframe thead th {\n",
       "        text-align: right;\n",
       "    }\n",
       "</style>\n",
       "<table border=\"1\" class=\"dataframe\">\n",
       "  <thead>\n",
       "    <tr style=\"text-align: right;\">\n",
       "      <th></th>\n",
       "      <th>model</th>\n",
       "      <th>rmse</th>\n",
       "      <th>mae</th>\n",
       "    </tr>\n",
       "  </thead>\n",
       "  <tbody>\n",
       "    <tr>\n",
       "      <th>0</th>\n",
       "      <td>linreg</td>\n",
       "      <td>2.665132</td>\n",
       "      <td>1.914349</td>\n",
       "    </tr>\n",
       "    <tr>\n",
       "      <th>1</th>\n",
       "      <td>rand_forest</td>\n",
       "      <td>1.565930</td>\n",
       "      <td>0.506330</td>\n",
       "    </tr>\n",
       "    <tr>\n",
       "      <th>2</th>\n",
       "      <td>lightgbm</td>\n",
       "      <td>1.746155</td>\n",
       "      <td>0.719006</td>\n",
       "    </tr>\n",
       "    <tr>\n",
       "      <th>3</th>\n",
       "      <td>catboost</td>\n",
       "      <td>1.650877</td>\n",
       "      <td>0.706521</td>\n",
       "    </tr>\n",
       "    <tr>\n",
       "      <th>4</th>\n",
       "      <td>xgboost</td>\n",
       "      <td>1.641296</td>\n",
       "      <td>0.529455</td>\n",
       "    </tr>\n",
       "  </tbody>\n",
       "</table>\n",
       "</div>"
      ],
      "text/plain": [
       "         model      rmse       mae\n",
       "0       linreg  2.665132  1.914349\n",
       "1  rand_forest  1.565930  0.506330\n",
       "2     lightgbm  1.746155  0.719006\n",
       "3     catboost  1.650877  0.706521\n",
       "4      xgboost  1.641296  0.529455"
      ]
     },
     "execution_count": 14,
     "metadata": {},
     "output_type": "execute_result"
    }
   ],
   "source": [
    "scores = pd.DataFrame(columns=[\"model\", \"rmse\", \"mae\"])\n",
    "model_types = [\"linreg\", \"rand_forest\", \"lightgbm\", \"catboost\", \"xgboost\"]\n",
    "\n",
    "models = {}\n",
    "preds = {}\n",
    "output_parameters = Y.columns\n",
    "\n",
    "for model in model_types:\n",
    "  mse, mae, result_model, pred = get_score_by_parameter('egtm', model, X[importance[:10]['param']], Y)\n",
    "  models[model] = result_model\n",
    "  preds[model] = pred\n",
    "  scores.loc[len(scores)] = [model, mse, mae]\n",
    "\n",
    "scores"
   ]
  }
 ],
 "metadata": {
  "kernelspec": {
   "display_name": "recsys",
   "language": "python",
   "name": "python3"
  },
  "language_info": {
   "codemirror_mode": {
    "name": "ipython",
    "version": 3
   },
   "file_extension": ".py",
   "mimetype": "text/x-python",
   "name": "python",
   "nbconvert_exporter": "python",
   "pygments_lexer": "ipython3",
   "version": "3.9.16 | packaged by conda-forge | (main, Feb  1 2023, 21:39:03) \n[GCC 11.3.0]"
  },
  "orig_nbformat": 4,
  "vscode": {
   "interpreter": {
    "hash": "8ff27b20a45684c9bdecad1b6a847c26994a0603bb60e53a026c6c4c0a29dbc5"
   }
  }
 },
 "nbformat": 4,
 "nbformat_minor": 2
}
