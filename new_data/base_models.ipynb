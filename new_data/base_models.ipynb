{
 "cells": [
  {
   "cell_type": "code",
   "execution_count": 20,
   "metadata": {},
   "outputs": [],
   "source": [
    "import pandas as pd\n",
    "\n",
    "dataset = pd.read_csv('./sample-VQ-BDQ-1-egtm.csv')"
   ]
  },
  {
   "cell_type": "code",
   "execution_count": 21,
   "metadata": {},
   "outputs": [],
   "source": [
    "from sklearn.model_selection import train_test_split\n",
    "from sklearn.metrics import mean_squared_error, mean_absolute_error, mean_squared_error\n",
    "from catboost import CatBoostRegressor"
   ]
  },
  {
   "cell_type": "code",
   "execution_count": 22,
   "metadata": {},
   "outputs": [],
   "source": [
    "Y = dataset[['egtm', 'n1_delt', 'n2_delt']]\n",
    "\n",
    "X = dataset.drop(columns=[\n",
    "    'reportts', 'acnum', 'pos', 'dep', 'arr', 'egtm',\n",
    "    'dmusw', 'exswpn', 'reason', 'recordedts'\n",
    "]).fillna(-100)\n",
    "\n",
    "X = X.loc[:, ~X.columns.str.contains('stw')]"
   ]
  },
  {
   "cell_type": "code",
   "execution_count": 23,
   "metadata": {},
   "outputs": [],
   "source": [
    "def get_score_by_parameter(predict_field):\n",
    "  y = Y[predict_field]\n",
    "\n",
    "  x = X[y.notna()]\n",
    "\n",
    "  y = y.dropna()\n",
    "  \n",
    "  X_train, X_test, y_train, y_test = train_test_split(x, y, test_size=0.33, random_state=42)\n",
    "  \n",
    "  model = CatBoostRegressor(iterations=200, verbose=False)\n",
    "  model.fit(X_train, y_train)\n",
    "  catboost_predicted = model.predict(X_test)\n",
    "  catboost_score = mean_squared_error(y_test, catboost_predicted, squared=False)\n",
    "  return catboost_score, model"
   ]
  },
  {
   "cell_type": "code",
   "execution_count": 24,
   "metadata": {},
   "outputs": [
    {
     "data": {
      "text/html": [
       "<div>\n",
       "<style scoped>\n",
       "    .dataframe tbody tr th:only-of-type {\n",
       "        vertical-align: middle;\n",
       "    }\n",
       "\n",
       "    .dataframe tbody tr th {\n",
       "        vertical-align: top;\n",
       "    }\n",
       "\n",
       "    .dataframe thead th {\n",
       "        text-align: right;\n",
       "    }\n",
       "</style>\n",
       "<table border=\"1\" class=\"dataframe\">\n",
       "  <thead>\n",
       "    <tr style=\"text-align: right;\">\n",
       "      <th></th>\n",
       "      <th>parameter</th>\n",
       "      <th>rmse</th>\n",
       "      <th>.0</th>\n",
       "      <th>.1</th>\n",
       "      <th>.5</th>\n",
       "      <th>.9</th>\n",
       "      <th>1</th>\n",
       "    </tr>\n",
       "  </thead>\n",
       "  <tbody>\n",
       "    <tr>\n",
       "      <th>0</th>\n",
       "      <td>egtm</td>\n",
       "      <td>0.887848</td>\n",
       "      <td>106.186000</td>\n",
       "      <td>106.917000</td>\n",
       "      <td>107.440000</td>\n",
       "      <td>114.441800</td>\n",
       "      <td>132.144000</td>\n",
       "    </tr>\n",
       "    <tr>\n",
       "      <th>1</th>\n",
       "      <td>n1_delt</td>\n",
       "      <td>0.004915</td>\n",
       "      <td>-0.160004</td>\n",
       "      <td>-0.110001</td>\n",
       "      <td>-0.079994</td>\n",
       "      <td>-0.040001</td>\n",
       "      <td>0.220001</td>\n",
       "    </tr>\n",
       "    <tr>\n",
       "      <th>2</th>\n",
       "      <td>n2_delt</td>\n",
       "      <td>0.005050</td>\n",
       "      <td>-0.330100</td>\n",
       "      <td>-0.267799</td>\n",
       "      <td>-0.199750</td>\n",
       "      <td>-0.113995</td>\n",
       "      <td>-0.067051</td>\n",
       "    </tr>\n",
       "  </tbody>\n",
       "</table>\n",
       "</div>"
      ],
      "text/plain": [
       "  parameter      rmse          .0          .1          .5          .9   \n",
       "0      egtm  0.887848  106.186000  106.917000  107.440000  114.441800  \\\n",
       "1   n1_delt  0.004915   -0.160004   -0.110001   -0.079994   -0.040001   \n",
       "2   n2_delt  0.005050   -0.330100   -0.267799   -0.199750   -0.113995   \n",
       "\n",
       "            1  \n",
       "0  132.144000  \n",
       "1    0.220001  \n",
       "2   -0.067051  "
      ]
     },
     "execution_count": 24,
     "metadata": {},
     "output_type": "execute_result"
    }
   ],
   "source": [
    "scores = pd.DataFrame(columns=[\"parameter\", \"rmse\", \".0\", \".1\", \".5\", \".9\", \"1\"])\n",
    "models = []\n",
    "output_parameters = Y.columns\n",
    "\n",
    "for param in output_parameters:\n",
    "  score, model = get_score_by_parameter(param)\n",
    "  models.append(model)\n",
    "  qua = Y[param].quantile([.0, .1, .5, .9, 1])\n",
    "  qua = list(qua)\n",
    "  scores.loc[len(scores)] = [param, score] + qua\n",
    "\n",
    "scores"
   ]
  },
  {
   "cell_type": "code",
   "execution_count": 25,
   "metadata": {},
   "outputs": [
    {
     "data": {
      "text/plain": [
       "<Axes: ylabel='Frequency'>"
      ]
     },
     "execution_count": 25,
     "metadata": {},
     "output_type": "execute_result"
    },
    {
     "data": {
      "image/png": "[encoded data removed]",
      "text/plain": [
       "<Figure size 640x480 with 1 Axes>"
      ]
     },
     "metadata": {},
     "output_type": "display_data"
    }
   ],
   "source": [
    "Y['egtm'].plot.hist(bins=30)"
   ]
  },
  {
   "cell_type": "code",
   "execution_count": 31,
   "metadata": {},
   "outputs": [
    {
     "data": {
      "text/html": [
       "<div>\n",
       "<style scoped>\n",
       "    .dataframe tbody tr th:only-of-type {\n",
       "        vertical-align: middle;\n",
       "    }\n",
       "\n",
       "    .dataframe tbody tr th {\n",
       "        vertical-align: top;\n",
       "    }\n",
       "\n",
       "    .dataframe thead th {\n",
       "        text-align: right;\n",
       "    }\n",
       "</style>\n",
       "<table border=\"1\" class=\"dataframe\">\n",
       "  <thead>\n",
       "    <tr style=\"text-align: right;\">\n",
       "      <th></th>\n",
       "      <th>n1_delt</th>\n",
       "      <th>pred</th>\n",
       "    </tr>\n",
       "  </thead>\n",
       "  <tbody>\n",
       "    <tr>\n",
       "      <th>100</th>\n",
       "      <td>-0.129997</td>\n",
       "      <td>-0.129570</td>\n",
       "    </tr>\n",
       "    <tr>\n",
       "      <th>101</th>\n",
       "      <td>-0.089996</td>\n",
       "      <td>-0.090004</td>\n",
       "    </tr>\n",
       "    <tr>\n",
       "      <th>102</th>\n",
       "      <td>-0.089996</td>\n",
       "      <td>-0.090568</td>\n",
       "    </tr>\n",
       "    <tr>\n",
       "      <th>103</th>\n",
       "      <td>-0.080002</td>\n",
       "      <td>-0.080008</td>\n",
       "    </tr>\n",
       "    <tr>\n",
       "      <th>104</th>\n",
       "      <td>-0.059998</td>\n",
       "      <td>-0.059865</td>\n",
       "    </tr>\n",
       "    <tr>\n",
       "      <th>...</th>\n",
       "      <td>...</td>\n",
       "      <td>...</td>\n",
       "    </tr>\n",
       "    <tr>\n",
       "      <th>195</th>\n",
       "      <td>-0.049995</td>\n",
       "      <td>-0.049517</td>\n",
       "    </tr>\n",
       "    <tr>\n",
       "      <th>196</th>\n",
       "      <td>-0.070000</td>\n",
       "      <td>-0.070890</td>\n",
       "    </tr>\n",
       "    <tr>\n",
       "      <th>197</th>\n",
       "      <td>-0.070000</td>\n",
       "      <td>-0.071744</td>\n",
       "    </tr>\n",
       "    <tr>\n",
       "      <th>198</th>\n",
       "      <td>-0.070000</td>\n",
       "      <td>-0.068738</td>\n",
       "    </tr>\n",
       "    <tr>\n",
       "      <th>199</th>\n",
       "      <td>-0.059998</td>\n",
       "      <td>-0.060042</td>\n",
       "    </tr>\n",
       "  </tbody>\n",
       "</table>\n",
       "<p>100 rows × 2 columns</p>\n",
       "</div>"
      ],
      "text/plain": [
       "      n1_delt      pred\n",
       "100 -0.129997 -0.129570\n",
       "101 -0.089996 -0.090004\n",
       "102 -0.089996 -0.090568\n",
       "103 -0.080002 -0.080008\n",
       "104 -0.059998 -0.059865\n",
       "..        ...       ...\n",
       "195 -0.049995 -0.049517\n",
       "196 -0.070000 -0.070890\n",
       "197 -0.070000 -0.071744\n",
       "198 -0.070000 -0.068738\n",
       "199 -0.059998 -0.060042\n",
       "\n",
       "[100 rows x 2 columns]"
      ]
     },
     "execution_count": 31,
     "metadata": {},
     "output_type": "execute_result"
    }
   ],
   "source": [
    "model = models[1]\n",
    "\n",
    "\n",
    "catboost_predicted = model.predict(X[100:200])\n",
    "\n",
    "\n",
    "pd.DataFrame({'n1_delt': Y['n1_delt'][100:200], 'pred': catboost_predicted})\n"
   ]
  },
  {
   "cell_type": "code",
   "execution_count": 28,
   "metadata": {},
   "outputs": [
    {
     "data": {
      "text/html": [
       "<div>\n",
       "<style scoped>\n",
       "    .dataframe tbody tr th:only-of-type {\n",
       "        vertical-align: middle;\n",
       "    }\n",
       "\n",
       "    .dataframe tbody tr th {\n",
       "        vertical-align: top;\n",
       "    }\n",
       "\n",
       "    .dataframe thead th {\n",
       "        text-align: right;\n",
       "    }\n",
       "</style>\n",
       "<table border=\"1\" class=\"dataframe\">\n",
       "  <thead>\n",
       "    <tr style=\"text-align: right;\">\n",
       "      <th></th>\n",
       "      <th>egtm</th>\n",
       "      <th>pred</th>\n",
       "    </tr>\n",
       "  </thead>\n",
       "  <tbody>\n",
       "    <tr>\n",
       "      <th>0</th>\n",
       "      <td>132.144</td>\n",
       "      <td>132.075903</td>\n",
       "    </tr>\n",
       "    <tr>\n",
       "      <th>1</th>\n",
       "      <td>132.144</td>\n",
       "      <td>132.001370</td>\n",
       "    </tr>\n",
       "    <tr>\n",
       "      <th>2</th>\n",
       "      <td>127.592</td>\n",
       "      <td>126.738438</td>\n",
       "    </tr>\n",
       "    <tr>\n",
       "      <th>3</th>\n",
       "      <td>128.712</td>\n",
       "      <td>128.765988</td>\n",
       "    </tr>\n",
       "    <tr>\n",
       "      <th>4</th>\n",
       "      <td>129.118</td>\n",
       "      <td>129.111883</td>\n",
       "    </tr>\n",
       "    <tr>\n",
       "      <th>...</th>\n",
       "      <td>...</td>\n",
       "      <td>...</td>\n",
       "    </tr>\n",
       "    <tr>\n",
       "      <th>700</th>\n",
       "      <td>106.968</td>\n",
       "      <td>107.399007</td>\n",
       "    </tr>\n",
       "    <tr>\n",
       "      <th>701</th>\n",
       "      <td>106.968</td>\n",
       "      <td>106.956418</td>\n",
       "    </tr>\n",
       "    <tr>\n",
       "      <th>702</th>\n",
       "      <td>106.968</td>\n",
       "      <td>106.922045</td>\n",
       "    </tr>\n",
       "    <tr>\n",
       "      <th>703</th>\n",
       "      <td>106.968</td>\n",
       "      <td>106.955484</td>\n",
       "    </tr>\n",
       "    <tr>\n",
       "      <th>704</th>\n",
       "      <td>106.968</td>\n",
       "      <td>106.986564</td>\n",
       "    </tr>\n",
       "  </tbody>\n",
       "</table>\n",
       "<p>705 rows × 2 columns</p>\n",
       "</div>"
      ],
      "text/plain": [
       "        egtm        pred\n",
       "0    132.144  132.075903\n",
       "1    132.144  132.001370\n",
       "2    127.592  126.738438\n",
       "3    128.712  128.765988\n",
       "4    129.118  129.111883\n",
       "..       ...         ...\n",
       "700  106.968  107.399007\n",
       "701  106.968  106.956418\n",
       "702  106.968  106.922045\n",
       "703  106.968  106.955484\n",
       "704  106.968  106.986564\n",
       "\n",
       "[705 rows x 2 columns]"
      ]
     },
     "execution_count": 28,
     "metadata": {},
     "output_type": "execute_result"
    }
   ],
   "source": [
    "model = models[0]\n",
    "\n",
    "\n",
    "catboost_predicted = model.predict(X)\n",
    "\n",
    "pd.DataFrame({'egtm': Y['egtm'], 'pred': catboost_predicted})"
   ]
  }
 ],
 "metadata": {
  "kernelspec": {
   "display_name": "Python 3",
   "language": "python",
   "name": "python3"
  },
  "language_info": {
   "codemirror_mode": {
    "name": "ipython",
    "version": 3
   },
   "file_extension": ".py",
   "mimetype": "text/x-python",
   "name": "python",
   "nbconvert_exporter": "python",
   "pygments_lexer": "ipython3",
   "version": "3.11.5 (main, Sep  2 2023, 14:16:33) [GCC 13.2.1 20230801]"
  },
  "orig_nbformat": 4,
  "vscode": {
   "interpreter": {
    "hash": "e7370f93d1d0cde622a1f8e1c04877d8463912d04d973331ad4851f04de6915a"
   }
  }
 },
 "nbformat": 4,
 "nbformat_minor": 2
}
