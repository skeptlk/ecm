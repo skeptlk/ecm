{
 "cells": [
  {
   "cell_type": "code",
   "execution_count": 17,
   "metadata": {},
   "outputs": [],
   "source": [
    "import pandas as pd"
   ]
  },
  {
   "cell_type": "markdown",
   "metadata": {},
   "source": [
    "### Pandas: merging by closest date example"
   ]
  },
  {
   "cell_type": "code",
   "execution_count": 18,
   "metadata": {},
   "outputs": [],
   "source": [
    "left = pd.DataFrame({\n",
    "    \"ID\": [1, 2, 3, 4, 5], \n",
    "    \"date\":[\n",
    "        \"06/22/2014\",\n",
    "        \"07/02/2014\",\n",
    "        \"01/01/2015\",\n",
    "        \"01/01/1991\",\n",
    "        \"08/02/1999\"\n",
    "    ]})\n",
    "\n",
    "right = pd.DataFrame({\n",
    "    \"ID\": [1, 2, 3, 4, 5, 6, 7], \n",
    "    \"date\":[\n",
    "        \"02/15/2015\",\n",
    "        \"06/30/2014\",\n",
    "        \"07/02/1999\",\n",
    "        \"10/05/1990\",\n",
    "        \"06/24/2014\",\n",
    "        \"12/12/2222\",\n",
    "        \"12/13/2222\"\n",
    "    ], \"value\": [333, 222, 444, 777, 42, 0, 0] \n",
    "})\n",
    "\n",
    "left['date']  = pd.to_datetime(left.date)\n",
    "right['date'] = pd.to_datetime(right.date)\n",
    "left.sort_values('date', inplace=True)\n",
    "right.sort_values('date', inplace=True)"
   ]
  },
  {
   "cell_type": "code",
   "execution_count": 19,
   "metadata": {},
   "outputs": [
    {
     "data": {
      "text/plain": [
       "(   ID       date\n",
       " 3   4 1991-01-01\n",
       " 4   5 1999-08-02\n",
       " 0   1 2014-06-22\n",
       " 1   2 2014-07-02\n",
       " 2   3 2015-01-01,\n",
       "    ID       date  value\n",
       " 3   4 1990-10-05    777\n",
       " 2   3 1999-07-02    444\n",
       " 4   5 2014-06-24     42\n",
       " 1   2 2014-06-30    222\n",
       " 0   1 2015-02-15    333\n",
       " 5   6 2222-12-12      0\n",
       " 6   7 2222-12-13      0)"
      ]
     },
     "execution_count": 19,
     "metadata": {},
     "output_type": "execute_result"
    }
   ],
   "source": [
    "left, right"
   ]
  },
  {
   "cell_type": "code",
   "execution_count": 20,
   "metadata": {},
   "outputs": [
    {
     "data": {
      "text/html": [
       "<div>\n",
       "<style scoped>\n",
       "    .dataframe tbody tr th:only-of-type {\n",
       "        vertical-align: middle;\n",
       "    }\n",
       "\n",
       "    .dataframe tbody tr th {\n",
       "        vertical-align: top;\n",
       "    }\n",
       "\n",
       "    .dataframe thead th {\n",
       "        text-align: right;\n",
       "    }\n",
       "</style>\n",
       "<table border=\"1\" class=\"dataframe\">\n",
       "  <thead>\n",
       "    <tr style=\"text-align: right;\">\n",
       "      <th></th>\n",
       "      <th>ID_a</th>\n",
       "      <th>date</th>\n",
       "      <th>ID_b</th>\n",
       "      <th>value</th>\n",
       "    </tr>\n",
       "  </thead>\n",
       "  <tbody>\n",
       "    <tr>\n",
       "      <th>0</th>\n",
       "      <td>4</td>\n",
       "      <td>1991-01-01</td>\n",
       "      <td>4</td>\n",
       "      <td>777</td>\n",
       "    </tr>\n",
       "    <tr>\n",
       "      <th>1</th>\n",
       "      <td>5</td>\n",
       "      <td>1999-08-02</td>\n",
       "      <td>3</td>\n",
       "      <td>444</td>\n",
       "    </tr>\n",
       "    <tr>\n",
       "      <th>2</th>\n",
       "      <td>1</td>\n",
       "      <td>2014-06-22</td>\n",
       "      <td>5</td>\n",
       "      <td>42</td>\n",
       "    </tr>\n",
       "    <tr>\n",
       "      <th>3</th>\n",
       "      <td>2</td>\n",
       "      <td>2014-07-02</td>\n",
       "      <td>2</td>\n",
       "      <td>222</td>\n",
       "    </tr>\n",
       "    <tr>\n",
       "      <th>4</th>\n",
       "      <td>3</td>\n",
       "      <td>2015-01-01</td>\n",
       "      <td>1</td>\n",
       "      <td>333</td>\n",
       "    </tr>\n",
       "  </tbody>\n",
       "</table>\n",
       "</div>"
      ],
      "text/plain": [
       "   ID_a       date  ID_b  value\n",
       "0     4 1991-01-01     4    777\n",
       "1     5 1999-08-02     3    444\n",
       "2     1 2014-06-22     5     42\n",
       "3     2 2014-07-02     2    222\n",
       "4     3 2015-01-01     1    333"
      ]
     },
     "execution_count": 20,
     "metadata": {},
     "output_type": "execute_result"
    }
   ],
   "source": [
    "right1 = right.set_index('date').reindex(left.set_index('date').index, method='nearest').reset_index()\n",
    "\n",
    "pd.merge(left, right1, on='date', suffixes=('_a', '_b'))"
   ]
  },
  {
   "cell_type": "markdown",
   "metadata": {},
   "source": [
    "### Merging Engine data by closest time"
   ]
  },
  {
   "cell_type": "code",
   "execution_count": 21,
   "metadata": {},
   "outputs": [],
   "source": [
    "egtm = pd.read_csv('./EGTM.csv', parse_dates=['RECORDED_DT'])"
   ]
  },
  {
   "cell_type": "code",
   "execution_count": 22,
   "metadata": {},
   "outputs": [],
   "source": [
    "egtm_cols = egtm.columns[:5]\n",
    "egtm = egtm[egtm_cols]\n",
    "egtm = egtm[egtm['AIRCRAFT'] == 'VQ-BDQ']\n",
    "egtm = egtm[egtm['POSITION'] == 1]\n",
    "egtm['reportts'] = pd.to_datetime(egtm['RECORDED_DT'], format='mixed')\n",
    "egtm['egtm_reportts'] = egtm['reportts']"
   ]
  },
  {
   "cell_type": "code",
   "execution_count": 23,
   "metadata": {},
   "outputs": [
    {
     "name": "stderr",
     "output_type": "stream",
     "text": [
      "/tmp/ipykernel_46524/3501257036.py:1: DtypeWarning: Columns (152,154,172,173,176,177,178) have mixed types. Specify dtype option on import or set low_memory=False.\n",
      "  neo = pd.read_csv(\n"
     ]
    }
   ],
   "source": [
    "neo = pd.read_csv(\n",
    "    './a320_a321_neo_full_acms_parameters.csv', \n",
    "    parse_dates=['reportts', 'processedts'], \n",
    ")\n",
    "neo = neo[neo['acnum'] == 'VQ-BDQ']\n",
    "neo = neo[neo['pos'] == 1]"
   ]
  },
  {
   "cell_type": "markdown",
   "metadata": {},
   "source": [
    "ACMS = Aircraft Condition Monitoring System"
   ]
  },
  {
   "cell_type": "code",
   "execution_count": 24,
   "metadata": {},
   "outputs": [
    {
     "data": {
      "text/html": [
       "<div>\n",
       "<style scoped>\n",
       "    .dataframe tbody tr th:only-of-type {\n",
       "        vertical-align: middle;\n",
       "    }\n",
       "\n",
       "    .dataframe tbody tr th {\n",
       "        vertical-align: top;\n",
       "    }\n",
       "\n",
       "    .dataframe thead th {\n",
       "        text-align: right;\n",
       "    }\n",
       "</style>\n",
       "<table border=\"1\" class=\"dataframe\">\n",
       "  <thead>\n",
       "    <tr style=\"text-align: right;\">\n",
       "      <th></th>\n",
       "      <th>acnum</th>\n",
       "      <th>reportname</th>\n",
       "      <th>reportts</th>\n",
       "      <th>file_path</th>\n",
       "      <th>pos</th>\n",
       "      <th>fltdes</th>\n",
       "      <th>dep</th>\n",
       "      <th>arr</th>\n",
       "      <th>pf</th>\n",
       "      <th>wai</th>\n",
       "      <th>...</th>\n",
       "      <th>tr</th>\n",
       "      <th>ttp</th>\n",
       "      <th>vb1</th>\n",
       "      <th>vb2</th>\n",
       "      <th>vorrc</th>\n",
       "      <th>vorv</th>\n",
       "      <th>votm</th>\n",
       "      <th>vsva</th>\n",
       "      <th>w14</th>\n",
       "      <th>processedts</th>\n",
       "    </tr>\n",
       "  </thead>\n",
       "  <tbody>\n",
       "    <tr>\n",
       "      <th>0</th>\n",
       "      <td>VQ-BDQ</td>\n",
       "      <td>A320 ENG GAS PATH ADVISORY REPORT</td>\n",
       "      <td>2018-05-17 09:29:45</td>\n",
       "      <td>ecm/S7_NEO_320/VQ-BDQ/VQ-BDQ18052018135429R/_V...</td>\n",
       "      <td>1</td>\n",
       "      <td>9993</td>\n",
       "      <td>LFBO</td>\n",
       "      <td>UUDD</td>\n",
       "      <td>0.09</td>\n",
       "      <td>0.0</td>\n",
       "      <td>...</td>\n",
       "      <td>NaN</td>\n",
       "      <td>0.0</td>\n",
       "      <td>0.0</td>\n",
       "      <td>0.1</td>\n",
       "      <td>83.9</td>\n",
       "      <td>NaN</td>\n",
       "      <td>27.1</td>\n",
       "      <td>0.099</td>\n",
       "      <td>242.0</td>\n",
       "      <td>2023-09-25 10:17:19.928</td>\n",
       "    </tr>\n",
       "    <tr>\n",
       "      <th>2</th>\n",
       "      <td>VQ-BDQ</td>\n",
       "      <td>A320 ENG GAS PATH ADVISORY REPORT</td>\n",
       "      <td>2018-05-17 09:31:48</td>\n",
       "      <td>ecm/S7_NEO_320/VQ-BDQ/VQ-BDQ18052018135429R/_V...</td>\n",
       "      <td>1</td>\n",
       "      <td>9993</td>\n",
       "      <td>LFBO</td>\n",
       "      <td>UUDD</td>\n",
       "      <td>0.54</td>\n",
       "      <td>0.0</td>\n",
       "      <td>...</td>\n",
       "      <td>NaN</td>\n",
       "      <td>0.0</td>\n",
       "      <td>0.0</td>\n",
       "      <td>0.1</td>\n",
       "      <td>79.2</td>\n",
       "      <td>NaN</td>\n",
       "      <td>27.5</td>\n",
       "      <td>0.114</td>\n",
       "      <td>244.0</td>\n",
       "      <td>2023-09-25 10:17:20.128</td>\n",
       "    </tr>\n",
       "    <tr>\n",
       "      <th>4</th>\n",
       "      <td>VQ-BDQ</td>\n",
       "      <td>A320 ENGINE CRUISE REPORT</td>\n",
       "      <td>2018-05-17 12:42:09</td>\n",
       "      <td>ecm/S7_NEO_320/VQ-BDQ/VQ-BDQ18052018135429R/_V...</td>\n",
       "      <td>1</td>\n",
       "      <td>9993</td>\n",
       "      <td>LFBO</td>\n",
       "      <td>UUDD</td>\n",
       "      <td>0.48</td>\n",
       "      <td>0.0</td>\n",
       "      <td>...</td>\n",
       "      <td>NaN</td>\n",
       "      <td>NaN</td>\n",
       "      <td>NaN</td>\n",
       "      <td>NaN</td>\n",
       "      <td>39.1</td>\n",
       "      <td>39.1</td>\n",
       "      <td>NaN</td>\n",
       "      <td>0.765</td>\n",
       "      <td>562.0</td>\n",
       "      <td>2023-09-25 10:17:19.614</td>\n",
       "    </tr>\n",
       "    <tr>\n",
       "      <th>6</th>\n",
       "      <td>VQ-BDQ</td>\n",
       "      <td>A320 EEC MAINTENANCE REPORT</td>\n",
       "      <td>2018-05-17 13:41:56</td>\n",
       "      <td>ecm/S7_NEO_320/VQ-BDQ/VQ-BDQ18052018135452R/_V...</td>\n",
       "      <td>1</td>\n",
       "      <td>9993</td>\n",
       "      <td>LFBO</td>\n",
       "      <td>UUDD</td>\n",
       "      <td>0.48</td>\n",
       "      <td>0.0</td>\n",
       "      <td>...</td>\n",
       "      <td>0.0</td>\n",
       "      <td>NaN</td>\n",
       "      <td>NaN</td>\n",
       "      <td>NaN</td>\n",
       "      <td>NaN</td>\n",
       "      <td>NaN</td>\n",
       "      <td>24.5</td>\n",
       "      <td>0.275</td>\n",
       "      <td>NaN</td>\n",
       "      <td>2023-09-25 10:17:20.409</td>\n",
       "    </tr>\n",
       "    <tr>\n",
       "      <th>8</th>\n",
       "      <td>VQ-BDQ</td>\n",
       "      <td>A320 EEC MAINTENANCE REPORT</td>\n",
       "      <td>2018-05-17 13:42:10</td>\n",
       "      <td>ecm/S7_NEO_320/VQ-BDQ/VQ-BDQ18052018135452R/_V...</td>\n",
       "      <td>1</td>\n",
       "      <td>9993</td>\n",
       "      <td>LFBO</td>\n",
       "      <td>UUDD</td>\n",
       "      <td>0.48</td>\n",
       "      <td>0.0</td>\n",
       "      <td>...</td>\n",
       "      <td>0.0</td>\n",
       "      <td>NaN</td>\n",
       "      <td>NaN</td>\n",
       "      <td>NaN</td>\n",
       "      <td>NaN</td>\n",
       "      <td>NaN</td>\n",
       "      <td>25.2</td>\n",
       "      <td>0.596</td>\n",
       "      <td>NaN</td>\n",
       "      <td>2023-09-25 10:17:20.544</td>\n",
       "    </tr>\n",
       "  </tbody>\n",
       "</table>\n",
       "<p>5 rows × 209 columns</p>\n",
       "</div>"
      ],
      "text/plain": [
       "    acnum                         reportname            reportts   \n",
       "0  VQ-BDQ  A320 ENG GAS PATH ADVISORY REPORT 2018-05-17 09:29:45  \\\n",
       "2  VQ-BDQ  A320 ENG GAS PATH ADVISORY REPORT 2018-05-17 09:31:48   \n",
       "4  VQ-BDQ          A320 ENGINE CRUISE REPORT 2018-05-17 12:42:09   \n",
       "6  VQ-BDQ        A320 EEC MAINTENANCE REPORT 2018-05-17 13:41:56   \n",
       "8  VQ-BDQ        A320 EEC MAINTENANCE REPORT 2018-05-17 13:42:10   \n",
       "\n",
       "                                           file_path  pos  fltdes   dep   arr   \n",
       "0  ecm/S7_NEO_320/VQ-BDQ/VQ-BDQ18052018135429R/_V...    1    9993  LFBO  UUDD  \\\n",
       "2  ecm/S7_NEO_320/VQ-BDQ/VQ-BDQ18052018135429R/_V...    1    9993  LFBO  UUDD   \n",
       "4  ecm/S7_NEO_320/VQ-BDQ/VQ-BDQ18052018135429R/_V...    1    9993  LFBO  UUDD   \n",
       "6  ecm/S7_NEO_320/VQ-BDQ/VQ-BDQ18052018135452R/_V...    1    9993  LFBO  UUDD   \n",
       "8  ecm/S7_NEO_320/VQ-BDQ/VQ-BDQ18052018135452R/_V...    1    9993  LFBO  UUDD   \n",
       "\n",
       "     pf  wai  ...   tr  ttp  vb1  vb2  vorrc  vorv  votm   vsva    w14   \n",
       "0  0.09  0.0  ...  NaN  0.0  0.0  0.1   83.9   NaN  27.1  0.099  242.0  \\\n",
       "2  0.54  0.0  ...  NaN  0.0  0.0  0.1   79.2   NaN  27.5  0.114  244.0   \n",
       "4  0.48  0.0  ...  NaN  NaN  NaN  NaN   39.1  39.1   NaN  0.765  562.0   \n",
       "6  0.48  0.0  ...  0.0  NaN  NaN  NaN    NaN   NaN  24.5  0.275    NaN   \n",
       "8  0.48  0.0  ...  0.0  NaN  NaN  NaN    NaN   NaN  25.2  0.596    NaN   \n",
       "\n",
       "              processedts  \n",
       "0 2023-09-25 10:17:19.928  \n",
       "2 2023-09-25 10:17:20.128  \n",
       "4 2023-09-25 10:17:19.614  \n",
       "6 2023-09-25 10:17:20.409  \n",
       "8 2023-09-25 10:17:20.544  \n",
       "\n",
       "[5 rows x 209 columns]"
      ]
     },
     "execution_count": 24,
     "metadata": {},
     "output_type": "execute_result"
    }
   ],
   "source": [
    "neo.head()"
   ]
  },
  {
   "cell_type": "markdown",
   "metadata": {},
   "source": [
    "#### Data frequency by time:"
   ]
  },
  {
   "cell_type": "code",
   "execution_count": 31,
   "metadata": {},
   "outputs": [
    {
     "data": {
      "image/png": "[encoded data removed]",
      "text/plain": [
       "<Figure size 640x480 with 2 Axes>"
      ]
     },
     "metadata": {},
     "output_type": "display_data"
    }
   ],
   "source": [
    "import matplotlib.pyplot as plt\n",
    "import matplotlib.dates as mdates\n",
    "import seaborn as sns\n",
    "\n",
    "neo_report_timepoints = neo[neo['reportts'].dt.year < 2023 ]['reportts']\n",
    "neo_report_timepoints = mdates.date2num(neo_report_timepoints)\n",
    "\n",
    "plt.rc('xtick', labelsize=6)\n",
    "plt.rc('ytick', labelsize=8)\n",
    "\n",
    "fig, ax = plt.subplots()\n",
    "\n",
    "ax2 = ax.twinx()\n",
    "\n",
    "egtm_report_timepoints = egtm[egtm['reportts'].dt.year < 2023]['reportts']\n",
    "egtm_report_timepoints = mdates.date2num(egtm_report_timepoints)\n",
    "\n",
    "ax.hist([neo_report_timepoints, egtm_report_timepoints], bins=40, color=('lightblue', 'orchid'))\n",
    "ax.xaxis.set_major_locator(mdates.YearLocator())\n",
    "ax.xaxis.set_major_formatter(mdates.DateFormatter('%d.%m.%Y'))\n",
    "\n",
    "sns.kdeplot(neo_report_timepoints, ax=ax2);\n",
    "plt.title(\"Number of records\")\n",
    "\n",
    "ax.legend(['ACMS records', 'EGTM records'])\n",
    "\n",
    "plt.show()\n",
    "\n"
   ]
  },
  {
   "cell_type": "markdown",
   "metadata": {},
   "source": [
    "#### Merging with EGTM table by closest recorded date (using indexes)"
   ]
  },
  {
   "cell_type": "code",
   "execution_count": null,
   "metadata": {},
   "outputs": [],
   "source": [
    "neo.sort_values('reportts', inplace=True)\n",
    "egtm.sort_values('reportts', inplace=True)\n",
    "\n",
    "neo = neo.set_index('reportts')\n",
    "egtm = egtm.set_index('reportts')"
   ]
  },
  {
   "cell_type": "code",
   "execution_count": null,
   "metadata": {},
   "outputs": [],
   "source": [
    "egtm1 = egtm.reindex(neo.index, method='nearest').reset_index()"
   ]
  },
  {
   "cell_type": "code",
   "execution_count": null,
   "metadata": {},
   "outputs": [
    {
     "data": {
      "text/plain": [
       "reportts         20997\n",
       "acnum            20997\n",
       "reportname       20997\n",
       "file_path        20997\n",
       "pos              20997\n",
       "                 ...  \n",
       "POSITION         20997\n",
       "ESN              20997\n",
       "RECORDED_DT      20997\n",
       "RWCTOMAR         20997\n",
       "egtm_reportts    20997\n",
       "Length: 215, dtype: int64"
      ]
     },
     "execution_count": 14,
     "metadata": {},
     "output_type": "execute_result"
    }
   ],
   "source": [
    "merged = pd.merge(neo, egtm1, on='reportts')\n",
    "merged.count()"
   ]
  },
  {
   "cell_type": "code",
   "execution_count": null,
   "metadata": {},
   "outputs": [],
   "source": [
    "merged['diff'] = (merged['reportts'] - merged['egtm_reportts']) \\\n",
    "  .astype('timedelta64[h]')"
   ]
  },
  {
   "cell_type": "code",
   "execution_count": null,
   "metadata": {},
   "outputs": [
    {
     "data": {
      "text/plain": [
       "<Axes: title={'center': 'Time diff in hours'}, ylabel='Frequency'>"
      ]
     },
     "execution_count": 16,
     "metadata": {},
     "output_type": "execute_result"
    },
    {
     "data": {
      "image/png": "[encoded data removed]",
      "text/plain": [
       "<Figure size 640x480 with 1 Axes>"
      ]
     },
     "metadata": {},
     "output_type": "display_data"
    }
   ],
   "source": [
    "merged['diff'].plot.hist(bins=100, title='Time diff in hours')"
   ]
  },
  {
   "cell_type": "code",
   "execution_count": null,
   "metadata": {},
   "outputs": [
    {
     "data": {
      "text/plain": [
       "<Axes: title={'center': 'Time diff in hours'}, ylabel='Frequency'>"
      ]
     },
     "execution_count": 17,
     "metadata": {},
     "output_type": "execute_result"
    },
    {
     "data": {
      "image/png": "[encoded data removed]",
      "text/plain": [
       "<Figure size 640x480 with 1 Axes>"
      ]
     },
     "metadata": {},
     "output_type": "display_data"
    }
   ],
   "source": [
    "merged_filtered = merged[merged['diff'] <= 10_000]\n",
    "merged_filtered['diff'].plot.hist(bins=100, title='Time diff in hours')"
   ]
  },
  {
   "cell_type": "code",
   "execution_count": null,
   "metadata": {},
   "outputs": [
    {
     "data": {
      "text/plain": [
       "20956"
      ]
     },
     "execution_count": 18,
     "metadata": {},
     "output_type": "execute_result"
    }
   ],
   "source": [
    "merged_filtered['diff'].count()"
   ]
  },
  {
   "cell_type": "code",
   "execution_count": null,
   "metadata": {},
   "outputs": [
    {
     "data": {
      "text/plain": [
       "<Axes: title={'center': 'Time diff in hours'}, ylabel='Frequency'>"
      ]
     },
     "execution_count": 19,
     "metadata": {},
     "output_type": "execute_result"
    },
    {
     "data": {
      "image/png": "[encoded data removed]",
      "text/plain": [
       "<Figure size 640x480 with 1 Axes>"
      ]
     },
     "metadata": {},
     "output_type": "display_data"
    }
   ],
   "source": [
    "merged_filtered = merged[merged['diff'] <= 400]\n",
    "merged_filtered['diff'].plot.hist(bins=100, title='Time diff in hours')"
   ]
  },
  {
   "cell_type": "markdown",
   "metadata": {},
   "source": [
    "Вывод: Половине записей в таблице neo соответствует запись в egtm в окне +/- 400 часов"
   ]
  },
  {
   "cell_type": "code",
   "execution_count": null,
   "metadata": {},
   "outputs": [
    {
     "data": {
      "text/plain": [
       "9432"
      ]
     },
     "execution_count": 20,
     "metadata": {},
     "output_type": "execute_result"
    }
   ],
   "source": [
    "merged_filtered['diff'].count()"
   ]
  },
  {
   "cell_type": "markdown",
   "metadata": {},
   "source": [
    "### Эксперименты с частотой TAKEOFF"
   ]
  },
  {
   "cell_type": "markdown",
   "metadata": {},
   "source": [
    "**TODO:**\n",
    "\n",
    "1. Построить таблицу в рамках одного дня и построить количество данных слева и справа \n",
    "2. Отдельно для report name == TAKEOFF \n",
    "3. Сравнить частоту записей в рамках одного дня"
   ]
  },
  {
   "cell_type": "code",
   "execution_count": null,
   "metadata": {},
   "outputs": [
    {
     "data": {
      "text/plain": [
       "DatetimeIndex(['2018-01-06 22:12:00', '2018-01-07 08:26:00',\n",
       "               '2018-01-07 13:56:00', '2018-01-07 19:40:00',\n",
       "               '2018-01-08 03:01:00', '2018-01-08 08:41:00',\n",
       "               '2018-01-08 14:11:00', '2018-01-08 19:45:00',\n",
       "               '2018-01-09 05:11:00', '2018-01-09 10:39:00',\n",
       "               ...\n",
       "               '2020-08-01 16:16:00', '2020-09-01 07:59:00',\n",
       "               '2020-09-01 16:49:00', '2020-10-01 04:01:00',\n",
       "               '2020-10-01 07:36:00', '2020-11-01 05:46:00',\n",
       "               '2020-11-01 21:33:00', '2020-12-01 00:02:00',\n",
       "               '2020-12-01 05:05:00', '2020-12-01 13:11:00'],\n",
       "              dtype='datetime64[ns]', name='reportts', length=1284, freq=None)"
      ]
     },
     "execution_count": 21,
     "metadata": {},
     "output_type": "execute_result"
    }
   ],
   "source": [
    "egtm_line = egtm[\n",
    "    (egtm['RECORDED_DT'].dt.year == 2019) & \n",
    "    (egtm['RECORDED_DT'].dt.month == 5)\n",
    "].index\n",
    "egtm.index"
   ]
  },
  {
   "cell_type": "code",
   "execution_count": null,
   "metadata": {},
   "outputs": [
    {
     "data": {
      "image/png": "[encoded data removed]",
      "text/plain": [
       "<Figure size 640x480 with 1 Axes>"
      ]
     },
     "metadata": {},
     "output_type": "display_data"
    }
   ],
   "source": [
    "acms_line = neo[\n",
    "    (pd.to_datetime(neo.index).year == 2019) & \n",
    "    (pd.to_datetime(neo.index).month == 5) & \n",
    "    (neo['reportname'] == 'A320 ENGINE TAKE OFF REPORT')\n",
    "].index\n",
    "\n",
    "egtm_line = egtm[\n",
    "    (egtm['RECORDED_DT'].dt.year == 2019) & \n",
    "    (egtm['RECORDED_DT'].dt.month == 5)\n",
    "].index\n",
    "\n",
    "fig, ax = plt.subplots()\n",
    "\n",
    "ax.scatter(acms_line, y=acms_line.map(lambda _ : 1), s=3)\n",
    "ax.scatter(egtm_line, y=egtm_line.map(lambda _: 2), s=3)\n",
    "ax.legend([\"ACMS reports\", \"EGTM reports\"])\n",
    "ax.set_ylim([0, 3])\n",
    "ax.set_title(\"Reports on May, 2019\")\n",
    "plt.show()"
   ]
  },
  {
   "cell_type": "code",
   "execution_count": null,
   "metadata": {},
   "outputs": [
    {
     "data": {
      "image/png": "[encoded data removed]",
      "text/plain": [
       "<Figure size 640x480 with 1 Axes>"
      ]
     },
     "metadata": {},
     "output_type": "display_data"
    }
   ],
   "source": [
    "acms_line = neo[\n",
    "    (pd.to_datetime(neo.index).year == 2019) & \n",
    "    (pd.to_datetime(neo.index).month == 5) & \n",
    "    (pd.to_datetime(neo.index).day >= 13) & \n",
    "    (pd.to_datetime(neo.index).day <= 17) & \n",
    "    (neo['reportname'] == 'A320 ENGINE TAKE OFF REPORT')\n",
    "].index\n",
    "\n",
    "egtm_line = egtm[\n",
    "    (egtm['RECORDED_DT'].dt.year == 2019) & \n",
    "    (egtm['RECORDED_DT'].dt.month == 5) &\n",
    "    (egtm['RECORDED_DT'].dt.day >= 13) & \n",
    "    (egtm['RECORDED_DT'].dt.day <= 17)\n",
    "].index\n",
    "\n",
    "fig, ax = plt.subplots()\n",
    "\n",
    "ax.scatter(acms_line, y=acms_line.map(lambda _ : 1), s=15)\n",
    "ax.scatter(egtm_line, y=egtm_line.map(lambda _: 2), s=15)\n",
    "ax.legend([\"ACMS reports\", \"EGTM reports\"])\n",
    "ax.set_ylim([0, 3])\n",
    "ax.set_title(\"Reports from May 13, 2019 to May 17, 2019\")\n",
    "ax.grid()\n",
    "plt.show()"
   ]
  },
  {
   "cell_type": "code",
   "execution_count": null,
   "metadata": {},
   "outputs": [
    {
     "data": {
      "text/html": [
       "<div>\n",
       "<style scoped>\n",
       "    .dataframe tbody tr th:only-of-type {\n",
       "        vertical-align: middle;\n",
       "    }\n",
       "\n",
       "    .dataframe tbody tr th {\n",
       "        vertical-align: top;\n",
       "    }\n",
       "\n",
       "    .dataframe thead th {\n",
       "        text-align: right;\n",
       "    }\n",
       "</style>\n",
       "<table border=\"1\" class=\"dataframe\">\n",
       "  <thead>\n",
       "    <tr style=\"text-align: right;\">\n",
       "      <th></th>\n",
       "      <th>0</th>\n",
       "      <th>1</th>\n",
       "    </tr>\n",
       "  </thead>\n",
       "  <tbody>\n",
       "    <tr>\n",
       "      <th>0</th>\n",
       "      <td>2019-05-13 13:54:08</td>\n",
       "      <td>2019-05-13 05:08:27</td>\n",
       "    </tr>\n",
       "    <tr>\n",
       "      <th>1</th>\n",
       "      <td>2019-05-13 20:05:47</td>\n",
       "      <td>2019-05-13 13:54:06</td>\n",
       "    </tr>\n",
       "    <tr>\n",
       "      <th>2</th>\n",
       "      <td>2019-05-14 06:49:35</td>\n",
       "      <td>2019-05-13 20:05:45</td>\n",
       "    </tr>\n",
       "    <tr>\n",
       "      <th>3</th>\n",
       "      <td>2019-05-14 12:34:03</td>\n",
       "      <td>2019-05-14 06:49:32</td>\n",
       "    </tr>\n",
       "    <tr>\n",
       "      <th>4</th>\n",
       "      <td>2019-05-14 19:22:36</td>\n",
       "      <td>2019-05-14 12:34:02</td>\n",
       "    </tr>\n",
       "    <tr>\n",
       "      <th>5</th>\n",
       "      <td>2019-05-15 02:00:53</td>\n",
       "      <td>2019-05-14 19:22:35</td>\n",
       "    </tr>\n",
       "    <tr>\n",
       "      <th>6</th>\n",
       "      <td>2019-05-15 09:15:34</td>\n",
       "      <td>2019-05-15 02:00:13</td>\n",
       "    </tr>\n",
       "    <tr>\n",
       "      <th>7</th>\n",
       "      <td>2019-05-15 12:39:20</td>\n",
       "      <td>2019-05-15 09:15:31</td>\n",
       "    </tr>\n",
       "    <tr>\n",
       "      <th>8</th>\n",
       "      <td>2019-05-15 16:30:06</td>\n",
       "      <td>2019-05-15 12:39:12</td>\n",
       "    </tr>\n",
       "    <tr>\n",
       "      <th>9</th>\n",
       "      <td>2019-05-16 08:01:00</td>\n",
       "      <td>2019-05-15 16:30:05</td>\n",
       "    </tr>\n",
       "    <tr>\n",
       "      <th>10</th>\n",
       "      <td>2019-05-16 11:50:43</td>\n",
       "      <td>2019-05-15 23:12:34</td>\n",
       "    </tr>\n",
       "    <tr>\n",
       "      <th>11</th>\n",
       "      <td>2019-05-16 17:48:54</td>\n",
       "      <td>2019-05-16 08:00:24</td>\n",
       "    </tr>\n",
       "    <tr>\n",
       "      <th>12</th>\n",
       "      <td>NaT</td>\n",
       "      <td>2019-05-16 11:50:06</td>\n",
       "    </tr>\n",
       "    <tr>\n",
       "      <th>13</th>\n",
       "      <td>NaT</td>\n",
       "      <td>2019-05-16 17:48:53</td>\n",
       "    </tr>\n",
       "    <tr>\n",
       "      <th>14</th>\n",
       "      <td>NaT</td>\n",
       "      <td>2019-05-17 01:06:18</td>\n",
       "    </tr>\n",
       "  </tbody>\n",
       "</table>\n",
       "</div>"
      ],
      "text/plain": [
       "                     0                   1\n",
       "0  2019-05-13 13:54:08 2019-05-13 05:08:27\n",
       "1  2019-05-13 20:05:47 2019-05-13 13:54:06\n",
       "2  2019-05-14 06:49:35 2019-05-13 20:05:45\n",
       "3  2019-05-14 12:34:03 2019-05-14 06:49:32\n",
       "4  2019-05-14 19:22:36 2019-05-14 12:34:02\n",
       "5  2019-05-15 02:00:53 2019-05-14 19:22:35\n",
       "6  2019-05-15 09:15:34 2019-05-15 02:00:13\n",
       "7  2019-05-15 12:39:20 2019-05-15 09:15:31\n",
       "8  2019-05-15 16:30:06 2019-05-15 12:39:12\n",
       "9  2019-05-16 08:01:00 2019-05-15 16:30:05\n",
       "10 2019-05-16 11:50:43 2019-05-15 23:12:34\n",
       "11 2019-05-16 17:48:54 2019-05-16 08:00:24\n",
       "12                 NaT 2019-05-16 11:50:06\n",
       "13                 NaT 2019-05-16 17:48:53\n",
       "14                 NaT 2019-05-17 01:06:18"
      ]
     },
     "execution_count": 24,
     "metadata": {},
     "output_type": "execute_result"
    }
   ],
   "source": [
    "pd.DataFrame([egtm_line, acms_line]).T"
   ]
  },
  {
   "attachments": {},
   "cell_type": "markdown",
   "metadata": {},
   "source": [
    "1. Строить по одной модели на каждый признак \n",
    "1. Более поздние на тест \n",
    "1. Модели: XGBoost, LinReg, RandomForest\n",
    "1. Составить таблицу с результатами\n",
    "1. Вначале взять только Takeoff\n",
    "1. Затем попробовать Cruise\n",
    "1. Метрика rmse \n",
    "1. Время не является признаком (только числовые фичи)\n",
    "1. Самый важный EGTMARGIN"
   ]
  },
  {
   "cell_type": "markdown",
   "metadata": {},
   "source": [
    "Подготовить функции для построения графиков predict/target"
   ]
  },
  {
   "cell_type": "markdown",
   "metadata": {},
   "source": [
    "Заказчик Шманатов"
   ]
  },
  {
   "cell_type": "markdown",
   "metadata": {},
   "source": [
    "Проблемы автокореляции? "
   ]
  }
 ],
 "metadata": {
  "kernelspec": {
   "display_name": "Python 3",
   "language": "python",
   "name": "python3"
  },
  "language_info": {
   "codemirror_mode": {
    "name": "ipython",
    "version": 3
   },
   "file_extension": ".py",
   "mimetype": "text/x-python",
   "name": "python",
   "nbconvert_exporter": "python",
   "pygments_lexer": "ipython3",
   "version": "3.11.5"
  },
  "orig_nbformat": 4,
  "vscode": {
   "interpreter": {
    "hash": "e7370f93d1d0cde622a1f8e1c04877d8463912d04d973331ad4851f04de6915a"
   }
  }
 },
 "nbformat": 4,
 "nbformat_minor": 2
}
