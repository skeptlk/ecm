{
 "cells": [
  {
   "cell_type": "markdown",
   "metadata": {},
   "source": [
    "24 November 2023\n",
    "\n",
    "Today i try to split data in chronological order and plot predictions vs actual output EGTM"
   ]
  },
  {
   "cell_type": "code",
   "execution_count": 54,
   "metadata": {},
   "outputs": [],
   "source": [
    "from sklearn.model_selection import train_test_split\n",
    "from sklearn.preprocessing import StandardScaler\n",
    "from sklearn.ensemble import GradientBoostingRegressor\n",
    "from sklearn.linear_model import LinearRegression\n",
    "from sklearn.ensemble import RandomForestRegressor\n",
    "from sklearn.metrics import mean_squared_error, mean_absolute_error\n",
    "from catboost import CatBoostRegressor\n",
    "from lightgbm import LGBMRegressor\n",
    "from xgboost import XGBRegressor\n",
    "import numpy as np"
   ]
  },
  {
   "cell_type": "code",
   "execution_count": 55,
   "metadata": {},
   "outputs": [],
   "source": [
    "import pandas as pd\n",
    "import matplotlib.pyplot as plt \n",
    "\n",
    "dataset = pd.read_csv('./takeoff-merged-VQ-BGU-30s.csv', parse_dates=['reportts']) \\\n",
    "  .sort_values('reportts')\n",
    "\n",
    "Y = dataset[['egtm']]\n",
    "\n",
    "X = dataset.drop(columns=[\n",
    "    'acnum', 'pos', 'dep', 'arr', \n",
    "    'egtm', 'fltdes', 'reportts',\n",
    "    'dmusw', 'exswpn', 'reason'\n",
    "]).fillna(0)\n",
    "\n",
    "X = X.loc[:, ~X.columns.str.contains('stw')]"
   ]
  },
  {
   "cell_type": "code",
   "execution_count": 56,
   "metadata": {},
   "outputs": [],
   "source": [
    "important_features = ['naiup', 'ecyc', 'oat', 'fdp', 'ehrs', 'tec', 't2', 'egt', 'egt_peak', 'tat', 'tat_peak']"
   ]
  },
  {
   "cell_type": "code",
   "execution_count": 57,
   "metadata": {},
   "outputs": [
    {
     "name": "stdout",
     "output_type": "stream",
     "text": [
      "Test score: RMSE= 1.2061958590226487 MAE= 0.7901938939213503\n",
      "Train score: RMSE= 0.3390596689820934 MAE= 0.2690483834788702\n"
     ]
    }
   ],
   "source": [
    "\n",
    "def get_feature_importance(X, y):\n",
    "    X_train, X_test, y_train, y_test = train_test_split(X, y, test_size=0.33, random_state=42)\n",
    "    scaler = StandardScaler()\n",
    "\n",
    "    X_train = scaler.fit_transform(X_train)\n",
    "    X_test = scaler.transform(X_test)\n",
    "\n",
    "    model = CatBoostRegressor(iterations=200, random_state=42, verbose=False)\n",
    "    model.fit(X_train, y_train)\n",
    "\n",
    "    predicted = model.predict(X_test)\n",
    "    mse = mean_squared_error(y_test, predicted, squared=False)\n",
    "    mae = mean_absolute_error(y_test, predicted)\n",
    "\n",
    "    print(\"Test score: RMSE=\", mse, \"MAE=\", mae)\n",
    "\n",
    "    predicted = model.predict(X_train)\n",
    "    mse = mean_squared_error(y_train, predicted, squared=False)\n",
    "    mae = mean_absolute_error(y_train, predicted)\n",
    "\n",
    "    print(\"Train score: RMSE=\", mse, \"MAE=\", mae)\n",
    "\n",
    "    return pd.DataFrame({\n",
    "        'importance': model.feature_importances_, \n",
    "        'feature': X.columns\n",
    "    }).sort_values('importance', ascending=False)\n",
    "\n",
    "imp = get_feature_importance(X, Y['egtm'])[:15]\n",
    "# plt.figure(figsize=(10, 4))\n",
    "# plt.bar(imp['feature'], imp['importance'])\n",
    "# plt.title('GradientBoosting 15 most important features ')\n",
    "# plt.show()\n"
   ]
  },
  {
   "cell_type": "code",
   "execution_count": 79,
   "metadata": {},
   "outputs": [
    {
     "name": "stdout",
     "output_type": "stream",
     "text": [
      "Test score: RMSE= 6.958442526144154 MAE= 5.285027687660052\n",
      "Train score: RMSE= 0.3540240579813671 MAE= 0.2713098361151786\n",
      "Train size = 1170 Test size = 502\n"
     ]
    }
   ],
   "source": [
    "def get_feature_importance(x, y):\n",
    "    # X_train, X_test, y_train, y_test = train_test_split(X, y, test_size=0.33, random_state=42)\n",
    "    \n",
    "    split_i = int(len(x) * 70 / 100)\n",
    "    X_train, y_train = x[0:split_i], y[0:split_i]\n",
    "    X_test, y_test = x[split_i:], y[split_i:]\n",
    "\n",
    "    assert len(X_test) + len(X_train) == len(x) and len(y_test) + len(y_train) == len(y)\n",
    "\n",
    "    scaler = StandardScaler()\n",
    "\n",
    "    X_train = scaler.fit_transform(X_train)\n",
    "    X_test = scaler.transform(X_test)\n",
    "\n",
    "    model = CatBoostRegressor(n_estimators=200, random_state=42, verbose=False)\n",
    "    model.fit(X_train, y_train)\n",
    "\n",
    "    predicted_test = model.predict(X_test)\n",
    "    mse = mean_squared_error(y_test, predicted_test, squared=False)\n",
    "    mae = mean_absolute_error(y_test, predicted_test)\n",
    "\n",
    "    print(\"Test score: RMSE=\", mse, \"MAE=\", mae)\n",
    "\n",
    "    predicted_train = model.predict(X_train)\n",
    "    mse = mean_squared_error(y_train, predicted_train, squared=False)\n",
    "    mae = mean_absolute_error(y_train, predicted_train)\n",
    "\n",
    "    print(\"Train score: RMSE=\", mse, \"MAE=\", mae)\n",
    "\n",
    "    print(\"Train size =\", len(X_train), \"Test size =\", len(X_test))\n",
    "\n",
    "get_feature_importance(X[important_features], Y['egtm'])\n"
   ]
  }
 ],
 "metadata": {
  "kernelspec": {
   "display_name": "recsys",
   "language": "python",
   "name": "python3"
  },
  "language_info": {
   "codemirror_mode": {
    "name": "ipython",
    "version": 3
   },
   "file_extension": ".py",
   "mimetype": "text/x-python",
   "name": "python",
   "nbconvert_exporter": "python",
   "pygments_lexer": "ipython3",
   "version": "3.9.16"
  }
 },
 "nbformat": 4,
 "nbformat_minor": 2
}
